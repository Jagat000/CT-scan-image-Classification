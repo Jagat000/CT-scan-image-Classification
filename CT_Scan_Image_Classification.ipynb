{
  "nbformat": 4,
  "nbformat_minor": 0,
  "metadata": {
    "colab": {
      "provenance": []
    },
    "kernelspec": {
      "name": "python3",
      "display_name": "Python 3"
    },
    "language_info": {
      "name": "python"
    },
    "gpuClass": "standard"
  },
  "cells": [
    {
      "cell_type": "markdown",
      "source": [
        "### Import Libraries."
      ],
      "metadata": {
        "id": "WCnA26_EFkyB"
      }
    },
    {
      "cell_type": "code",
      "execution_count": 1,
      "metadata": {
        "id": "uvWyogr4DGW_"
      },
      "outputs": [],
      "source": [
        "from tensorflow.keras.models import Sequential \n",
        "from tensorflow.keras.layers import Conv2D , MaxPooling2D, Dropout, Flatten, Dense \n",
        "from tensorflow.keras.optimizers import Adam\n",
        "from tensorflow.keras.preprocessing.image import ImageDataGenerator\n",
        "import numpy as np\n",
        "import matplotlib.pyplot as plt\n"
      ]
    },
    {
      "cell_type": "code",
      "source": [
        "from google.colab import drive"
      ],
      "metadata": {
        "id": "8KgHlDaBcaeG"
      },
      "execution_count": 2,
      "outputs": []
    },
    {
      "cell_type": "code",
      "source": [
        "!ls /content/drive/MyDrive/Capstone_project"
      ],
      "metadata": {
        "colab": {
          "base_uri": "https://localhost:8080/"
        },
        "id": "L17SHjYdkaVR",
        "outputId": "4e828115-3128-4a78-9ae4-c06beb5093d1"
      },
      "execution_count": 3,
      "outputs": [
        {
          "output_type": "stream",
          "name": "stdout",
          "text": [
            "COVID  list.obj  non-COVID\n"
          ]
        }
      ]
    },
    {
      "cell_type": "code",
      "source": [
        "import os"
      ],
      "metadata": {
        "id": "ATPrnOY_vuAB"
      },
      "execution_count": 4,
      "outputs": []
    },
    {
      "cell_type": "code",
      "source": [
        "for dirpath, dirnames, filenames in os.walk('Capstone_project'):\n",
        "  print(f\"There are {len(dirnames)} directories and {len(filenames)} images in {dirpath}\")"
      ],
      "metadata": {
        "id": "r4iFP4ZAdZLp"
      },
      "execution_count": 5,
      "outputs": []
    },
    {
      "cell_type": "code",
      "source": [
        "num_covid_images = len(os.listdir('/content/drive/MyDrive/Capstone_project/COVID'))\n",
        "num_normal_images = len(os.listdir('/content/drive/MyDrive/Capstone_project/non-COVID'))"
      ],
      "metadata": {
        "id": "rFgcY8PUebZC"
      },
      "execution_count": 6,
      "outputs": []
    },
    {
      "cell_type": "code",
      "source": [
        "num_covid_images, num_normal_images"
      ],
      "metadata": {
        "colab": {
          "base_uri": "https://localhost:8080/"
        },
        "id": "6hmIz9SPeqbn",
        "outputId": "5b76e861-1749-4aa1-af20-7b24bbede0cf"
      },
      "execution_count": 7,
      "outputs": [
        {
          "output_type": "execute_result",
          "data": {
            "text/plain": [
              "(1252, 1229)"
            ]
          },
          "metadata": {},
          "execution_count": 7
        }
      ]
    },
    {
      "cell_type": "code",
      "source": [
        "import pathlib\n",
        "data_dir = pathlib.Path('/content/drive/MyDrive/Capstone_project')\n",
        "class_names = np.array(sorted([item.name for item in data_dir.glob('*')]))\n",
        "print(class_names[0], class_names[2])"
      ],
      "metadata": {
        "colab": {
          "base_uri": "https://localhost:8080/"
        },
        "id": "n3kjNK50elP_",
        "outputId": "f6358cca-d810-4023-aaef-e3dceb5d5ee4"
      },
      "execution_count": 8,
      "outputs": [
        {
          "output_type": "stream",
          "name": "stdout",
          "text": [
            "COVID non-COVID\n"
          ]
        }
      ]
    },
    {
      "cell_type": "code",
      "source": [
        "import matplotlib.image as mpimg\n",
        "import random\n",
        "def view_random_image(target_dir, target_class):\n",
        "\n",
        "  target_folder = target_dir + '/' + target_class\n",
        "  random_image = random.sample(os.listdir(target_folder), 1)\n",
        "\n",
        "  img = mpimg.imread(target_folder + '/' + random_image[0])\n",
        "  plt.imshow(img)\n",
        "  plt.title(target_class)\n",
        "  plt.axis('off');\n",
        "  print(f\"Image shape: {img.shape}\")\n",
        "\n",
        "  return img"
      ],
      "metadata": {
        "id": "Poaew9myhTGD"
      },
      "execution_count": 9,
      "outputs": []
    },
    {
      "cell_type": "code",
      "source": [
        "img  = view_random_image('/content/drive/MyDrive/Capstone_project', 'non-COVID')"
      ],
      "metadata": {
        "id": "TUehnQkdTwW0",
        "colab": {
          "base_uri": "https://localhost:8080/",
          "height": 281
        },
        "outputId": "23bed75a-638c-40a2-f0db-64d12c2f4eb1"
      },
      "execution_count": 10,
      "outputs": [
        {
          "output_type": "stream",
          "name": "stdout",
          "text": [
            "Image shape: (286, 357, 4)\n"
          ]
        },
        {
          "output_type": "display_data",
          "data": {
            "text/plain": [
              "<Figure size 432x288 with 1 Axes>"
            ],
            "image/png": "[encoded data removed]"
          },
          "metadata": {
            "needs_background": "light"
          }
        }
      ]
    },
    {
      "cell_type": "code",
      "source": [
        "img = view_random_image('/content/drive/MyDrive/Capstone_project', 'COVID')"
      ],
      "metadata": {
        "colab": {
          "base_uri": "https://localhost:8080/",
          "height": 281
        },
        "id": "XUhP07myjdjw",
        "outputId": "b7c6d87b-0136-4d44-b31c-89c29d62e2a4"
      },
      "execution_count": 11,
      "outputs": [
        {
          "output_type": "stream",
          "name": "stdout",
          "text": [
            "Image shape: (300, 401, 4)\n"
          ]
        },
        {
          "output_type": "display_data",
          "data": {
            "text/plain": [
              "<Figure size 432x288 with 1 Axes>"
            ],
            "image/png": "[encoded data removed]"
          },
          "metadata": {
            "needs_background": "light"
          }
        }
      ]
    },
    {
      "cell_type": "code",
      "source": [
        "img"
      ],
      "metadata": {
        "colab": {
          "base_uri": "https://localhost:8080/"
        },
        "id": "0EeQ4BTdlCBP",
        "outputId": "0011a195-d39d-4a51-c548-a275cffa9bfa"
      },
      "execution_count": 12,
      "outputs": [
        {
          "output_type": "execute_result",
          "data": {
            "text/plain": [
              "array([[[0.27450982, 0.27450982, 0.27450982, 1.        ],\n",
              "        [0.25882354, 0.25882354, 0.25882354, 1.        ],\n",
              "        [0.23529412, 0.23529412, 0.23529412, 1.        ],\n",
              "        ...,\n",
              "        [0.00392157, 0.00392157, 0.00392157, 1.        ],\n",
              "        [0.00392157, 0.00392157, 0.00392157, 1.        ],\n",
              "        [0.00392157, 0.00392157, 0.00392157, 1.        ]],\n",
              "\n",
              "       [[0.21568628, 0.21568628, 0.21568628, 1.        ],\n",
              "        [0.24705882, 0.24705882, 0.24705882, 1.        ],\n",
              "        [0.27450982, 0.27450982, 0.27450982, 1.        ],\n",
              "        ...,\n",
              "        [0.00392157, 0.00392157, 0.00392157, 1.        ],\n",
              "        [0.00392157, 0.00392157, 0.00392157, 1.        ],\n",
              "        [0.00392157, 0.00392157, 0.00392157, 1.        ]],\n",
              "\n",
              "       [[0.24705882, 0.24705882, 0.24705882, 1.        ],\n",
              "        [0.24705882, 0.24705882, 0.24705882, 1.        ],\n",
              "        [0.24705882, 0.24705882, 0.24705882, 1.        ],\n",
              "        ...,\n",
              "        [0.01568628, 0.01568628, 0.01568628, 1.        ],\n",
              "        [0.00392157, 0.00392157, 0.00392157, 1.        ],\n",
              "        [0.        , 0.        , 0.        , 1.        ]],\n",
              "\n",
              "       ...,\n",
              "\n",
              "       [[0.3372549 , 0.3372549 , 0.3372549 , 1.        ],\n",
              "        [0.40392157, 0.40392157, 0.40392157, 1.        ],\n",
              "        [0.41960785, 0.41960785, 0.41960785, 1.        ],\n",
              "        ...,\n",
              "        [0.2901961 , 0.2901961 , 0.2901961 , 1.        ],\n",
              "        [0.3137255 , 0.3137255 , 0.3137255 , 1.        ],\n",
              "        [0.3019608 , 0.3019608 , 0.3019608 , 1.        ]],\n",
              "\n",
              "       [[0.28627452, 0.28627452, 0.28627452, 1.        ],\n",
              "        [0.32941177, 0.32941177, 0.32941177, 1.        ],\n",
              "        [0.38039216, 0.38039216, 0.38039216, 1.        ],\n",
              "        ...,\n",
              "        [0.27450982, 0.27450982, 0.27450982, 1.        ],\n",
              "        [0.27450982, 0.27450982, 0.27450982, 1.        ],\n",
              "        [0.28627452, 0.28627452, 0.28627452, 1.        ]],\n",
              "\n",
              "       [[0.26666668, 0.26666668, 0.26666668, 1.        ],\n",
              "        [0.2901961 , 0.2901961 , 0.2901961 , 1.        ],\n",
              "        [0.32156864, 0.32156864, 0.32156864, 1.        ],\n",
              "        ...,\n",
              "        [0.27058825, 0.27058825, 0.27058825, 1.        ],\n",
              "        [0.26666668, 0.26666668, 0.26666668, 1.        ],\n",
              "        [0.27450982, 0.27450982, 0.27450982, 1.        ]]], dtype=float32)"
            ]
          },
          "metadata": {},
          "execution_count": 12
        }
      ]
    },
    {
      "cell_type": "markdown",
      "source": [
        "> 🔑**Note:** The images have already been preprocessed which means it has been scaled (also referred to as normalize) their pixel values by deviding the image array by 255"
      ],
      "metadata": {
        "id": "9a5a07HZlFV9"
      }
    },
    {
      "cell_type": "code",
      "source": [
        "datagen1 = ImageDataGenerator(rescale=1/255.)"
      ],
      "metadata": {
        "id": "MTE6MxX4qDJP"
      },
      "execution_count": 13,
      "outputs": []
    },
    {
      "cell_type": "code",
      "source": [
        "training_augmented_datagen = ImageDataGenerator(rescale=1/255.,shear_range=0.2,\n",
        "                             zoom_range=0.2,\n",
        "                             horizontal_flip=True,\n",
        "                             validation_split=0.2)\n",
        "test_datagen = ImageDataGenerator(rescale=1/255., validation_split=0.2)\n",
        "train_data = training_augmented_datagen.flow_from_directory(directory='/content/drive/MyDrive/Capstone_project',\n",
        "                                         target_size=(224,224),\n",
        "                                         class_mode='binary',\n",
        "                                         batch_size=32,\n",
        "                                         subset = 'training',\n",
        "                                         shuffle=False)\n",
        "\n",
        "test_data = test_datagen.flow_from_directory(directory='/content/drive/MyDrive/Capstone_project',\n",
        "                                         target_size=(224,224),\n",
        "                                         class_mode='binary',\n",
        "                                        batch_size=32,\n",
        "                                         subset = 'validation',\n",
        "                                         shuffle=True)\n"
      ],
      "metadata": {
        "colab": {
          "base_uri": "https://localhost:8080/"
        },
        "id": "2qjfNYR5u1kB",
        "outputId": "86bafa85-bc90-44df-a660-2ba26e52e58d"
      },
      "execution_count": 14,
      "outputs": [
        {
          "output_type": "stream",
          "name": "stdout",
          "text": [
            "Found 1985 images belonging to 2 classes.\n",
            "Found 495 images belonging to 2 classes.\n"
          ]
        }
      ]
    },
    {
      "cell_type": "code",
      "source": [
        "train_data.classes"
      ],
      "metadata": {
        "colab": {
          "base_uri": "https://localhost:8080/"
        },
        "id": "O1Y7SshL-NVK",
        "outputId": "638baa02-a9ec-4624-9352-87fde4012361"
      },
      "execution_count": 18,
      "outputs": [
        {
          "output_type": "execute_result",
          "data": {
            "text/plain": [
              "array([0, 0, 0, ..., 1, 1, 1], dtype=int32)"
            ]
          },
          "metadata": {},
          "execution_count": 18
        }
      ]
    },
    {
      "cell_type": "code",
      "source": [
        "train_data.image_shape"
      ],
      "metadata": {
        "colab": {
          "base_uri": "https://localhost:8080/"
        },
        "id": "QjJbsNGw-dAE",
        "outputId": "2683a028-fd20-4fac-aba0-a711e196162d"
      },
      "execution_count": 55,
      "outputs": [
        {
          "output_type": "execute_result",
          "data": {
            "text/plain": [
              "(224, 224, 3)"
            ]
          },
          "metadata": {},
          "execution_count": 55
        }
      ]
    },
    {
      "cell_type": "code",
      "source": [
        "augmented_images, augmented_labels = train_data.next()"
      ],
      "metadata": {
        "id": "3ggiE79T43hH"
      },
      "execution_count": 49,
      "outputs": []
    },
    {
      "cell_type": "code",
      "source": [
        "import random\n",
        "random_number = random.randint(0, 32) \n",
        "print(f\"showing image number: {random_number}\")\n",
        "plt.imshow(augmented_images[random_number])\n",
        "plt.title(f\"augmented_image\")\n",
        "plt.axis(False);"
      ],
      "metadata": {
        "colab": {
          "base_uri": "https://localhost:8080/",
          "height": 281
        },
        "id": "1VX_U3OW7uBQ",
        "outputId": "101a14c2-d102-45cc-9035-6256e2bcf513"
      },
      "execution_count": 51,
      "outputs": [
        {
          "output_type": "stream",
          "name": "stdout",
          "text": [
            "showing image number: 26\n"
          ]
        },
        {
          "output_type": "display_data",
          "data": {
            "text/plain": [
              "<Figure size 432x288 with 1 Axes>"
            ],
            "image/png": "[encoded data removed]"
          },
          "metadata": {
            "needs_background": "light"
          }
        }
      ]
    },
    {
      "cell_type": "code",
      "source": [
        "def plot_loss_curves(history):\n",
        "  \"\"\"\n",
        "  Returns separate loss curves forr training and validation metrics.\n",
        "  \"\"\"\n",
        "  loss = history.history['loss']\n",
        "  val_loss = history.history['val_loss']\n",
        "\n",
        "  accuracy = history.history['accuracy']\n",
        "  val_accuracy = history.history['val_accuracy']\n",
        "\n",
        "  epochs = range(len(history.history['loss']))\n",
        "\n",
        "  # Plot loss\n",
        "  plt.plot(epochs, loss, label='training_loss')\n",
        "  plt.plot(epochs, val_loss, label='val_loss')\n",
        "  plt.title('Loss')\n",
        "  plt.xlabel('Epochs')\n",
        "  plt.legend()\n",
        "\n",
        "  # Plot accuracy\n",
        "  plt.figure()\n",
        "  plt.plot(epochs, accuracy, label='training_accuracy')\n",
        "  plt.plot(epochs, val_accuracy, label='val_accuracy')\n",
        "  plt.title('Accuracy')\n",
        "  plt.xlabel('Epochs')\n",
        "  plt.legend();"
      ],
      "metadata": {
        "id": "C5WnSY6vpTD6"
      },
      "execution_count": 130,
      "outputs": []
    },
    {
      "cell_type": "code",
      "source": [
        "base_model = Sequential()\n",
        "\n",
        "# Filters, size of filters, paddings, activation_function, input_shape\n",
        "base_model.add(Conv2D(32, 3, padding='Same', activation='relu', input_shape=(224,224,3)))\n",
        "base_model.add(Conv2D(32, 3, padding='Same', activation='relu'))\n",
        "# pooling layer\n",
        "base_model.add(MaxPooling2D(pool_size=(2,2)))\n",
        "# Place a Dropout layer\n",
        "base_model.add(Dropout(0.5))\n",
        "# Add another conv layer\n",
        "base_model.add(Conv2D(64, 3, padding='Same', activation='relu'))\n",
        "# pooling layer\n",
        "base_model.add(Conv2D(64, 3, padding='Same', activation='relu'))\n",
        "base_model.add(MaxPooling2D(pool_size=(2,2)))\n",
        "# place a dropout layer\n",
        "base_model.add(Dropout(0.5))\n",
        "# Flatten layer\n",
        "base_model.add(Flatten())\n",
        "# Add a Dense layer\n",
        "base_model.add(Dense(100, activation='relu'))\n",
        "\n",
        "# place a dropout layer\n",
        "# 0.5 is recommended, half input nodes will be dropped at each update\n",
        "base_model.add(Dense(1, activation='sigmoid'))\n",
        "base_model.summary()\n",
        "\n"
      ],
      "metadata": {
        "colab": {
          "base_uri": "https://localhost:8080/"
        },
        "id": "uNsdaftO-ZCL",
        "outputId": "cd4c590b-b83d-4a41-b045-23123aabf9af"
      },
      "execution_count": 69,
      "outputs": [
        {
          "output_type": "stream",
          "name": "stdout",
          "text": [
            "Model: \"sequential_7\"\n",
            "_________________________________________________________________\n",
            " Layer (type)                Output Shape              Param #   \n",
            "=================================================================\n",
            " conv2d_13 (Conv2D)          (None, 224, 224, 32)      896       \n",
            "                                                                 \n",
            " conv2d_14 (Conv2D)          (None, 224, 224, 32)      9248      \n",
            "                                                                 \n",
            " max_pooling2d_12 (MaxPoolin  (None, 112, 112, 32)     0         \n",
            " g2D)                                                            \n",
            "                                                                 \n",
            " dropout_14 (Dropout)        (None, 112, 112, 32)      0         \n",
            "                                                                 \n",
            " conv2d_15 (Conv2D)          (None, 112, 112, 64)      18496     \n",
            "                                                                 \n",
            " conv2d_16 (Conv2D)          (None, 112, 112, 64)      36928     \n",
            "                                                                 \n",
            " max_pooling2d_13 (MaxPoolin  (None, 56, 56, 64)       0         \n",
            " g2D)                                                            \n",
            "                                                                 \n",
            " dropout_15 (Dropout)        (None, 56, 56, 64)        0         \n",
            "                                                                 \n",
            " flatten_4 (Flatten)         (None, 200704)            0         \n",
            "                                                                 \n",
            " dense_10 (Dense)            (None, 100)               20070500  \n",
            "                                                                 \n",
            " dense_11 (Dense)            (None, 1)                 101       \n",
            "                                                                 \n",
            "=================================================================\n",
            "Total params: 20,136,169\n",
            "Trainable params: 20,136,169\n",
            "Non-trainable params: 0\n",
            "_________________________________________________________________\n"
          ]
        }
      ]
    },
    {
      "cell_type": "code",
      "source": [
        "base_model.compile(optimizer=Adam(0.001),\n",
        "                   loss='binary_crossentropy',\n",
        "                   metrics=['accuracy'])"
      ],
      "metadata": {
        "id": "WTtHQN9LA31I"
      },
      "execution_count": 70,
      "outputs": []
    },
    {
      "cell_type": "code",
      "source": [
        "base_model_history = base_model.fit(train_data,\n",
        "                                    epochs=30,\n",
        "                                    validation_data=test_data,\n",
        "                                    steps_per_epoch=len(train_data),\n",
        "                                    validation_steps=len(test_data))"
      ],
      "metadata": {
        "colab": {
          "base_uri": "https://localhost:8080/",
          "height": 484
        },
        "id": "ayD38GqRCWiQ",
        "outputId": "43445aea-ed4a-43ee-ea31-15fceab944a8"
      },
      "execution_count": 73,
      "outputs": [
        {
          "output_type": "stream",
          "name": "stdout",
          "text": [
            "Epoch 1/30\n",
            "63/63 [==============================] - 39s 611ms/step - loss: 0.6933 - accuracy: 0.4957 - val_loss: 0.6932 - val_accuracy: 0.4949\n",
            "Epoch 2/30\n",
            "63/63 [==============================] - 42s 659ms/step - loss: 0.6934 - accuracy: 0.4957 - val_loss: 0.6932 - val_accuracy: 0.4949\n",
            "Epoch 3/30\n",
            "63/63 [==============================] - ETA: 0s - loss: 0.6932 - accuracy: 0.4957"
          ]
        },
        {
          "output_type": "error",
          "ename": "KeyboardInterrupt",
          "evalue": "ignored",
          "traceback": [
            "\u001b[0;31m---------------------------------------------------------------------------\u001b[0m",
            "\u001b[0;31mKeyboardInterrupt\u001b[0m                         Traceback (most recent call last)",
            "\u001b[0;32m<ipython-input-73-0611572f6ce5>\u001b[0m in \u001b[0;36m<module>\u001b[0;34m\u001b[0m\n\u001b[0;32m----> 1\u001b[0;31m base_model_history = base_model.fit(train_data,\n\u001b[0m\u001b[1;32m      2\u001b[0m                                     \u001b[0mepochs\u001b[0m\u001b[0;34m=\u001b[0m\u001b[0;36m30\u001b[0m\u001b[0;34m,\u001b[0m\u001b[0;34m\u001b[0m\u001b[0;34m\u001b[0m\u001b[0m\n\u001b[1;32m      3\u001b[0m                                     \u001b[0mvalidation_data\u001b[0m\u001b[0;34m=\u001b[0m\u001b[0mtest_data\u001b[0m\u001b[0;34m,\u001b[0m\u001b[0;34m\u001b[0m\u001b[0;34m\u001b[0m\u001b[0m\n\u001b[1;32m      4\u001b[0m                                     \u001b[0msteps_per_epoch\u001b[0m\u001b[0;34m=\u001b[0m\u001b[0mlen\u001b[0m\u001b[0;34m(\u001b[0m\u001b[0mtrain_data\u001b[0m\u001b[0;34m)\u001b[0m\u001b[0;34m,\u001b[0m\u001b[0;34m\u001b[0m\u001b[0;34m\u001b[0m\u001b[0m\n\u001b[1;32m      5\u001b[0m                                     validation_steps=len(test_data))\n",
            "\u001b[0;32m/usr/local/lib/python3.8/dist-packages/keras/utils/traceback_utils.py\u001b[0m in \u001b[0;36merror_handler\u001b[0;34m(*args, **kwargs)\u001b[0m\n\u001b[1;32m     63\u001b[0m         \u001b[0mfiltered_tb\u001b[0m \u001b[0;34m=\u001b[0m \u001b[0;32mNone\u001b[0m\u001b[0;34m\u001b[0m\u001b[0;34m\u001b[0m\u001b[0m\n\u001b[1;32m     64\u001b[0m         \u001b[0;32mtry\u001b[0m\u001b[0;34m:\u001b[0m\u001b[0;34m\u001b[0m\u001b[0;34m\u001b[0m\u001b[0m\n\u001b[0;32m---> 65\u001b[0;31m             \u001b[0;32mreturn\u001b[0m \u001b[0mfn\u001b[0m\u001b[0;34m(\u001b[0m\u001b[0;34m*\u001b[0m\u001b[0margs\u001b[0m\u001b[0;34m,\u001b[0m \u001b[0;34m**\u001b[0m\u001b[0mkwargs\u001b[0m\u001b[0;34m)\u001b[0m\u001b[0;34m\u001b[0m\u001b[0;34m\u001b[0m\u001b[0m\n\u001b[0m\u001b[1;32m     66\u001b[0m         \u001b[0;32mexcept\u001b[0m \u001b[0mException\u001b[0m \u001b[0;32mas\u001b[0m \u001b[0me\u001b[0m\u001b[0;34m:\u001b[0m\u001b[0;34m\u001b[0m\u001b[0;34m\u001b[0m\u001b[0m\n\u001b[1;32m     67\u001b[0m             \u001b[0mfiltered_tb\u001b[0m \u001b[0;34m=\u001b[0m \u001b[0m_process_traceback_frames\u001b[0m\u001b[0;34m(\u001b[0m\u001b[0me\u001b[0m\u001b[0;34m.\u001b[0m\u001b[0m__traceback__\u001b[0m\u001b[0;34m)\u001b[0m\u001b[0;34m\u001b[0m\u001b[0;34m\u001b[0m\u001b[0m\n",
            "\u001b[0;32m/usr/local/lib/python3.8/dist-packages/keras/engine/training.py\u001b[0m in \u001b[0;36mfit\u001b[0;34m(self, x, y, batch_size, epochs, verbose, callbacks, validation_split, validation_data, shuffle, class_weight, sample_weight, initial_epoch, steps_per_epoch, validation_steps, validation_batch_size, validation_freq, max_queue_size, workers, use_multiprocessing)\u001b[0m\n\u001b[1;32m   1692\u001b[0m                             \u001b[0msteps_per_execution\u001b[0m\u001b[0;34m=\u001b[0m\u001b[0mself\u001b[0m\u001b[0;34m.\u001b[0m\u001b[0m_steps_per_execution\u001b[0m\u001b[0;34m,\u001b[0m\u001b[0;34m\u001b[0m\u001b[0;34m\u001b[0m\u001b[0m\n\u001b[1;32m   1693\u001b[0m                         )\n\u001b[0;32m-> 1694\u001b[0;31m                     val_logs = self.evaluate(\n\u001b[0m\u001b[1;32m   1695\u001b[0m                         \u001b[0mx\u001b[0m\u001b[0;34m=\u001b[0m\u001b[0mval_x\u001b[0m\u001b[0;34m,\u001b[0m\u001b[0;34m\u001b[0m\u001b[0;34m\u001b[0m\u001b[0m\n\u001b[1;32m   1696\u001b[0m                         \u001b[0my\u001b[0m\u001b[0;34m=\u001b[0m\u001b[0mval_y\u001b[0m\u001b[0;34m,\u001b[0m\u001b[0;34m\u001b[0m\u001b[0;34m\u001b[0m\u001b[0m\n",
            "\u001b[0;32m/usr/local/lib/python3.8/dist-packages/keras/utils/traceback_utils.py\u001b[0m in \u001b[0;36merror_handler\u001b[0;34m(*args, **kwargs)\u001b[0m\n\u001b[1;32m     63\u001b[0m         \u001b[0mfiltered_tb\u001b[0m \u001b[0;34m=\u001b[0m \u001b[0;32mNone\u001b[0m\u001b[0;34m\u001b[0m\u001b[0;34m\u001b[0m\u001b[0m\n\u001b[1;32m     64\u001b[0m         \u001b[0;32mtry\u001b[0m\u001b[0;34m:\u001b[0m\u001b[0;34m\u001b[0m\u001b[0;34m\u001b[0m\u001b[0m\n\u001b[0;32m---> 65\u001b[0;31m             \u001b[0;32mreturn\u001b[0m \u001b[0mfn\u001b[0m\u001b[0;34m(\u001b[0m\u001b[0;34m*\u001b[0m\u001b[0margs\u001b[0m\u001b[0;34m,\u001b[0m \u001b[0;34m**\u001b[0m\u001b[0mkwargs\u001b[0m\u001b[0;34m)\u001b[0m\u001b[0;34m\u001b[0m\u001b[0;34m\u001b[0m\u001b[0m\n\u001b[0m\u001b[1;32m     66\u001b[0m         \u001b[0;32mexcept\u001b[0m \u001b[0mException\u001b[0m \u001b[0;32mas\u001b[0m \u001b[0me\u001b[0m\u001b[0;34m:\u001b[0m\u001b[0;34m\u001b[0m\u001b[0;34m\u001b[0m\u001b[0m\n\u001b[1;32m     67\u001b[0m             \u001b[0mfiltered_tb\u001b[0m \u001b[0;34m=\u001b[0m \u001b[0m_process_traceback_frames\u001b[0m\u001b[0;34m(\u001b[0m\u001b[0me\u001b[0m\u001b[0;34m.\u001b[0m\u001b[0m__traceback__\u001b[0m\u001b[0;34m)\u001b[0m\u001b[0;34m\u001b[0m\u001b[0;34m\u001b[0m\u001b[0m\n",
            "\u001b[0;32m/usr/local/lib/python3.8/dist-packages/keras/engine/training.py\u001b[0m in \u001b[0;36mevaluate\u001b[0;34m(self, x, y, batch_size, verbose, sample_weight, steps, callbacks, max_queue_size, workers, use_multiprocessing, return_dict, **kwargs)\u001b[0m\n\u001b[1;32m   2038\u001b[0m                         ):\n\u001b[1;32m   2039\u001b[0m                             \u001b[0mcallbacks\u001b[0m\u001b[0;34m.\u001b[0m\u001b[0mon_test_batch_begin\u001b[0m\u001b[0;34m(\u001b[0m\u001b[0mstep\u001b[0m\u001b[0;34m)\u001b[0m\u001b[0;34m\u001b[0m\u001b[0;34m\u001b[0m\u001b[0m\n\u001b[0;32m-> 2040\u001b[0;31m                             \u001b[0mtmp_logs\u001b[0m \u001b[0;34m=\u001b[0m \u001b[0mself\u001b[0m\u001b[0;34m.\u001b[0m\u001b[0mtest_function\u001b[0m\u001b[0;34m(\u001b[0m\u001b[0miterator\u001b[0m\u001b[0;34m)\u001b[0m\u001b[0;34m\u001b[0m\u001b[0;34m\u001b[0m\u001b[0m\n\u001b[0m\u001b[1;32m   2041\u001b[0m                             \u001b[0;32mif\u001b[0m \u001b[0mdata_handler\u001b[0m\u001b[0;34m.\u001b[0m\u001b[0mshould_sync\u001b[0m\u001b[0;34m:\u001b[0m\u001b[0;34m\u001b[0m\u001b[0;34m\u001b[0m\u001b[0m\n\u001b[1;32m   2042\u001b[0m                                 \u001b[0mcontext\u001b[0m\u001b[0;34m.\u001b[0m\u001b[0masync_wait\u001b[0m\u001b[0;34m(\u001b[0m\u001b[0;34m)\u001b[0m\u001b[0;34m\u001b[0m\u001b[0;34m\u001b[0m\u001b[0m\n",
            "\u001b[0;32m/usr/local/lib/python3.8/dist-packages/tensorflow/python/util/traceback_utils.py\u001b[0m in \u001b[0;36merror_handler\u001b[0;34m(*args, **kwargs)\u001b[0m\n\u001b[1;32m    148\u001b[0m     \u001b[0mfiltered_tb\u001b[0m \u001b[0;34m=\u001b[0m \u001b[0;32mNone\u001b[0m\u001b[0;34m\u001b[0m\u001b[0;34m\u001b[0m\u001b[0m\n\u001b[1;32m    149\u001b[0m     \u001b[0;32mtry\u001b[0m\u001b[0;34m:\u001b[0m\u001b[0;34m\u001b[0m\u001b[0;34m\u001b[0m\u001b[0m\n\u001b[0;32m--> 150\u001b[0;31m       \u001b[0;32mreturn\u001b[0m \u001b[0mfn\u001b[0m\u001b[0;34m(\u001b[0m\u001b[0;34m*\u001b[0m\u001b[0margs\u001b[0m\u001b[0;34m,\u001b[0m \u001b[0;34m**\u001b[0m\u001b[0mkwargs\u001b[0m\u001b[0;34m)\u001b[0m\u001b[0;34m\u001b[0m\u001b[0;34m\u001b[0m\u001b[0m\n\u001b[0m\u001b[1;32m    151\u001b[0m     \u001b[0;32mexcept\u001b[0m \u001b[0mException\u001b[0m \u001b[0;32mas\u001b[0m \u001b[0me\u001b[0m\u001b[0;34m:\u001b[0m\u001b[0;34m\u001b[0m\u001b[0;34m\u001b[0m\u001b[0m\n\u001b[1;32m    152\u001b[0m       \u001b[0mfiltered_tb\u001b[0m \u001b[0;34m=\u001b[0m \u001b[0m_process_traceback_frames\u001b[0m\u001b[0;34m(\u001b[0m\u001b[0me\u001b[0m\u001b[0;34m.\u001b[0m\u001b[0m__traceback__\u001b[0m\u001b[0;34m)\u001b[0m\u001b[0;34m\u001b[0m\u001b[0;34m\u001b[0m\u001b[0m\n",
            "\u001b[0;32m/usr/local/lib/python3.8/dist-packages/tensorflow/python/eager/polymorphic_function/polymorphic_function.py\u001b[0m in \u001b[0;36m__call__\u001b[0;34m(self, *args, **kwds)\u001b[0m\n\u001b[1;32m    878\u001b[0m \u001b[0;34m\u001b[0m\u001b[0m\n\u001b[1;32m    879\u001b[0m       \u001b[0;32mwith\u001b[0m \u001b[0mOptionalXlaContext\u001b[0m\u001b[0;34m(\u001b[0m\u001b[0mself\u001b[0m\u001b[0;34m.\u001b[0m\u001b[0m_jit_compile\u001b[0m\u001b[0;34m)\u001b[0m\u001b[0;34m:\u001b[0m\u001b[0;34m\u001b[0m\u001b[0;34m\u001b[0m\u001b[0m\n\u001b[0;32m--> 880\u001b[0;31m         \u001b[0mresult\u001b[0m \u001b[0;34m=\u001b[0m \u001b[0mself\u001b[0m\u001b[0;34m.\u001b[0m\u001b[0m_call\u001b[0m\u001b[0;34m(\u001b[0m\u001b[0;34m*\u001b[0m\u001b[0margs\u001b[0m\u001b[0;34m,\u001b[0m \u001b[0;34m**\u001b[0m\u001b[0mkwds\u001b[0m\u001b[0;34m)\u001b[0m\u001b[0;34m\u001b[0m\u001b[0;34m\u001b[0m\u001b[0m\n\u001b[0m\u001b[1;32m    881\u001b[0m \u001b[0;34m\u001b[0m\u001b[0m\n\u001b[1;32m    882\u001b[0m       \u001b[0mnew_tracing_count\u001b[0m \u001b[0;34m=\u001b[0m \u001b[0mself\u001b[0m\u001b[0;34m.\u001b[0m\u001b[0mexperimental_get_tracing_count\u001b[0m\u001b[0;34m(\u001b[0m\u001b[0;34m)\u001b[0m\u001b[0;34m\u001b[0m\u001b[0;34m\u001b[0m\u001b[0m\n",
            "\u001b[0;32m/usr/local/lib/python3.8/dist-packages/tensorflow/python/eager/polymorphic_function/polymorphic_function.py\u001b[0m in \u001b[0;36m_call\u001b[0;34m(self, *args, **kwds)\u001b[0m\n\u001b[1;32m    917\u001b[0m       \u001b[0;31m# In this case we have not created variables on the first call. So we can\u001b[0m\u001b[0;34m\u001b[0m\u001b[0;34m\u001b[0m\u001b[0;34m\u001b[0m\u001b[0m\n\u001b[1;32m    918\u001b[0m       \u001b[0;31m# run the first trace but we should fail if variables are created.\u001b[0m\u001b[0;34m\u001b[0m\u001b[0;34m\u001b[0m\u001b[0;34m\u001b[0m\u001b[0m\n\u001b[0;32m--> 919\u001b[0;31m       \u001b[0mresults\u001b[0m \u001b[0;34m=\u001b[0m \u001b[0mself\u001b[0m\u001b[0;34m.\u001b[0m\u001b[0m_variable_creation_fn\u001b[0m\u001b[0;34m(\u001b[0m\u001b[0;34m*\u001b[0m\u001b[0margs\u001b[0m\u001b[0;34m,\u001b[0m \u001b[0;34m**\u001b[0m\u001b[0mkwds\u001b[0m\u001b[0;34m)\u001b[0m\u001b[0;34m\u001b[0m\u001b[0;34m\u001b[0m\u001b[0m\n\u001b[0m\u001b[1;32m    920\u001b[0m       \u001b[0;32mif\u001b[0m \u001b[0mself\u001b[0m\u001b[0;34m.\u001b[0m\u001b[0m_created_variables\u001b[0m \u001b[0;32mand\u001b[0m \u001b[0;32mnot\u001b[0m \u001b[0mALLOW_DYNAMIC_VARIABLE_CREATION\u001b[0m\u001b[0;34m:\u001b[0m\u001b[0;34m\u001b[0m\u001b[0;34m\u001b[0m\u001b[0m\n\u001b[1;32m    921\u001b[0m         raise ValueError(\"Creating variables on a non-first call to a function\"\n",
            "\u001b[0;32m/usr/local/lib/python3.8/dist-packages/tensorflow/python/eager/polymorphic_function/tracing_compiler.py\u001b[0m in \u001b[0;36m__call__\u001b[0;34m(self, *args, **kwargs)\u001b[0m\n\u001b[1;32m    132\u001b[0m       (concrete_function,\n\u001b[1;32m    133\u001b[0m        filtered_flat_args) = self._maybe_define_function(args, kwargs)\n\u001b[0;32m--> 134\u001b[0;31m     return concrete_function._call_flat(\n\u001b[0m\u001b[1;32m    135\u001b[0m         filtered_flat_args, captured_inputs=concrete_function.captured_inputs)  # pylint: disable=protected-access\n\u001b[1;32m    136\u001b[0m \u001b[0;34m\u001b[0m\u001b[0m\n",
            "\u001b[0;32m/usr/local/lib/python3.8/dist-packages/tensorflow/python/eager/polymorphic_function/monomorphic_function.py\u001b[0m in \u001b[0;36m_call_flat\u001b[0;34m(self, args, captured_inputs, cancellation_manager)\u001b[0m\n\u001b[1;32m   1743\u001b[0m         and executing_eagerly):\n\u001b[1;32m   1744\u001b[0m       \u001b[0;31m# No tape is watching; skip to running the function.\u001b[0m\u001b[0;34m\u001b[0m\u001b[0;34m\u001b[0m\u001b[0;34m\u001b[0m\u001b[0m\n\u001b[0;32m-> 1745\u001b[0;31m       return self._build_call_outputs(self._inference_function.call(\n\u001b[0m\u001b[1;32m   1746\u001b[0m           ctx, args, cancellation_manager=cancellation_manager))\n\u001b[1;32m   1747\u001b[0m     forward_backward = self._select_forward_and_backward_functions(\n",
            "\u001b[0;32m/usr/local/lib/python3.8/dist-packages/tensorflow/python/eager/polymorphic_function/monomorphic_function.py\u001b[0m in \u001b[0;36mcall\u001b[0;34m(self, ctx, args, cancellation_manager)\u001b[0m\n\u001b[1;32m    376\u001b[0m       \u001b[0;32mwith\u001b[0m \u001b[0m_InterpolateFunctionError\u001b[0m\u001b[0;34m(\u001b[0m\u001b[0mself\u001b[0m\u001b[0;34m)\u001b[0m\u001b[0;34m:\u001b[0m\u001b[0;34m\u001b[0m\u001b[0;34m\u001b[0m\u001b[0m\n\u001b[1;32m    377\u001b[0m         \u001b[0;32mif\u001b[0m \u001b[0mcancellation_manager\u001b[0m \u001b[0;32mis\u001b[0m \u001b[0;32mNone\u001b[0m\u001b[0;34m:\u001b[0m\u001b[0;34m\u001b[0m\u001b[0;34m\u001b[0m\u001b[0m\n\u001b[0;32m--> 378\u001b[0;31m           outputs = execute.execute(\n\u001b[0m\u001b[1;32m    379\u001b[0m               \u001b[0mstr\u001b[0m\u001b[0;34m(\u001b[0m\u001b[0mself\u001b[0m\u001b[0;34m.\u001b[0m\u001b[0msignature\u001b[0m\u001b[0;34m.\u001b[0m\u001b[0mname\u001b[0m\u001b[0;34m)\u001b[0m\u001b[0;34m,\u001b[0m\u001b[0;34m\u001b[0m\u001b[0;34m\u001b[0m\u001b[0m\n\u001b[1;32m    380\u001b[0m               \u001b[0mnum_outputs\u001b[0m\u001b[0;34m=\u001b[0m\u001b[0mself\u001b[0m\u001b[0;34m.\u001b[0m\u001b[0m_num_outputs\u001b[0m\u001b[0;34m,\u001b[0m\u001b[0;34m\u001b[0m\u001b[0;34m\u001b[0m\u001b[0m\n",
            "\u001b[0;32m/usr/local/lib/python3.8/dist-packages/tensorflow/python/eager/execute.py\u001b[0m in \u001b[0;36mquick_execute\u001b[0;34m(op_name, num_outputs, inputs, attrs, ctx, name)\u001b[0m\n\u001b[1;32m     50\u001b[0m   \u001b[0;32mtry\u001b[0m\u001b[0;34m:\u001b[0m\u001b[0;34m\u001b[0m\u001b[0;34m\u001b[0m\u001b[0m\n\u001b[1;32m     51\u001b[0m     \u001b[0mctx\u001b[0m\u001b[0;34m.\u001b[0m\u001b[0mensure_initialized\u001b[0m\u001b[0;34m(\u001b[0m\u001b[0;34m)\u001b[0m\u001b[0;34m\u001b[0m\u001b[0;34m\u001b[0m\u001b[0m\n\u001b[0;32m---> 52\u001b[0;31m     tensors = pywrap_tfe.TFE_Py_Execute(ctx._handle, device_name, op_name,\n\u001b[0m\u001b[1;32m     53\u001b[0m                                         inputs, attrs, num_outputs)\n\u001b[1;32m     54\u001b[0m   \u001b[0;32mexcept\u001b[0m \u001b[0mcore\u001b[0m\u001b[0;34m.\u001b[0m\u001b[0m_NotOkStatusException\u001b[0m \u001b[0;32mas\u001b[0m \u001b[0me\u001b[0m\u001b[0;34m:\u001b[0m\u001b[0;34m\u001b[0m\u001b[0;34m\u001b[0m\u001b[0m\n",
            "\u001b[0;31mKeyboardInterrupt\u001b[0m: "
          ]
        }
      ]
    },
    {
      "cell_type": "code",
      "source": [
        "import tensorflow as tf"
      ],
      "metadata": {
        "id": "oaBW-Tu4JgPS"
      },
      "execution_count": 75,
      "outputs": []
    },
    {
      "cell_type": "code",
      "source": [
        "model_1 = tf.keras.models.Sequential([\n",
        "  tf.keras.layers.Conv2D(filters=10,\n",
        "                         kernel_size=3,\n",
        "                         activation=\"relu\",\n",
        "                         input_shape=(224, 224, 3)),\n",
        "  tf.keras.layers.Conv2D(10, 3, activation=\"relu\"),\n",
        "  tf.keras.layers.MaxPool2D(pool_size=2,\n",
        "                            padding=\"valid\"),\n",
        "  tf.keras.layers.Conv2D(10, 3, activation=\"relu\"),\n",
        "  tf.keras.layers.Conv2D(10, 3, activation=\"relu\"),\n",
        "  tf.keras.layers.MaxPool2D(2),\n",
        "  tf.keras.layers.Flatten(),\n",
        "  tf.keras.layers.Dense(1, activation=\"sigmoid\")\n",
        "])\n",
        "\n",
        "# Compile our CNN\n",
        "model_1.compile(loss=\"binary_crossentropy\",\n",
        "                optimizer=tf.keras.optimizers.Adam(),\n",
        "                metrics=[\"accuracy\"])\n",
        "\n",
        "model_1_history = model_1.fit(train_data,\n",
        "                                    epochs=30,\n",
        "                                    validation_data=test_data,\n",
        "                                    steps_per_epoch=len(train_data),\n",
        "                                    validation_steps=len(test_data))"
      ],
      "metadata": {
        "colab": {
          "base_uri": "https://localhost:8080/"
        },
        "id": "rvKMNSzICuUE",
        "outputId": "05c08339-114b-4555-eb1f-a837227793bc"
      },
      "execution_count": 76,
      "outputs": [
        {
          "output_type": "stream",
          "name": "stdout",
          "text": [
            "Epoch 1/30\n",
            "63/63 [==============================] - 39s 564ms/step - loss: 0.7251 - accuracy: 0.4458 - val_loss: 0.6927 - val_accuracy: 0.5030\n",
            "Epoch 2/30\n",
            "63/63 [==============================] - 39s 616ms/step - loss: 0.6934 - accuracy: 0.4751 - val_loss: 0.6927 - val_accuracy: 0.5758\n",
            "Epoch 3/30\n",
            "63/63 [==============================] - 37s 594ms/step - loss: 0.7114 - accuracy: 0.5547 - val_loss: 0.6912 - val_accuracy: 0.4949\n",
            "Epoch 4/30\n",
            "63/63 [==============================] - 35s 560ms/step - loss: 0.6948 - accuracy: 0.4997 - val_loss: 0.6906 - val_accuracy: 0.4929\n",
            "Epoch 5/30\n",
            "63/63 [==============================] - 36s 578ms/step - loss: 0.6888 - accuracy: 0.6010 - val_loss: 0.6839 - val_accuracy: 0.5051\n",
            "Epoch 6/30\n",
            "63/63 [==============================] - 37s 591ms/step - loss: 0.7003 - accuracy: 0.4826 - val_loss: 0.6920 - val_accuracy: 0.6101\n",
            "Epoch 7/30\n",
            "63/63 [==============================] - 38s 599ms/step - loss: 0.6944 - accuracy: 0.4927 - val_loss: 0.6918 - val_accuracy: 0.4970\n",
            "Epoch 8/30\n",
            "63/63 [==============================] - 36s 563ms/step - loss: 0.6920 - accuracy: 0.5320 - val_loss: 0.6852 - val_accuracy: 0.6040\n",
            "Epoch 9/30\n",
            "63/63 [==============================] - 37s 589ms/step - loss: 0.7355 - accuracy: 0.6015 - val_loss: 0.6913 - val_accuracy: 0.4949\n",
            "Epoch 10/30\n",
            "63/63 [==============================] - 36s 579ms/step - loss: 0.6962 - accuracy: 0.5038 - val_loss: 0.6856 - val_accuracy: 0.5576\n",
            "Epoch 11/30\n",
            "63/63 [==============================] - 35s 564ms/step - loss: 0.6927 - accuracy: 0.5033 - val_loss: 0.6920 - val_accuracy: 0.4929\n",
            "Epoch 12/30\n",
            "63/63 [==============================] - 37s 588ms/step - loss: 0.6928 - accuracy: 0.5441 - val_loss: 0.6910 - val_accuracy: 0.6242\n",
            "Epoch 13/30\n",
            "63/63 [==============================] - 37s 593ms/step - loss: 0.6863 - accuracy: 0.6272 - val_loss: 0.6830 - val_accuracy: 0.5030\n",
            "Epoch 14/30\n",
            "63/63 [==============================] - 36s 573ms/step - loss: 0.6881 - accuracy: 0.6196 - val_loss: 0.7130 - val_accuracy: 0.5091\n",
            "Epoch 15/30\n",
            "63/63 [==============================] - 37s 585ms/step - loss: 0.7350 - accuracy: 0.5814 - val_loss: 0.6786 - val_accuracy: 0.5737\n",
            "Epoch 16/30\n",
            "63/63 [==============================] - 36s 580ms/step - loss: 0.8783 - accuracy: 0.6297 - val_loss: 0.6840 - val_accuracy: 0.5939\n",
            "Epoch 17/30\n",
            "63/63 [==============================] - 36s 567ms/step - loss: 0.6941 - accuracy: 0.5798 - val_loss: 0.6827 - val_accuracy: 0.6404\n",
            "Epoch 18/30\n",
            "63/63 [==============================] - 36s 579ms/step - loss: 0.6847 - accuracy: 0.6035 - val_loss: 0.6675 - val_accuracy: 0.6646\n",
            "Epoch 19/30\n",
            "63/63 [==============================] - 37s 591ms/step - loss: 0.6826 - accuracy: 0.5985 - val_loss: 0.6475 - val_accuracy: 0.6667\n",
            "Epoch 20/30\n",
            "63/63 [==============================] - 35s 556ms/step - loss: 0.7184 - accuracy: 0.6574 - val_loss: 0.7018 - val_accuracy: 0.5778\n",
            "Epoch 21/30\n",
            "63/63 [==============================] - 37s 591ms/step - loss: 0.6750 - accuracy: 0.5819 - val_loss: 0.6692 - val_accuracy: 0.6101\n",
            "Epoch 22/30\n",
            "63/63 [==============================] - 37s 590ms/step - loss: 0.6447 - accuracy: 0.6237 - val_loss: 0.6241 - val_accuracy: 0.6545\n",
            "Epoch 23/30\n",
            "63/63 [==============================] - 35s 556ms/step - loss: 0.6468 - accuracy: 0.6287 - val_loss: 0.6028 - val_accuracy: 0.6848\n",
            "Epoch 24/30\n",
            "63/63 [==============================] - 38s 597ms/step - loss: 0.6232 - accuracy: 0.6816 - val_loss: 0.7172 - val_accuracy: 0.5818\n",
            "Epoch 25/30\n",
            "63/63 [==============================] - 36s 571ms/step - loss: 0.6265 - accuracy: 0.6514 - val_loss: 0.5705 - val_accuracy: 0.6788\n",
            "Epoch 26/30\n",
            "63/63 [==============================] - 36s 572ms/step - loss: 0.6350 - accuracy: 0.6484 - val_loss: 0.5880 - val_accuracy: 0.6949\n",
            "Epoch 27/30\n",
            "63/63 [==============================] - 37s 596ms/step - loss: 0.6011 - accuracy: 0.6705 - val_loss: 0.5806 - val_accuracy: 0.7030\n",
            "Epoch 28/30\n",
            "63/63 [==============================] - 36s 574ms/step - loss: 0.5602 - accuracy: 0.7184 - val_loss: 0.5278 - val_accuracy: 0.7071\n",
            "Epoch 29/30\n",
            "63/63 [==============================] - 35s 555ms/step - loss: 0.5062 - accuracy: 0.7587 - val_loss: 0.5429 - val_accuracy: 0.7212\n",
            "Epoch 30/30\n",
            "63/63 [==============================] - 36s 572ms/step - loss: 0.5027 - accuracy: 0.7627 - val_loss: 0.4984 - val_accuracy: 0.7535\n"
          ]
        }
      ]
    },
    {
      "cell_type": "code",
      "source": [
        "plot_loss_curves(model_1_history)"
      ],
      "metadata": {
        "colab": {
          "base_uri": "https://localhost:8080/",
          "height": 573
        },
        "id": "QwD5dqyppYLc",
        "outputId": "0b65286e-2545-420b-8d37-e6ff290ae61b"
      },
      "execution_count": 131,
      "outputs": [
        {
          "output_type": "display_data",
          "data": {
            "text/plain": [
              "<Figure size 432x288 with 1 Axes>"
            ],
            "image/png": "[encoded data removed]"
          },
          "metadata": {
            "needs_background": "light"
          }
        },
        {
          "output_type": "display_data",
          "data": {
            "text/plain": [
              "<Figure size 432x288 with 1 Axes>"
            ],
            "image/png": "[encoded data removed]"
          },
          "metadata": {
            "needs_background": "light"
          }
        }
      ]
    },
    {
      "cell_type": "markdown",
      "source": [
        "# Feature Extraction "
      ],
      "metadata": {
        "id": "g4Fp6geKfNPK"
      }
    },
    {
      "cell_type": "markdown",
      "source": [
        "## Resnet 50 V2 feature vector\n",
        "resnet_url = \"https://tfhub.dev/google/imagenet/resnet_v2_50/feature_vector/4\""
      ],
      "metadata": {
        "id": "Wk51BBT2OoVr"
      }
    },
    {
      "cell_type": "code",
      "source": [
        "import tensorflow as tf\n",
        "import tensorflow_hub as hub\n",
        "from tensorflow.keras import layers"
      ],
      "metadata": {
        "id": "kUL0QSIXV9Vo"
      },
      "execution_count": 93,
      "outputs": []
    },
    {
      "cell_type": "code",
      "source": [
        "resnet_url = \"https://tfhub.dev/google/imagenet/resnet_v2_50/feature_vector/4\""
      ],
      "metadata": {
        "id": "TELeglWVU4WX"
      },
      "execution_count": 80,
      "outputs": []
    },
    {
      "cell_type": "code",
      "source": [
        "IMAGE_SHAPE = (224,224)"
      ],
      "metadata": {
        "id": "cx-AbkniVAxM"
      },
      "execution_count": 88,
      "outputs": []
    },
    {
      "cell_type": "code",
      "source": [
        "\n",
        "def create_model(model_url, num_classes=2):\n",
        "  \"\"\"Takes a TensorFlow Hub URL and creates a Keras Sequential model with it.\n",
        "  \n",
        "  Args:\n",
        "    model_url (str): A TensorFlow Hub feature extraction URL.\n",
        "    num_classes (int): Number of output neurons in output layer,\n",
        "      should be equal to number of target classes, default 10.\n",
        "\n",
        "  Returns:\n",
        "    An uncompiled Keras Sequential model with model_url as feature\n",
        "    extractor layer and Dense output layer with num_classes outputs.\n",
        "  \"\"\"\n",
        "  # Download the pretrained model and save it as a Keras layer\n",
        "  feature_extractor_layer = hub.KerasLayer(resnet_url,\n",
        "                                           trainable=False, # freeze the underlying patterns\n",
        "                                           name='feature_extraction_layer',\n",
        "                                           input_shape=IMAGE_SHAPE+(3,)) # define the input image shape\n",
        "  \n",
        "  # Create our own model\n",
        "  model = tf.keras.Sequential([\n",
        "    feature_extractor_layer, # use the feature extraction layer as the base\n",
        "    Dense(num_classes, activation='sigmoid', name='output_layer'), # create our own output layer      \n",
        "    Flatten()\n",
        "  ])\n",
        "\n",
        "  return model\n",
        "     "
      ],
      "metadata": {
        "id": "Qs9MTTLqUkah"
      },
      "execution_count": 115,
      "outputs": []
    },
    {
      "cell_type": "code",
      "source": [
        "train_data.num_classes"
      ],
      "metadata": {
        "colab": {
          "base_uri": "https://localhost:8080/"
        },
        "id": "cumRg1iuVak8",
        "outputId": "c36857dc-fd01-486f-9494-f9ceea592711"
      },
      "execution_count": 116,
      "outputs": [
        {
          "output_type": "execute_result",
          "data": {
            "text/plain": [
              "2"
            ]
          },
          "metadata": {},
          "execution_count": 116
        }
      ]
    },
    {
      "cell_type": "code",
      "source": [
        "resnet_model = create_model(resnet_url, num_classes=train_data.num_classes)\n",
        "resnet_model.compile(loss='binary_crossentropy',\n",
        "                     optimizer=Adam(),\n",
        "                     metrics=['accuracy'])"
      ],
      "metadata": {
        "id": "yqf4qBFXVS4F"
      },
      "execution_count": 117,
      "outputs": []
    },
    {
      "cell_type": "code",
      "source": [
        "resnet_history = resnet_model.fit(train_data,\n",
        "                                    epochs=30,\n",
        "                                    validation_data=test_data,\n",
        "                                    steps_per_epoch=len(train_data),\n",
        "                                    validation_steps=int(0.25 * len(test_data)))"
      ],
      "metadata": {
        "colab": {
          "base_uri": "https://localhost:8080/",
          "height": 450
        },
        "id": "0kIKlc8jVqNf",
        "outputId": "06154c91-565e-4da7-ec02-9bcd94d853d5"
      },
      "execution_count": 118,
      "outputs": [
        {
          "output_type": "stream",
          "name": "stdout",
          "text": [
            "Epoch 1/30\n",
            "63/63 [==============================] - 40s 554ms/step - loss: 0.8684 - accuracy: 0.5093 - val_loss: 0.6952 - val_accuracy: 0.4531\n",
            "Epoch 2/30\n",
            "55/63 [=========================>....] - ETA: 4s - loss: 0.5466 - accuracy: 0.5228"
          ]
        },
        {
          "output_type": "error",
          "ename": "KeyboardInterrupt",
          "evalue": "ignored",
          "traceback": [
            "\u001b[0;31m---------------------------------------------------------------------------\u001b[0m",
            "\u001b[0;31mKeyboardInterrupt\u001b[0m                         Traceback (most recent call last)",
            "\u001b[0;32m<ipython-input-118-fcf8610fe182>\u001b[0m in \u001b[0;36m<module>\u001b[0;34m\u001b[0m\n\u001b[0;32m----> 1\u001b[0;31m resnet_history = resnet_model.fit(train_data,\n\u001b[0m\u001b[1;32m      2\u001b[0m                                     \u001b[0mepochs\u001b[0m\u001b[0;34m=\u001b[0m\u001b[0;36m30\u001b[0m\u001b[0;34m,\u001b[0m\u001b[0;34m\u001b[0m\u001b[0;34m\u001b[0m\u001b[0m\n\u001b[1;32m      3\u001b[0m                                     \u001b[0mvalidation_data\u001b[0m\u001b[0;34m=\u001b[0m\u001b[0mtest_data\u001b[0m\u001b[0;34m,\u001b[0m\u001b[0;34m\u001b[0m\u001b[0;34m\u001b[0m\u001b[0m\n\u001b[1;32m      4\u001b[0m                                     \u001b[0msteps_per_epoch\u001b[0m\u001b[0;34m=\u001b[0m\u001b[0mlen\u001b[0m\u001b[0;34m(\u001b[0m\u001b[0mtrain_data\u001b[0m\u001b[0;34m)\u001b[0m\u001b[0;34m,\u001b[0m\u001b[0;34m\u001b[0m\u001b[0;34m\u001b[0m\u001b[0m\n\u001b[1;32m      5\u001b[0m                                     validation_steps=int(0.25 * len(test_data)))\n",
            "\u001b[0;32m/usr/local/lib/python3.8/dist-packages/keras/utils/traceback_utils.py\u001b[0m in \u001b[0;36merror_handler\u001b[0;34m(*args, **kwargs)\u001b[0m\n\u001b[1;32m     63\u001b[0m         \u001b[0mfiltered_tb\u001b[0m \u001b[0;34m=\u001b[0m \u001b[0;32mNone\u001b[0m\u001b[0;34m\u001b[0m\u001b[0;34m\u001b[0m\u001b[0m\n\u001b[1;32m     64\u001b[0m         \u001b[0;32mtry\u001b[0m\u001b[0;34m:\u001b[0m\u001b[0;34m\u001b[0m\u001b[0;34m\u001b[0m\u001b[0m\n\u001b[0;32m---> 65\u001b[0;31m             \u001b[0;32mreturn\u001b[0m \u001b[0mfn\u001b[0m\u001b[0;34m(\u001b[0m\u001b[0;34m*\u001b[0m\u001b[0margs\u001b[0m\u001b[0;34m,\u001b[0m \u001b[0;34m**\u001b[0m\u001b[0mkwargs\u001b[0m\u001b[0;34m)\u001b[0m\u001b[0;34m\u001b[0m\u001b[0;34m\u001b[0m\u001b[0m\n\u001b[0m\u001b[1;32m     66\u001b[0m         \u001b[0;32mexcept\u001b[0m \u001b[0mException\u001b[0m \u001b[0;32mas\u001b[0m \u001b[0me\u001b[0m\u001b[0;34m:\u001b[0m\u001b[0;34m\u001b[0m\u001b[0;34m\u001b[0m\u001b[0m\n\u001b[1;32m     67\u001b[0m             \u001b[0mfiltered_tb\u001b[0m \u001b[0;34m=\u001b[0m \u001b[0m_process_traceback_frames\u001b[0m\u001b[0;34m(\u001b[0m\u001b[0me\u001b[0m\u001b[0;34m.\u001b[0m\u001b[0m__traceback__\u001b[0m\u001b[0;34m)\u001b[0m\u001b[0;34m\u001b[0m\u001b[0;34m\u001b[0m\u001b[0m\n",
            "\u001b[0;32m/usr/local/lib/python3.8/dist-packages/keras/engine/training.py\u001b[0m in \u001b[0;36mfit\u001b[0;34m(self, x, y, batch_size, epochs, verbose, callbacks, validation_split, validation_data, shuffle, class_weight, sample_weight, initial_epoch, steps_per_epoch, validation_steps, validation_batch_size, validation_freq, max_queue_size, workers, use_multiprocessing)\u001b[0m\n\u001b[1;32m   1648\u001b[0m                         ):\n\u001b[1;32m   1649\u001b[0m                             \u001b[0mcallbacks\u001b[0m\u001b[0;34m.\u001b[0m\u001b[0mon_train_batch_begin\u001b[0m\u001b[0;34m(\u001b[0m\u001b[0mstep\u001b[0m\u001b[0;34m)\u001b[0m\u001b[0;34m\u001b[0m\u001b[0;34m\u001b[0m\u001b[0m\n\u001b[0;32m-> 1650\u001b[0;31m                             \u001b[0mtmp_logs\u001b[0m \u001b[0;34m=\u001b[0m \u001b[0mself\u001b[0m\u001b[0;34m.\u001b[0m\u001b[0mtrain_function\u001b[0m\u001b[0;34m(\u001b[0m\u001b[0miterator\u001b[0m\u001b[0;34m)\u001b[0m\u001b[0;34m\u001b[0m\u001b[0;34m\u001b[0m\u001b[0m\n\u001b[0m\u001b[1;32m   1651\u001b[0m                             \u001b[0;32mif\u001b[0m \u001b[0mdata_handler\u001b[0m\u001b[0;34m.\u001b[0m\u001b[0mshould_sync\u001b[0m\u001b[0;34m:\u001b[0m\u001b[0;34m\u001b[0m\u001b[0;34m\u001b[0m\u001b[0m\n\u001b[1;32m   1652\u001b[0m                                 \u001b[0mcontext\u001b[0m\u001b[0;34m.\u001b[0m\u001b[0masync_wait\u001b[0m\u001b[0;34m(\u001b[0m\u001b[0;34m)\u001b[0m\u001b[0;34m\u001b[0m\u001b[0;34m\u001b[0m\u001b[0m\n",
            "\u001b[0;32m/usr/local/lib/python3.8/dist-packages/tensorflow/python/util/traceback_utils.py\u001b[0m in \u001b[0;36merror_handler\u001b[0;34m(*args, **kwargs)\u001b[0m\n\u001b[1;32m    148\u001b[0m     \u001b[0mfiltered_tb\u001b[0m \u001b[0;34m=\u001b[0m \u001b[0;32mNone\u001b[0m\u001b[0;34m\u001b[0m\u001b[0;34m\u001b[0m\u001b[0m\n\u001b[1;32m    149\u001b[0m     \u001b[0;32mtry\u001b[0m\u001b[0;34m:\u001b[0m\u001b[0;34m\u001b[0m\u001b[0;34m\u001b[0m\u001b[0m\n\u001b[0;32m--> 150\u001b[0;31m       \u001b[0;32mreturn\u001b[0m \u001b[0mfn\u001b[0m\u001b[0;34m(\u001b[0m\u001b[0;34m*\u001b[0m\u001b[0margs\u001b[0m\u001b[0;34m,\u001b[0m \u001b[0;34m**\u001b[0m\u001b[0mkwargs\u001b[0m\u001b[0;34m)\u001b[0m\u001b[0;34m\u001b[0m\u001b[0;34m\u001b[0m\u001b[0m\n\u001b[0m\u001b[1;32m    151\u001b[0m     \u001b[0;32mexcept\u001b[0m \u001b[0mException\u001b[0m \u001b[0;32mas\u001b[0m \u001b[0me\u001b[0m\u001b[0;34m:\u001b[0m\u001b[0;34m\u001b[0m\u001b[0;34m\u001b[0m\u001b[0m\n\u001b[1;32m    152\u001b[0m       \u001b[0mfiltered_tb\u001b[0m \u001b[0;34m=\u001b[0m \u001b[0m_process_traceback_frames\u001b[0m\u001b[0;34m(\u001b[0m\u001b[0me\u001b[0m\u001b[0;34m.\u001b[0m\u001b[0m__traceback__\u001b[0m\u001b[0;34m)\u001b[0m\u001b[0;34m\u001b[0m\u001b[0;34m\u001b[0m\u001b[0m\n",
            "\u001b[0;32m/usr/local/lib/python3.8/dist-packages/tensorflow/python/eager/polymorphic_function/polymorphic_function.py\u001b[0m in \u001b[0;36m__call__\u001b[0;34m(self, *args, **kwds)\u001b[0m\n\u001b[1;32m    878\u001b[0m \u001b[0;34m\u001b[0m\u001b[0m\n\u001b[1;32m    879\u001b[0m       \u001b[0;32mwith\u001b[0m \u001b[0mOptionalXlaContext\u001b[0m\u001b[0;34m(\u001b[0m\u001b[0mself\u001b[0m\u001b[0;34m.\u001b[0m\u001b[0m_jit_compile\u001b[0m\u001b[0;34m)\u001b[0m\u001b[0;34m:\u001b[0m\u001b[0;34m\u001b[0m\u001b[0;34m\u001b[0m\u001b[0m\n\u001b[0;32m--> 880\u001b[0;31m         \u001b[0mresult\u001b[0m \u001b[0;34m=\u001b[0m \u001b[0mself\u001b[0m\u001b[0;34m.\u001b[0m\u001b[0m_call\u001b[0m\u001b[0;34m(\u001b[0m\u001b[0;34m*\u001b[0m\u001b[0margs\u001b[0m\u001b[0;34m,\u001b[0m \u001b[0;34m**\u001b[0m\u001b[0mkwds\u001b[0m\u001b[0;34m)\u001b[0m\u001b[0;34m\u001b[0m\u001b[0;34m\u001b[0m\u001b[0m\n\u001b[0m\u001b[1;32m    881\u001b[0m \u001b[0;34m\u001b[0m\u001b[0m\n\u001b[1;32m    882\u001b[0m       \u001b[0mnew_tracing_count\u001b[0m \u001b[0;34m=\u001b[0m \u001b[0mself\u001b[0m\u001b[0;34m.\u001b[0m\u001b[0mexperimental_get_tracing_count\u001b[0m\u001b[0;34m(\u001b[0m\u001b[0;34m)\u001b[0m\u001b[0;34m\u001b[0m\u001b[0;34m\u001b[0m\u001b[0m\n",
            "\u001b[0;32m/usr/local/lib/python3.8/dist-packages/tensorflow/python/eager/polymorphic_function/polymorphic_function.py\u001b[0m in \u001b[0;36m_call\u001b[0;34m(self, *args, **kwds)\u001b[0m\n\u001b[1;32m    910\u001b[0m       \u001b[0;31m# In this case we have created variables on the first call, so we run the\u001b[0m\u001b[0;34m\u001b[0m\u001b[0;34m\u001b[0m\u001b[0;34m\u001b[0m\u001b[0m\n\u001b[1;32m    911\u001b[0m       \u001b[0;31m# defunned version which is guaranteed to never create variables.\u001b[0m\u001b[0;34m\u001b[0m\u001b[0;34m\u001b[0m\u001b[0;34m\u001b[0m\u001b[0m\n\u001b[0;32m--> 912\u001b[0;31m       \u001b[0;32mreturn\u001b[0m \u001b[0mself\u001b[0m\u001b[0;34m.\u001b[0m\u001b[0m_no_variable_creation_fn\u001b[0m\u001b[0;34m(\u001b[0m\u001b[0;34m*\u001b[0m\u001b[0margs\u001b[0m\u001b[0;34m,\u001b[0m \u001b[0;34m**\u001b[0m\u001b[0mkwds\u001b[0m\u001b[0;34m)\u001b[0m  \u001b[0;31m# pylint: disable=not-callable\u001b[0m\u001b[0;34m\u001b[0m\u001b[0;34m\u001b[0m\u001b[0m\n\u001b[0m\u001b[1;32m    913\u001b[0m     \u001b[0;32melif\u001b[0m \u001b[0mself\u001b[0m\u001b[0;34m.\u001b[0m\u001b[0m_variable_creation_fn\u001b[0m \u001b[0;32mis\u001b[0m \u001b[0;32mnot\u001b[0m \u001b[0;32mNone\u001b[0m\u001b[0;34m:\u001b[0m\u001b[0;34m\u001b[0m\u001b[0;34m\u001b[0m\u001b[0m\n\u001b[1;32m    914\u001b[0m       \u001b[0;31m# Release the lock early so that multiple threads can perform the call\u001b[0m\u001b[0;34m\u001b[0m\u001b[0;34m\u001b[0m\u001b[0;34m\u001b[0m\u001b[0m\n",
            "\u001b[0;32m/usr/local/lib/python3.8/dist-packages/tensorflow/python/eager/polymorphic_function/tracing_compiler.py\u001b[0m in \u001b[0;36m__call__\u001b[0;34m(self, *args, **kwargs)\u001b[0m\n\u001b[1;32m    132\u001b[0m       (concrete_function,\n\u001b[1;32m    133\u001b[0m        filtered_flat_args) = self._maybe_define_function(args, kwargs)\n\u001b[0;32m--> 134\u001b[0;31m     return concrete_function._call_flat(\n\u001b[0m\u001b[1;32m    135\u001b[0m         filtered_flat_args, captured_inputs=concrete_function.captured_inputs)  # pylint: disable=protected-access\n\u001b[1;32m    136\u001b[0m \u001b[0;34m\u001b[0m\u001b[0m\n",
            "\u001b[0;32m/usr/local/lib/python3.8/dist-packages/tensorflow/python/eager/polymorphic_function/monomorphic_function.py\u001b[0m in \u001b[0;36m_call_flat\u001b[0;34m(self, args, captured_inputs, cancellation_manager)\u001b[0m\n\u001b[1;32m   1743\u001b[0m         and executing_eagerly):\n\u001b[1;32m   1744\u001b[0m       \u001b[0;31m# No tape is watching; skip to running the function.\u001b[0m\u001b[0;34m\u001b[0m\u001b[0;34m\u001b[0m\u001b[0;34m\u001b[0m\u001b[0m\n\u001b[0;32m-> 1745\u001b[0;31m       return self._build_call_outputs(self._inference_function.call(\n\u001b[0m\u001b[1;32m   1746\u001b[0m           ctx, args, cancellation_manager=cancellation_manager))\n\u001b[1;32m   1747\u001b[0m     forward_backward = self._select_forward_and_backward_functions(\n",
            "\u001b[0;32m/usr/local/lib/python3.8/dist-packages/tensorflow/python/eager/polymorphic_function/monomorphic_function.py\u001b[0m in \u001b[0;36mcall\u001b[0;34m(self, ctx, args, cancellation_manager)\u001b[0m\n\u001b[1;32m    376\u001b[0m       \u001b[0;32mwith\u001b[0m \u001b[0m_InterpolateFunctionError\u001b[0m\u001b[0;34m(\u001b[0m\u001b[0mself\u001b[0m\u001b[0;34m)\u001b[0m\u001b[0;34m:\u001b[0m\u001b[0;34m\u001b[0m\u001b[0;34m\u001b[0m\u001b[0m\n\u001b[1;32m    377\u001b[0m         \u001b[0;32mif\u001b[0m \u001b[0mcancellation_manager\u001b[0m \u001b[0;32mis\u001b[0m \u001b[0;32mNone\u001b[0m\u001b[0;34m:\u001b[0m\u001b[0;34m\u001b[0m\u001b[0;34m\u001b[0m\u001b[0m\n\u001b[0;32m--> 378\u001b[0;31m           outputs = execute.execute(\n\u001b[0m\u001b[1;32m    379\u001b[0m               \u001b[0mstr\u001b[0m\u001b[0;34m(\u001b[0m\u001b[0mself\u001b[0m\u001b[0;34m.\u001b[0m\u001b[0msignature\u001b[0m\u001b[0;34m.\u001b[0m\u001b[0mname\u001b[0m\u001b[0;34m)\u001b[0m\u001b[0;34m,\u001b[0m\u001b[0;34m\u001b[0m\u001b[0;34m\u001b[0m\u001b[0m\n\u001b[1;32m    380\u001b[0m               \u001b[0mnum_outputs\u001b[0m\u001b[0;34m=\u001b[0m\u001b[0mself\u001b[0m\u001b[0;34m.\u001b[0m\u001b[0m_num_outputs\u001b[0m\u001b[0;34m,\u001b[0m\u001b[0;34m\u001b[0m\u001b[0;34m\u001b[0m\u001b[0m\n",
            "\u001b[0;32m/usr/local/lib/python3.8/dist-packages/tensorflow/python/eager/execute.py\u001b[0m in \u001b[0;36mquick_execute\u001b[0;34m(op_name, num_outputs, inputs, attrs, ctx, name)\u001b[0m\n\u001b[1;32m     50\u001b[0m   \u001b[0;32mtry\u001b[0m\u001b[0;34m:\u001b[0m\u001b[0;34m\u001b[0m\u001b[0;34m\u001b[0m\u001b[0m\n\u001b[1;32m     51\u001b[0m     \u001b[0mctx\u001b[0m\u001b[0;34m.\u001b[0m\u001b[0mensure_initialized\u001b[0m\u001b[0;34m(\u001b[0m\u001b[0;34m)\u001b[0m\u001b[0;34m\u001b[0m\u001b[0;34m\u001b[0m\u001b[0m\n\u001b[0;32m---> 52\u001b[0;31m     tensors = pywrap_tfe.TFE_Py_Execute(ctx._handle, device_name, op_name,\n\u001b[0m\u001b[1;32m     53\u001b[0m                                         inputs, attrs, num_outputs)\n\u001b[1;32m     54\u001b[0m   \u001b[0;32mexcept\u001b[0m \u001b[0mcore\u001b[0m\u001b[0;34m.\u001b[0m\u001b[0m_NotOkStatusException\u001b[0m \u001b[0;32mas\u001b[0m \u001b[0me\u001b[0m\u001b[0;34m:\u001b[0m\u001b[0;34m\u001b[0m\u001b[0;34m\u001b[0m\u001b[0m\n",
            "\u001b[0;31mKeyboardInterrupt\u001b[0m: "
          ]
        }
      ]
    },
    {
      "cell_type": "markdown",
      "source": [
        "# Fine-Tuning "
      ],
      "metadata": {
        "id": "wZ0CbAJAWbbX"
      }
    },
    {
      "cell_type": "markdown",
      "source": [
        "## resnet_model_1 : Feature extracted model with ResNet RS-152"
      ],
      "metadata": {
        "id": "qXQsFXZBqrDu"
      }
    },
    {
      "cell_type": "code",
      "source": [
        "datagen = ImageDataGenerator(rescale=1/255., validation_split=0.2)\n",
        "train_data = datagen.flow_from_directory(directory='/content/drive/MyDrive/Capstone_project',\n",
        "                                         target_size=(224,224),\n",
        "                                         class_mode='binary',\n",
        "                                         batch_size=32,\n",
        "                                         subset = 'training',\n",
        "                                         shuffle=False)\n",
        "\n",
        "test_data = datagen.flow_from_directory(directory='/content/drive/MyDrive/Capstone_project',\n",
        "                                         target_size=(224,224),\n",
        "                                         class_mode='binary',\n",
        "                                        batch_size=32,\n",
        "                                         subset = 'validation',\n",
        "                                         shuffle=True)"
      ],
      "metadata": {
        "id": "VdOE0w28ukQB"
      },
      "execution_count": null,
      "outputs": []
    },
    {
      "cell_type": "code",
      "source": [
        "### Creating a model checkpoint\n",
        "checkpoint_path = \"resnet_models_checkpoints_weights.ckpt\"\n",
        "\n",
        "checkpoint_callback = tf.keras.callbacks.ModelCheckpoint(filepath=checkpoint_path,\n",
        "                                                         save_weights_only=True, # set to False to save the entire model\n",
        "                                                         save_best_only=False, # set to True to save only the best model instead of a model every epoch \n",
        "                                                         save_freq=\"epoch\", # save every epoch\n",
        "                                                         verbose=1)"
      ],
      "metadata": {
        "id": "jtu46qOFs8Vv"
      },
      "execution_count": 137,
      "outputs": []
    },
    {
      "cell_type": "code",
      "source": [
        "from tensorflow.keras.layers.experimental import preprocessing\n",
        "# Build a data augmentation layer\n",
        "data_augmentation = Sequential([\n",
        "  preprocessing.RandomFlip('horizontal'),\n",
        "  preprocessing.RandomHeight(0.2),\n",
        "  preprocessing.RandomWidth(0.2),\n",
        "  preprocessing.RandomZoom(0.2),\n",
        "  preprocessing.RandomRotation(0.2)               \n",
        "], name=\"data_augmentation\")\n",
        "\n",
        "# 1. Create a base model  with tf.keras.applications\n",
        "base_model = tf.keras.applications.ResNetRS152(include_top=False)\n",
        "\n",
        "# 2. Freeze the base model (so the pre-learned patterns remain)\n",
        "base_model.trainable = False\n",
        "\n",
        "# 3. Create inputs into the base model\n",
        "inputs = layers.Input(shape=(224,224,3), name='input_layer')\n",
        "# 4. Pass the inputs into the augmentation layer\n",
        "x = data_augmentation(inputs)\n",
        "\n",
        "# 4. Pass the iputs to the base model\n",
        "x = base_model(inputs, training=False)\n",
        "\n",
        "# 5. Average pool the outputs of the base model\n",
        "x = layers.GlobalAveragePooling2D(name='global_average_pooling_layer')(x)\n",
        "# 6. Create an output activation layer\n",
        "outputs = layers.Dense(1, activation= 'sigmoid', name='output_layer')(x)\n",
        "# 7. Combine the inputs with the outputs into a model\n",
        "resnet_model_1 = tf.keras.Model(inputs, outputs)\n",
        "# 8. Compile the model\n",
        "resnet_model_1.compile(loss='binary_crossentropy',\n",
        "                optimizer=Adam(),\n",
        "                metrics=['accuracy'])\n",
        "\n",
        "history_resnet_model_1 = resnet_model_1.fit(train_data,\n",
        "                                            epochs=10,\n",
        "                                            validation_data=test_data,\n",
        "                                            steps_per_epoch=len(train_data),\n",
        "                                            validation_steps=int(0.25 * len(test_data)),\n",
        "                                            callbacks= [checkpoint_callback])\n"
      ],
      "metadata": {
        "colab": {
          "base_uri": "https://localhost:8080/",
          "height": 582
        },
        "id": "WKpL5KLAi2NH",
        "outputId": "ece15289-b67f-4d31-a554-c68c9f2463ef"
      },
      "execution_count": 147,
      "outputs": [
        {
          "output_type": "stream",
          "name": "stderr",
          "text": [
            "WARNING:tensorflow:Using a while_loop for converting RngReadAndSkip cause there is no registered converter for this op.\n",
            "WARNING:tensorflow:Using a while_loop for converting Bitcast cause there is no registered converter for this op.\n",
            "WARNING:tensorflow:Using a while_loop for converting Bitcast cause there is no registered converter for this op.\n",
            "WARNING:tensorflow:Using a while_loop for converting StatelessRandomUniformV2 cause there is no registered converter for this op.\n",
            "WARNING:tensorflow:Using a while_loop for converting ImageProjectiveTransformV3 cause there is no registered converter for this op.\n",
            "WARNING:tensorflow:Using a while_loop for converting RngReadAndSkip cause there is no registered converter for this op.\n",
            "WARNING:tensorflow:Using a while_loop for converting Bitcast cause there is no registered converter for this op.\n",
            "WARNING:tensorflow:Using a while_loop for converting Bitcast cause there is no registered converter for this op.\n",
            "WARNING:tensorflow:Using a while_loop for converting StatelessRandomUniformV2 cause there is no registered converter for this op.\n",
            "WARNING:tensorflow:Using a while_loop for converting ImageProjectiveTransformV3 cause there is no registered converter for this op.\n",
            "WARNING:tensorflow:Using a while_loop for converting RngReadAndSkip cause there is no registered converter for this op.\n",
            "WARNING:tensorflow:Using a while_loop for converting Bitcast cause there is no registered converter for this op.\n",
            "WARNING:tensorflow:Using a while_loop for converting Bitcast cause there is no registered converter for this op.\n",
            "WARNING:tensorflow:Using a while_loop for converting StatelessRandomUniformV2 cause there is no registered converter for this op.\n",
            "WARNING:tensorflow:Using a while_loop for converting ImageProjectiveTransformV3 cause there is no registered converter for this op.\n",
            "WARNING:tensorflow:Using a while_loop for converting RngReadAndSkip cause there is no registered converter for this op.\n",
            "WARNING:tensorflow:Using a while_loop for converting Bitcast cause there is no registered converter for this op.\n",
            "WARNING:tensorflow:Using a while_loop for converting Bitcast cause there is no registered converter for this op.\n",
            "WARNING:tensorflow:Using a while_loop for converting StatelessRandomUniformV2 cause there is no registered converter for this op.\n",
            "WARNING:tensorflow:Using a while_loop for converting ImageProjectiveTransformV3 cause there is no registered converter for this op.\n"
          ]
        },
        {
          "output_type": "error",
          "ename": "TypeError",
          "evalue": "ignored",
          "traceback": [
            "\u001b[0;31m---------------------------------------------------------------------------\u001b[0m",
            "\u001b[0;31mTypeError\u001b[0m                                 Traceback (most recent call last)",
            "\u001b[0;32m<ipython-input-147-d8e0d434c233>\u001b[0m in \u001b[0;36m<module>\u001b[0;34m\u001b[0m\n\u001b[1;32m     21\u001b[0m \u001b[0;34m\u001b[0m\u001b[0m\n\u001b[1;32m     22\u001b[0m \u001b[0;31m# 4. Pass the iputs to the base model\u001b[0m\u001b[0;34m\u001b[0m\u001b[0;34m\u001b[0m\u001b[0;34m\u001b[0m\u001b[0m\n\u001b[0;32m---> 23\u001b[0;31m \u001b[0mx\u001b[0m \u001b[0;34m=\u001b[0m \u001b[0mbase_model\u001b[0m\u001b[0;34m(\u001b[0m\u001b[0minputs\u001b[0m\u001b[0;34m,\u001b[0m \u001b[0mtraining\u001b[0m\u001b[0;34m=\u001b[0m\u001b[0;32mFalse\u001b[0m\u001b[0;34m)\u001b[0m\u001b[0;34m(\u001b[0m\u001b[0mx\u001b[0m\u001b[0;34m)\u001b[0m\u001b[0;34m\u001b[0m\u001b[0;34m\u001b[0m\u001b[0m\n\u001b[0m\u001b[1;32m     24\u001b[0m \u001b[0;34m\u001b[0m\u001b[0m\n\u001b[1;32m     25\u001b[0m \u001b[0;31m# 5. Average pool the outputs of the base model\u001b[0m\u001b[0;34m\u001b[0m\u001b[0;34m\u001b[0m\u001b[0;34m\u001b[0m\u001b[0m\n",
            "\u001b[0;31mTypeError\u001b[0m: 'KerasTensor' object is not callable"
          ]
        }
      ]
    },
    {
      "cell_type": "code",
      "source": [
        "# check layers in our base model \n",
        "for layers_number, layer in enumerate(base_model.layers):"
      ],
      "metadata": {
        "colab": {
          "base_uri": "https://localhost:8080/"
        },
        "id": "r-1WJGrxjfMh",
        "outputId": "d71d1479-3a7b-4be1-894c-7dca4f681769"
      },
      "execution_count": 127,
      "outputs": [
        {
          "output_type": "stream",
          "name": "stdout",
          "text": [
            "0 input_4\n",
            "1 rescaling_3\n",
            "2 normalization_3\n",
            "3 zero_padding2d_15\n",
            "4 stem_4_stem_conv_1\n",
            "5 stem_4_stem_batch_norm_1\n",
            "6 stem_4_stem_act_1\n",
            "7 stem_4_stem_conv_2\n",
            "8 stem_4_stem_batch_norm_2\n",
            "9 stem_4_stem_act_2\n",
            "10 stem_4_stem_conv_3\n",
            "11 stem_4_stem_batch_norm_3\n",
            "12 stem_4_stem_act_3\n",
            "13 zero_padding2d_16\n",
            "14 stem_4_stem_conv_4\n",
            "15 stem_4_stem_batch_norm_4\n",
            "16 stem_4_stem_act_4\n",
            "17 BlockGroup2__block_0__conv_1\n",
            "18 BlockGroup2__block_0_batch_norm_1\n",
            "19 BlockGroup2__block_0__act_1\n",
            "20 BlockGroup2__block_0__conv_2\n",
            "21 BlockGroup2__block_0__batch_norm_2\n",
            "22 BlockGroup2__block_0__act_2\n",
            "23 BlockGroup2__block_0__conv_3\n",
            "24 BlockGroup2__block_0__batch_norm_3\n",
            "25 BlockGroup2__block_0__se_se_squeeze\n",
            "26 BlockGroup2__block_0__se_se_reshape\n",
            "27 BlockGroup2__block_0__se_se_reduce\n",
            "28 BlockGroup2__block_0__se_se_expand\n",
            "29 BlockGroup2__block_0__projection_conv\n",
            "30 BlockGroup2__block_0__se_se_excite\n",
            "31 BlockGroup2__block_0__projection_batch_norm\n",
            "32 add_150\n",
            "33 BlockGroup2__block_0__output_act\n",
            "34 BlockGroup2__block_1__conv_1\n",
            "35 BlockGroup2__block_1_batch_norm_1\n",
            "36 BlockGroup2__block_1__act_1\n",
            "37 BlockGroup2__block_1__conv_2\n",
            "38 BlockGroup2__block_1__batch_norm_2\n",
            "39 BlockGroup2__block_1__act_2\n",
            "40 BlockGroup2__block_1__conv_3\n",
            "41 BlockGroup2__block_1__batch_norm_3\n",
            "42 BlockGroup2__block_1__se_se_squeeze\n",
            "43 BlockGroup2__block_1__se_se_reshape\n",
            "44 BlockGroup2__block_1__se_se_reduce\n",
            "45 BlockGroup2__block_1__se_se_expand\n",
            "46 BlockGroup2__block_1__se_se_excite\n",
            "47 add_151\n",
            "48 BlockGroup2__block_1__output_act\n",
            "49 BlockGroup2__block_2__conv_1\n",
            "50 BlockGroup2__block_2_batch_norm_1\n",
            "51 BlockGroup2__block_2__act_1\n",
            "52 BlockGroup2__block_2__conv_2\n",
            "53 BlockGroup2__block_2__batch_norm_2\n",
            "54 BlockGroup2__block_2__act_2\n",
            "55 BlockGroup2__block_2__conv_3\n",
            "56 BlockGroup2__block_2__batch_norm_3\n",
            "57 BlockGroup2__block_2__se_se_squeeze\n",
            "58 BlockGroup2__block_2__se_se_reshape\n",
            "59 BlockGroup2__block_2__se_se_reduce\n",
            "60 BlockGroup2__block_2__se_se_expand\n",
            "61 BlockGroup2__block_2__se_se_excite\n",
            "62 add_152\n",
            "63 BlockGroup2__block_2__output_act\n",
            "64 BlockGroup3__block_0__conv_1\n",
            "65 BlockGroup3__block_0_batch_norm_1\n",
            "66 BlockGroup3__block_0__act_1\n",
            "67 zero_padding2d_17\n",
            "68 BlockGroup3__block_0__conv_2\n",
            "69 BlockGroup3__block_0__batch_norm_2\n",
            "70 BlockGroup3__block_0__act_2\n",
            "71 BlockGroup3__block_0__conv_3\n",
            "72 BlockGroup3__block_0__batch_norm_3\n",
            "73 BlockGroup3__block_0__se_se_squeeze\n",
            "74 BlockGroup3__block_0__se_se_reshape\n",
            "75 BlockGroup3__block_0__se_se_reduce\n",
            "76 BlockGroup3__block_0__projection_pooling\n",
            "77 BlockGroup3__block_0__se_se_expand\n",
            "78 BlockGroup3__block_0__projection_conv\n",
            "79 BlockGroup3__block_0__se_se_excite\n",
            "80 BlockGroup3__block_0__projection_batch_norm\n",
            "81 add_153\n",
            "82 BlockGroup3__block_0__output_act\n",
            "83 BlockGroup3__block_1__conv_1\n",
            "84 BlockGroup3__block_1_batch_norm_1\n",
            "85 BlockGroup3__block_1__act_1\n",
            "86 BlockGroup3__block_1__conv_2\n",
            "87 BlockGroup3__block_1__batch_norm_2\n",
            "88 BlockGroup3__block_1__act_2\n",
            "89 BlockGroup3__block_1__conv_3\n",
            "90 BlockGroup3__block_1__batch_norm_3\n",
            "91 BlockGroup3__block_1__se_se_squeeze\n",
            "92 BlockGroup3__block_1__se_se_reshape\n",
            "93 BlockGroup3__block_1__se_se_reduce\n",
            "94 BlockGroup3__block_1__se_se_expand\n",
            "95 BlockGroup3__block_1__se_se_excite\n",
            "96 add_154\n",
            "97 BlockGroup3__block_1__output_act\n",
            "98 BlockGroup3__block_2__conv_1\n",
            "99 BlockGroup3__block_2_batch_norm_1\n",
            "100 BlockGroup3__block_2__act_1\n",
            "101 BlockGroup3__block_2__conv_2\n",
            "102 BlockGroup3__block_2__batch_norm_2\n",
            "103 BlockGroup3__block_2__act_2\n",
            "104 BlockGroup3__block_2__conv_3\n",
            "105 BlockGroup3__block_2__batch_norm_3\n",
            "106 BlockGroup3__block_2__se_se_squeeze\n",
            "107 BlockGroup3__block_2__se_se_reshape\n",
            "108 BlockGroup3__block_2__se_se_reduce\n",
            "109 BlockGroup3__block_2__se_se_expand\n",
            "110 BlockGroup3__block_2__se_se_excite\n",
            "111 add_155\n",
            "112 BlockGroup3__block_2__output_act\n",
            "113 BlockGroup3__block_3__conv_1\n",
            "114 BlockGroup3__block_3_batch_norm_1\n",
            "115 BlockGroup3__block_3__act_1\n",
            "116 BlockGroup3__block_3__conv_2\n",
            "117 BlockGroup3__block_3__batch_norm_2\n",
            "118 BlockGroup3__block_3__act_2\n",
            "119 BlockGroup3__block_3__conv_3\n",
            "120 BlockGroup3__block_3__batch_norm_3\n",
            "121 BlockGroup3__block_3__se_se_squeeze\n",
            "122 BlockGroup3__block_3__se_se_reshape\n",
            "123 BlockGroup3__block_3__se_se_reduce\n",
            "124 BlockGroup3__block_3__se_se_expand\n",
            "125 BlockGroup3__block_3__se_se_excite\n",
            "126 add_156\n",
            "127 BlockGroup3__block_3__output_act\n",
            "128 BlockGroup3__block_4__conv_1\n",
            "129 BlockGroup3__block_4_batch_norm_1\n",
            "130 BlockGroup3__block_4__act_1\n",
            "131 BlockGroup3__block_4__conv_2\n",
            "132 BlockGroup3__block_4__batch_norm_2\n",
            "133 BlockGroup3__block_4__act_2\n",
            "134 BlockGroup3__block_4__conv_3\n",
            "135 BlockGroup3__block_4__batch_norm_3\n",
            "136 BlockGroup3__block_4__se_se_squeeze\n",
            "137 BlockGroup3__block_4__se_se_reshape\n",
            "138 BlockGroup3__block_4__se_se_reduce\n",
            "139 BlockGroup3__block_4__se_se_expand\n",
            "140 BlockGroup3__block_4__se_se_excite\n",
            "141 add_157\n",
            "142 BlockGroup3__block_4__output_act\n",
            "143 BlockGroup3__block_5__conv_1\n",
            "144 BlockGroup3__block_5_batch_norm_1\n",
            "145 BlockGroup3__block_5__act_1\n",
            "146 BlockGroup3__block_5__conv_2\n",
            "147 BlockGroup3__block_5__batch_norm_2\n",
            "148 BlockGroup3__block_5__act_2\n",
            "149 BlockGroup3__block_5__conv_3\n",
            "150 BlockGroup3__block_5__batch_norm_3\n",
            "151 BlockGroup3__block_5__se_se_squeeze\n",
            "152 BlockGroup3__block_5__se_se_reshape\n",
            "153 BlockGroup3__block_5__se_se_reduce\n",
            "154 BlockGroup3__block_5__se_se_expand\n",
            "155 BlockGroup3__block_5__se_se_excite\n",
            "156 add_158\n",
            "157 BlockGroup3__block_5__output_act\n",
            "158 BlockGroup3__block_6__conv_1\n",
            "159 BlockGroup3__block_6_batch_norm_1\n",
            "160 BlockGroup3__block_6__act_1\n",
            "161 BlockGroup3__block_6__conv_2\n",
            "162 BlockGroup3__block_6__batch_norm_2\n",
            "163 BlockGroup3__block_6__act_2\n",
            "164 BlockGroup3__block_6__conv_3\n",
            "165 BlockGroup3__block_6__batch_norm_3\n",
            "166 BlockGroup3__block_6__se_se_squeeze\n",
            "167 BlockGroup3__block_6__se_se_reshape\n",
            "168 BlockGroup3__block_6__se_se_reduce\n",
            "169 BlockGroup3__block_6__se_se_expand\n",
            "170 BlockGroup3__block_6__se_se_excite\n",
            "171 add_159\n",
            "172 BlockGroup3__block_6__output_act\n",
            "173 BlockGroup3__block_7__conv_1\n",
            "174 BlockGroup3__block_7_batch_norm_1\n",
            "175 BlockGroup3__block_7__act_1\n",
            "176 BlockGroup3__block_7__conv_2\n",
            "177 BlockGroup3__block_7__batch_norm_2\n",
            "178 BlockGroup3__block_7__act_2\n",
            "179 BlockGroup3__block_7__conv_3\n",
            "180 BlockGroup3__block_7__batch_norm_3\n",
            "181 BlockGroup3__block_7__se_se_squeeze\n",
            "182 BlockGroup3__block_7__se_se_reshape\n",
            "183 BlockGroup3__block_7__se_se_reduce\n",
            "184 BlockGroup3__block_7__se_se_expand\n",
            "185 BlockGroup3__block_7__se_se_excite\n",
            "186 add_160\n",
            "187 BlockGroup3__block_7__output_act\n",
            "188 BlockGroup4__block_0__conv_1\n",
            "189 BlockGroup4__block_0_batch_norm_1\n",
            "190 BlockGroup4__block_0__act_1\n",
            "191 zero_padding2d_18\n",
            "192 BlockGroup4__block_0__conv_2\n",
            "193 BlockGroup4__block_0__batch_norm_2\n",
            "194 BlockGroup4__block_0__act_2\n",
            "195 BlockGroup4__block_0__conv_3\n",
            "196 BlockGroup4__block_0__batch_norm_3\n",
            "197 BlockGroup4__block_0__se_se_squeeze\n",
            "198 BlockGroup4__block_0__se_se_reshape\n",
            "199 BlockGroup4__block_0__se_se_reduce\n",
            "200 BlockGroup4__block_0__projection_pooling\n",
            "201 BlockGroup4__block_0__se_se_expand\n",
            "202 BlockGroup4__block_0__projection_conv\n",
            "203 BlockGroup4__block_0__se_se_excite\n",
            "204 BlockGroup4__block_0__projection_batch_norm\n",
            "205 add_161\n",
            "206 BlockGroup4__block_0__output_act\n",
            "207 BlockGroup4__block_1__conv_1\n",
            "208 BlockGroup4__block_1_batch_norm_1\n",
            "209 BlockGroup4__block_1__act_1\n",
            "210 BlockGroup4__block_1__conv_2\n",
            "211 BlockGroup4__block_1__batch_norm_2\n",
            "212 BlockGroup4__block_1__act_2\n",
            "213 BlockGroup4__block_1__conv_3\n",
            "214 BlockGroup4__block_1__batch_norm_3\n",
            "215 BlockGroup4__block_1__se_se_squeeze\n",
            "216 BlockGroup4__block_1__se_se_reshape\n",
            "217 BlockGroup4__block_1__se_se_reduce\n",
            "218 BlockGroup4__block_1__se_se_expand\n",
            "219 BlockGroup4__block_1__se_se_excite\n",
            "220 add_162\n",
            "221 BlockGroup4__block_1__output_act\n",
            "222 BlockGroup4__block_2__conv_1\n",
            "223 BlockGroup4__block_2_batch_norm_1\n",
            "224 BlockGroup4__block_2__act_1\n",
            "225 BlockGroup4__block_2__conv_2\n",
            "226 BlockGroup4__block_2__batch_norm_2\n",
            "227 BlockGroup4__block_2__act_2\n",
            "228 BlockGroup4__block_2__conv_3\n",
            "229 BlockGroup4__block_2__batch_norm_3\n",
            "230 BlockGroup4__block_2__se_se_squeeze\n",
            "231 BlockGroup4__block_2__se_se_reshape\n",
            "232 BlockGroup4__block_2__se_se_reduce\n",
            "233 BlockGroup4__block_2__se_se_expand\n",
            "234 BlockGroup4__block_2__se_se_excite\n",
            "235 add_163\n",
            "236 BlockGroup4__block_2__output_act\n",
            "237 BlockGroup4__block_3__conv_1\n",
            "238 BlockGroup4__block_3_batch_norm_1\n",
            "239 BlockGroup4__block_3__act_1\n",
            "240 BlockGroup4__block_3__conv_2\n",
            "241 BlockGroup4__block_3__batch_norm_2\n",
            "242 BlockGroup4__block_3__act_2\n",
            "243 BlockGroup4__block_3__conv_3\n",
            "244 BlockGroup4__block_3__batch_norm_3\n",
            "245 BlockGroup4__block_3__se_se_squeeze\n",
            "246 BlockGroup4__block_3__se_se_reshape\n",
            "247 BlockGroup4__block_3__se_se_reduce\n",
            "248 BlockGroup4__block_3__se_se_expand\n",
            "249 BlockGroup4__block_3__se_se_excite\n",
            "250 add_164\n",
            "251 BlockGroup4__block_3__output_act\n",
            "252 BlockGroup4__block_4__conv_1\n",
            "253 BlockGroup4__block_4_batch_norm_1\n",
            "254 BlockGroup4__block_4__act_1\n",
            "255 BlockGroup4__block_4__conv_2\n",
            "256 BlockGroup4__block_4__batch_norm_2\n",
            "257 BlockGroup4__block_4__act_2\n",
            "258 BlockGroup4__block_4__conv_3\n",
            "259 BlockGroup4__block_4__batch_norm_3\n",
            "260 BlockGroup4__block_4__se_se_squeeze\n",
            "261 BlockGroup4__block_4__se_se_reshape\n",
            "262 BlockGroup4__block_4__se_se_reduce\n",
            "263 BlockGroup4__block_4__se_se_expand\n",
            "264 BlockGroup4__block_4__se_se_excite\n",
            "265 add_165\n",
            "266 BlockGroup4__block_4__output_act\n",
            "267 BlockGroup4__block_5__conv_1\n",
            "268 BlockGroup4__block_5_batch_norm_1\n",
            "269 BlockGroup4__block_5__act_1\n",
            "270 BlockGroup4__block_5__conv_2\n",
            "271 BlockGroup4__block_5__batch_norm_2\n",
            "272 BlockGroup4__block_5__act_2\n",
            "273 BlockGroup4__block_5__conv_3\n",
            "274 BlockGroup4__block_5__batch_norm_3\n",
            "275 BlockGroup4__block_5__se_se_squeeze\n",
            "276 BlockGroup4__block_5__se_se_reshape\n",
            "277 BlockGroup4__block_5__se_se_reduce\n",
            "278 BlockGroup4__block_5__se_se_expand\n",
            "279 BlockGroup4__block_5__se_se_excite\n",
            "280 add_166\n",
            "281 BlockGroup4__block_5__output_act\n",
            "282 BlockGroup4__block_6__conv_1\n",
            "283 BlockGroup4__block_6_batch_norm_1\n",
            "284 BlockGroup4__block_6__act_1\n",
            "285 BlockGroup4__block_6__conv_2\n",
            "286 BlockGroup4__block_6__batch_norm_2\n",
            "287 BlockGroup4__block_6__act_2\n",
            "288 BlockGroup4__block_6__conv_3\n",
            "289 BlockGroup4__block_6__batch_norm_3\n",
            "290 BlockGroup4__block_6__se_se_squeeze\n",
            "291 BlockGroup4__block_6__se_se_reshape\n",
            "292 BlockGroup4__block_6__se_se_reduce\n",
            "293 BlockGroup4__block_6__se_se_expand\n",
            "294 BlockGroup4__block_6__se_se_excite\n",
            "295 add_167\n",
            "296 BlockGroup4__block_6__output_act\n",
            "297 BlockGroup4__block_7__conv_1\n",
            "298 BlockGroup4__block_7_batch_norm_1\n",
            "299 BlockGroup4__block_7__act_1\n",
            "300 BlockGroup4__block_7__conv_2\n",
            "301 BlockGroup4__block_7__batch_norm_2\n",
            "302 BlockGroup4__block_7__act_2\n",
            "303 BlockGroup4__block_7__conv_3\n",
            "304 BlockGroup4__block_7__batch_norm_3\n",
            "305 BlockGroup4__block_7__se_se_squeeze\n",
            "306 BlockGroup4__block_7__se_se_reshape\n",
            "307 BlockGroup4__block_7__se_se_reduce\n",
            "308 BlockGroup4__block_7__se_se_expand\n",
            "309 BlockGroup4__block_7__se_se_excite\n",
            "310 add_168\n",
            "311 BlockGroup4__block_7__output_act\n",
            "312 BlockGroup4__block_8__conv_1\n",
            "313 BlockGroup4__block_8_batch_norm_1\n",
            "314 BlockGroup4__block_8__act_1\n",
            "315 BlockGroup4__block_8__conv_2\n",
            "316 BlockGroup4__block_8__batch_norm_2\n",
            "317 BlockGroup4__block_8__act_2\n",
            "318 BlockGroup4__block_8__conv_3\n",
            "319 BlockGroup4__block_8__batch_norm_3\n",
            "320 BlockGroup4__block_8__se_se_squeeze\n",
            "321 BlockGroup4__block_8__se_se_reshape\n",
            "322 BlockGroup4__block_8__se_se_reduce\n",
            "323 BlockGroup4__block_8__se_se_expand\n",
            "324 BlockGroup4__block_8__se_se_excite\n",
            "325 add_169\n",
            "326 BlockGroup4__block_8__output_act\n",
            "327 BlockGroup4__block_9__conv_1\n",
            "328 BlockGroup4__block_9_batch_norm_1\n",
            "329 BlockGroup4__block_9__act_1\n",
            "330 BlockGroup4__block_9__conv_2\n",
            "331 BlockGroup4__block_9__batch_norm_2\n",
            "332 BlockGroup4__block_9__act_2\n",
            "333 BlockGroup4__block_9__conv_3\n",
            "334 BlockGroup4__block_9__batch_norm_3\n",
            "335 BlockGroup4__block_9__se_se_squeeze\n",
            "336 BlockGroup4__block_9__se_se_reshape\n",
            "337 BlockGroup4__block_9__se_se_reduce\n",
            "338 BlockGroup4__block_9__se_se_expand\n",
            "339 BlockGroup4__block_9__se_se_excite\n",
            "340 add_170\n",
            "341 BlockGroup4__block_9__output_act\n",
            "342 BlockGroup4__block_10__conv_1\n",
            "343 BlockGroup4__block_10_batch_norm_1\n",
            "344 BlockGroup4__block_10__act_1\n",
            "345 BlockGroup4__block_10__conv_2\n",
            "346 BlockGroup4__block_10__batch_norm_2\n",
            "347 BlockGroup4__block_10__act_2\n",
            "348 BlockGroup4__block_10__conv_3\n",
            "349 BlockGroup4__block_10__batch_norm_3\n",
            "350 BlockGroup4__block_10__se_se_squeeze\n",
            "351 BlockGroup4__block_10__se_se_reshape\n",
            "352 BlockGroup4__block_10__se_se_reduce\n",
            "353 BlockGroup4__block_10__se_se_expand\n",
            "354 BlockGroup4__block_10__se_se_excite\n",
            "355 add_171\n",
            "356 BlockGroup4__block_10__output_act\n",
            "357 BlockGroup4__block_11__conv_1\n",
            "358 BlockGroup4__block_11_batch_norm_1\n",
            "359 BlockGroup4__block_11__act_1\n",
            "360 BlockGroup4__block_11__conv_2\n",
            "361 BlockGroup4__block_11__batch_norm_2\n",
            "362 BlockGroup4__block_11__act_2\n",
            "363 BlockGroup4__block_11__conv_3\n",
            "364 BlockGroup4__block_11__batch_norm_3\n",
            "365 BlockGroup4__block_11__se_se_squeeze\n",
            "366 BlockGroup4__block_11__se_se_reshape\n",
            "367 BlockGroup4__block_11__se_se_reduce\n",
            "368 BlockGroup4__block_11__se_se_expand\n",
            "369 BlockGroup4__block_11__se_se_excite\n",
            "370 add_172\n",
            "371 BlockGroup4__block_11__output_act\n",
            "372 BlockGroup4__block_12__conv_1\n",
            "373 BlockGroup4__block_12_batch_norm_1\n",
            "374 BlockGroup4__block_12__act_1\n",
            "375 BlockGroup4__block_12__conv_2\n",
            "376 BlockGroup4__block_12__batch_norm_2\n",
            "377 BlockGroup4__block_12__act_2\n",
            "378 BlockGroup4__block_12__conv_3\n",
            "379 BlockGroup4__block_12__batch_norm_3\n",
            "380 BlockGroup4__block_12__se_se_squeeze\n",
            "381 BlockGroup4__block_12__se_se_reshape\n",
            "382 BlockGroup4__block_12__se_se_reduce\n",
            "383 BlockGroup4__block_12__se_se_expand\n",
            "384 BlockGroup4__block_12__se_se_excite\n",
            "385 add_173\n",
            "386 BlockGroup4__block_12__output_act\n",
            "387 BlockGroup4__block_13__conv_1\n",
            "388 BlockGroup4__block_13_batch_norm_1\n",
            "389 BlockGroup4__block_13__act_1\n",
            "390 BlockGroup4__block_13__conv_2\n",
            "391 BlockGroup4__block_13__batch_norm_2\n",
            "392 BlockGroup4__block_13__act_2\n",
            "393 BlockGroup4__block_13__conv_3\n",
            "394 BlockGroup4__block_13__batch_norm_3\n",
            "395 BlockGroup4__block_13__se_se_squeeze\n",
            "396 BlockGroup4__block_13__se_se_reshape\n",
            "397 BlockGroup4__block_13__se_se_reduce\n",
            "398 BlockGroup4__block_13__se_se_expand\n",
            "399 BlockGroup4__block_13__se_se_excite\n",
            "400 add_174\n",
            "401 BlockGroup4__block_13__output_act\n",
            "402 BlockGroup4__block_14__conv_1\n",
            "403 BlockGroup4__block_14_batch_norm_1\n",
            "404 BlockGroup4__block_14__act_1\n",
            "405 BlockGroup4__block_14__conv_2\n",
            "406 BlockGroup4__block_14__batch_norm_2\n",
            "407 BlockGroup4__block_14__act_2\n",
            "408 BlockGroup4__block_14__conv_3\n",
            "409 BlockGroup4__block_14__batch_norm_3\n",
            "410 BlockGroup4__block_14__se_se_squeeze\n",
            "411 BlockGroup4__block_14__se_se_reshape\n",
            "412 BlockGroup4__block_14__se_se_reduce\n",
            "413 BlockGroup4__block_14__se_se_expand\n",
            "414 BlockGroup4__block_14__se_se_excite\n",
            "415 add_175\n",
            "416 BlockGroup4__block_14__output_act\n",
            "417 BlockGroup4__block_15__conv_1\n",
            "418 BlockGroup4__block_15_batch_norm_1\n",
            "419 BlockGroup4__block_15__act_1\n",
            "420 BlockGroup4__block_15__conv_2\n",
            "421 BlockGroup4__block_15__batch_norm_2\n",
            "422 BlockGroup4__block_15__act_2\n",
            "423 BlockGroup4__block_15__conv_3\n",
            "424 BlockGroup4__block_15__batch_norm_3\n",
            "425 BlockGroup4__block_15__se_se_squeeze\n",
            "426 BlockGroup4__block_15__se_se_reshape\n",
            "427 BlockGroup4__block_15__se_se_reduce\n",
            "428 BlockGroup4__block_15__se_se_expand\n",
            "429 BlockGroup4__block_15__se_se_excite\n",
            "430 add_176\n",
            "431 BlockGroup4__block_15__output_act\n",
            "432 BlockGroup4__block_16__conv_1\n",
            "433 BlockGroup4__block_16_batch_norm_1\n",
            "434 BlockGroup4__block_16__act_1\n",
            "435 BlockGroup4__block_16__conv_2\n",
            "436 BlockGroup4__block_16__batch_norm_2\n",
            "437 BlockGroup4__block_16__act_2\n",
            "438 BlockGroup4__block_16__conv_3\n",
            "439 BlockGroup4__block_16__batch_norm_3\n",
            "440 BlockGroup4__block_16__se_se_squeeze\n",
            "441 BlockGroup4__block_16__se_se_reshape\n",
            "442 BlockGroup4__block_16__se_se_reduce\n",
            "443 BlockGroup4__block_16__se_se_expand\n",
            "444 BlockGroup4__block_16__se_se_excite\n",
            "445 add_177\n",
            "446 BlockGroup4__block_16__output_act\n",
            "447 BlockGroup4__block_17__conv_1\n",
            "448 BlockGroup4__block_17_batch_norm_1\n",
            "449 BlockGroup4__block_17__act_1\n",
            "450 BlockGroup4__block_17__conv_2\n",
            "451 BlockGroup4__block_17__batch_norm_2\n",
            "452 BlockGroup4__block_17__act_2\n",
            "453 BlockGroup4__block_17__conv_3\n",
            "454 BlockGroup4__block_17__batch_norm_3\n",
            "455 BlockGroup4__block_17__se_se_squeeze\n",
            "456 BlockGroup4__block_17__se_se_reshape\n",
            "457 BlockGroup4__block_17__se_se_reduce\n",
            "458 BlockGroup4__block_17__se_se_expand\n",
            "459 BlockGroup4__block_17__se_se_excite\n",
            "460 add_178\n",
            "461 BlockGroup4__block_17__output_act\n",
            "462 BlockGroup4__block_18__conv_1\n",
            "463 BlockGroup4__block_18_batch_norm_1\n",
            "464 BlockGroup4__block_18__act_1\n",
            "465 BlockGroup4__block_18__conv_2\n",
            "466 BlockGroup4__block_18__batch_norm_2\n",
            "467 BlockGroup4__block_18__act_2\n",
            "468 BlockGroup4__block_18__conv_3\n",
            "469 BlockGroup4__block_18__batch_norm_3\n",
            "470 BlockGroup4__block_18__se_se_squeeze\n",
            "471 BlockGroup4__block_18__se_se_reshape\n",
            "472 BlockGroup4__block_18__se_se_reduce\n",
            "473 BlockGroup4__block_18__se_se_expand\n",
            "474 BlockGroup4__block_18__se_se_excite\n",
            "475 add_179\n",
            "476 BlockGroup4__block_18__output_act\n",
            "477 BlockGroup4__block_19__conv_1\n",
            "478 BlockGroup4__block_19_batch_norm_1\n",
            "479 BlockGroup4__block_19__act_1\n",
            "480 BlockGroup4__block_19__conv_2\n",
            "481 BlockGroup4__block_19__batch_norm_2\n",
            "482 BlockGroup4__block_19__act_2\n",
            "483 BlockGroup4__block_19__conv_3\n",
            "484 BlockGroup4__block_19__batch_norm_3\n",
            "485 BlockGroup4__block_19__se_se_squeeze\n",
            "486 BlockGroup4__block_19__se_se_reshape\n",
            "487 BlockGroup4__block_19__se_se_reduce\n",
            "488 BlockGroup4__block_19__se_se_expand\n",
            "489 BlockGroup4__block_19__se_se_excite\n",
            "490 add_180\n",
            "491 BlockGroup4__block_19__output_act\n",
            "492 BlockGroup4__block_20__conv_1\n",
            "493 BlockGroup4__block_20_batch_norm_1\n",
            "494 BlockGroup4__block_20__act_1\n",
            "495 BlockGroup4__block_20__conv_2\n",
            "496 BlockGroup4__block_20__batch_norm_2\n",
            "497 BlockGroup4__block_20__act_2\n",
            "498 BlockGroup4__block_20__conv_3\n",
            "499 BlockGroup4__block_20__batch_norm_3\n",
            "500 BlockGroup4__block_20__se_se_squeeze\n",
            "501 BlockGroup4__block_20__se_se_reshape\n",
            "502 BlockGroup4__block_20__se_se_reduce\n",
            "503 BlockGroup4__block_20__se_se_expand\n",
            "504 BlockGroup4__block_20__se_se_excite\n",
            "505 add_181\n",
            "506 BlockGroup4__block_20__output_act\n",
            "507 BlockGroup4__block_21__conv_1\n",
            "508 BlockGroup4__block_21_batch_norm_1\n",
            "509 BlockGroup4__block_21__act_1\n",
            "510 BlockGroup4__block_21__conv_2\n",
            "511 BlockGroup4__block_21__batch_norm_2\n",
            "512 BlockGroup4__block_21__act_2\n",
            "513 BlockGroup4__block_21__conv_3\n",
            "514 BlockGroup4__block_21__batch_norm_3\n",
            "515 BlockGroup4__block_21__se_se_squeeze\n",
            "516 BlockGroup4__block_21__se_se_reshape\n",
            "517 BlockGroup4__block_21__se_se_reduce\n",
            "518 BlockGroup4__block_21__se_se_expand\n",
            "519 BlockGroup4__block_21__se_se_excite\n",
            "520 add_182\n",
            "521 BlockGroup4__block_21__output_act\n",
            "522 BlockGroup4__block_22__conv_1\n",
            "523 BlockGroup4__block_22_batch_norm_1\n",
            "524 BlockGroup4__block_22__act_1\n",
            "525 BlockGroup4__block_22__conv_2\n",
            "526 BlockGroup4__block_22__batch_norm_2\n",
            "527 BlockGroup4__block_22__act_2\n",
            "528 BlockGroup4__block_22__conv_3\n",
            "529 BlockGroup4__block_22__batch_norm_3\n",
            "530 BlockGroup4__block_22__se_se_squeeze\n",
            "531 BlockGroup4__block_22__se_se_reshape\n",
            "532 BlockGroup4__block_22__se_se_reduce\n",
            "533 BlockGroup4__block_22__se_se_expand\n",
            "534 BlockGroup4__block_22__se_se_excite\n",
            "535 add_183\n",
            "536 BlockGroup4__block_22__output_act\n",
            "537 BlockGroup4__block_23__conv_1\n",
            "538 BlockGroup4__block_23_batch_norm_1\n",
            "539 BlockGroup4__block_23__act_1\n",
            "540 BlockGroup4__block_23__conv_2\n",
            "541 BlockGroup4__block_23__batch_norm_2\n",
            "542 BlockGroup4__block_23__act_2\n",
            "543 BlockGroup4__block_23__conv_3\n",
            "544 BlockGroup4__block_23__batch_norm_3\n",
            "545 BlockGroup4__block_23__se_se_squeeze\n",
            "546 BlockGroup4__block_23__se_se_reshape\n",
            "547 BlockGroup4__block_23__se_se_reduce\n",
            "548 BlockGroup4__block_23__se_se_expand\n",
            "549 BlockGroup4__block_23__se_se_excite\n",
            "550 add_184\n",
            "551 BlockGroup4__block_23__output_act\n",
            "552 BlockGroup4__block_24__conv_1\n",
            "553 BlockGroup4__block_24_batch_norm_1\n",
            "554 BlockGroup4__block_24__act_1\n",
            "555 BlockGroup4__block_24__conv_2\n",
            "556 BlockGroup4__block_24__batch_norm_2\n",
            "557 BlockGroup4__block_24__act_2\n",
            "558 BlockGroup4__block_24__conv_3\n",
            "559 BlockGroup4__block_24__batch_norm_3\n",
            "560 BlockGroup4__block_24__se_se_squeeze\n",
            "561 BlockGroup4__block_24__se_se_reshape\n",
            "562 BlockGroup4__block_24__se_se_reduce\n",
            "563 BlockGroup4__block_24__se_se_expand\n",
            "564 BlockGroup4__block_24__se_se_excite\n",
            "565 add_185\n",
            "566 BlockGroup4__block_24__output_act\n",
            "567 BlockGroup4__block_25__conv_1\n",
            "568 BlockGroup4__block_25_batch_norm_1\n",
            "569 BlockGroup4__block_25__act_1\n",
            "570 BlockGroup4__block_25__conv_2\n",
            "571 BlockGroup4__block_25__batch_norm_2\n",
            "572 BlockGroup4__block_25__act_2\n",
            "573 BlockGroup4__block_25__conv_3\n",
            "574 BlockGroup4__block_25__batch_norm_3\n",
            "575 BlockGroup4__block_25__se_se_squeeze\n",
            "576 BlockGroup4__block_25__se_se_reshape\n",
            "577 BlockGroup4__block_25__se_se_reduce\n",
            "578 BlockGroup4__block_25__se_se_expand\n",
            "579 BlockGroup4__block_25__se_se_excite\n",
            "580 add_186\n",
            "581 BlockGroup4__block_25__output_act\n",
            "582 BlockGroup4__block_26__conv_1\n",
            "583 BlockGroup4__block_26_batch_norm_1\n",
            "584 BlockGroup4__block_26__act_1\n",
            "585 BlockGroup4__block_26__conv_2\n",
            "586 BlockGroup4__block_26__batch_norm_2\n",
            "587 BlockGroup4__block_26__act_2\n",
            "588 BlockGroup4__block_26__conv_3\n",
            "589 BlockGroup4__block_26__batch_norm_3\n",
            "590 BlockGroup4__block_26__se_se_squeeze\n",
            "591 BlockGroup4__block_26__se_se_reshape\n",
            "592 BlockGroup4__block_26__se_se_reduce\n",
            "593 BlockGroup4__block_26__se_se_expand\n",
            "594 BlockGroup4__block_26__se_se_excite\n",
            "595 add_187\n",
            "596 BlockGroup4__block_26__output_act\n",
            "597 BlockGroup4__block_27__conv_1\n",
            "598 BlockGroup4__block_27_batch_norm_1\n",
            "599 BlockGroup4__block_27__act_1\n",
            "600 BlockGroup4__block_27__conv_2\n",
            "601 BlockGroup4__block_27__batch_norm_2\n",
            "602 BlockGroup4__block_27__act_2\n",
            "603 BlockGroup4__block_27__conv_3\n",
            "604 BlockGroup4__block_27__batch_norm_3\n",
            "605 BlockGroup4__block_27__se_se_squeeze\n",
            "606 BlockGroup4__block_27__se_se_reshape\n",
            "607 BlockGroup4__block_27__se_se_reduce\n",
            "608 BlockGroup4__block_27__se_se_expand\n",
            "609 BlockGroup4__block_27__se_se_excite\n",
            "610 add_188\n",
            "611 BlockGroup4__block_27__output_act\n",
            "612 BlockGroup4__block_28__conv_1\n",
            "613 BlockGroup4__block_28_batch_norm_1\n",
            "614 BlockGroup4__block_28__act_1\n",
            "615 BlockGroup4__block_28__conv_2\n",
            "616 BlockGroup4__block_28__batch_norm_2\n",
            "617 BlockGroup4__block_28__act_2\n",
            "618 BlockGroup4__block_28__conv_3\n",
            "619 BlockGroup4__block_28__batch_norm_3\n",
            "620 BlockGroup4__block_28__se_se_squeeze\n",
            "621 BlockGroup4__block_28__se_se_reshape\n",
            "622 BlockGroup4__block_28__se_se_reduce\n",
            "623 BlockGroup4__block_28__se_se_expand\n",
            "624 BlockGroup4__block_28__se_se_excite\n",
            "625 add_189\n",
            "626 BlockGroup4__block_28__output_act\n",
            "627 BlockGroup4__block_29__conv_1\n",
            "628 BlockGroup4__block_29_batch_norm_1\n",
            "629 BlockGroup4__block_29__act_1\n",
            "630 BlockGroup4__block_29__conv_2\n",
            "631 BlockGroup4__block_29__batch_norm_2\n",
            "632 BlockGroup4__block_29__act_2\n",
            "633 BlockGroup4__block_29__conv_3\n",
            "634 BlockGroup4__block_29__batch_norm_3\n",
            "635 BlockGroup4__block_29__se_se_squeeze\n",
            "636 BlockGroup4__block_29__se_se_reshape\n",
            "637 BlockGroup4__block_29__se_se_reduce\n",
            "638 BlockGroup4__block_29__se_se_expand\n",
            "639 BlockGroup4__block_29__se_se_excite\n",
            "640 add_190\n",
            "641 BlockGroup4__block_29__output_act\n",
            "642 BlockGroup4__block_30__conv_1\n",
            "643 BlockGroup4__block_30_batch_norm_1\n",
            "644 BlockGroup4__block_30__act_1\n",
            "645 BlockGroup4__block_30__conv_2\n",
            "646 BlockGroup4__block_30__batch_norm_2\n",
            "647 BlockGroup4__block_30__act_2\n",
            "648 BlockGroup4__block_30__conv_3\n",
            "649 BlockGroup4__block_30__batch_norm_3\n",
            "650 BlockGroup4__block_30__se_se_squeeze\n",
            "651 BlockGroup4__block_30__se_se_reshape\n",
            "652 BlockGroup4__block_30__se_se_reduce\n",
            "653 BlockGroup4__block_30__se_se_expand\n",
            "654 BlockGroup4__block_30__se_se_excite\n",
            "655 add_191\n",
            "656 BlockGroup4__block_30__output_act\n",
            "657 BlockGroup4__block_31__conv_1\n",
            "658 BlockGroup4__block_31_batch_norm_1\n",
            "659 BlockGroup4__block_31__act_1\n",
            "660 BlockGroup4__block_31__conv_2\n",
            "661 BlockGroup4__block_31__batch_norm_2\n",
            "662 BlockGroup4__block_31__act_2\n",
            "663 BlockGroup4__block_31__conv_3\n",
            "664 BlockGroup4__block_31__batch_norm_3\n",
            "665 BlockGroup4__block_31__se_se_squeeze\n",
            "666 BlockGroup4__block_31__se_se_reshape\n",
            "667 BlockGroup4__block_31__se_se_reduce\n",
            "668 BlockGroup4__block_31__se_se_expand\n",
            "669 BlockGroup4__block_31__se_se_excite\n",
            "670 add_192\n",
            "671 BlockGroup4__block_31__output_act\n",
            "672 BlockGroup4__block_32__conv_1\n",
            "673 BlockGroup4__block_32_batch_norm_1\n",
            "674 BlockGroup4__block_32__act_1\n",
            "675 BlockGroup4__block_32__conv_2\n",
            "676 BlockGroup4__block_32__batch_norm_2\n",
            "677 BlockGroup4__block_32__act_2\n",
            "678 BlockGroup4__block_32__conv_3\n",
            "679 BlockGroup4__block_32__batch_norm_3\n",
            "680 BlockGroup4__block_32__se_se_squeeze\n",
            "681 BlockGroup4__block_32__se_se_reshape\n",
            "682 BlockGroup4__block_32__se_se_reduce\n",
            "683 BlockGroup4__block_32__se_se_expand\n",
            "684 BlockGroup4__block_32__se_se_excite\n",
            "685 add_193\n",
            "686 BlockGroup4__block_32__output_act\n",
            "687 BlockGroup4__block_33__conv_1\n",
            "688 BlockGroup4__block_33_batch_norm_1\n",
            "689 BlockGroup4__block_33__act_1\n",
            "690 BlockGroup4__block_33__conv_2\n",
            "691 BlockGroup4__block_33__batch_norm_2\n",
            "692 BlockGroup4__block_33__act_2\n",
            "693 BlockGroup4__block_33__conv_3\n",
            "694 BlockGroup4__block_33__batch_norm_3\n",
            "695 BlockGroup4__block_33__se_se_squeeze\n",
            "696 BlockGroup4__block_33__se_se_reshape\n",
            "697 BlockGroup4__block_33__se_se_reduce\n",
            "698 BlockGroup4__block_33__se_se_expand\n",
            "699 BlockGroup4__block_33__se_se_excite\n",
            "700 add_194\n",
            "701 BlockGroup4__block_33__output_act\n",
            "702 BlockGroup4__block_34__conv_1\n",
            "703 BlockGroup4__block_34_batch_norm_1\n",
            "704 BlockGroup4__block_34__act_1\n",
            "705 BlockGroup4__block_34__conv_2\n",
            "706 BlockGroup4__block_34__batch_norm_2\n",
            "707 BlockGroup4__block_34__act_2\n",
            "708 BlockGroup4__block_34__conv_3\n",
            "709 BlockGroup4__block_34__batch_norm_3\n",
            "710 BlockGroup4__block_34__se_se_squeeze\n",
            "711 BlockGroup4__block_34__se_se_reshape\n",
            "712 BlockGroup4__block_34__se_se_reduce\n",
            "713 BlockGroup4__block_34__se_se_expand\n",
            "714 BlockGroup4__block_34__se_se_excite\n",
            "715 add_195\n",
            "716 BlockGroup4__block_34__output_act\n",
            "717 BlockGroup4__block_35__conv_1\n",
            "718 BlockGroup4__block_35_batch_norm_1\n",
            "719 BlockGroup4__block_35__act_1\n",
            "720 BlockGroup4__block_35__conv_2\n",
            "721 BlockGroup4__block_35__batch_norm_2\n",
            "722 BlockGroup4__block_35__act_2\n",
            "723 BlockGroup4__block_35__conv_3\n",
            "724 BlockGroup4__block_35__batch_norm_3\n",
            "725 BlockGroup4__block_35__se_se_squeeze\n",
            "726 BlockGroup4__block_35__se_se_reshape\n",
            "727 BlockGroup4__block_35__se_se_reduce\n",
            "728 BlockGroup4__block_35__se_se_expand\n",
            "729 BlockGroup4__block_35__se_se_excite\n",
            "730 add_196\n",
            "731 BlockGroup4__block_35__output_act\n",
            "732 BlockGroup5__block_0__conv_1\n",
            "733 BlockGroup5__block_0_batch_norm_1\n",
            "734 BlockGroup5__block_0__act_1\n",
            "735 zero_padding2d_19\n",
            "736 BlockGroup5__block_0__conv_2\n",
            "737 BlockGroup5__block_0__batch_norm_2\n",
            "738 BlockGroup5__block_0__act_2\n",
            "739 BlockGroup5__block_0__conv_3\n",
            "740 BlockGroup5__block_0__batch_norm_3\n",
            "741 BlockGroup5__block_0__se_se_squeeze\n",
            "742 BlockGroup5__block_0__se_se_reshape\n",
            "743 BlockGroup5__block_0__se_se_reduce\n",
            "744 BlockGroup5__block_0__projection_pooling\n",
            "745 BlockGroup5__block_0__se_se_expand\n",
            "746 BlockGroup5__block_0__projection_conv\n",
            "747 BlockGroup5__block_0__se_se_excite\n",
            "748 BlockGroup5__block_0__projection_batch_norm\n",
            "749 add_197\n",
            "750 BlockGroup5__block_0__output_act\n",
            "751 BlockGroup5__block_1__conv_1\n",
            "752 BlockGroup5__block_1_batch_norm_1\n",
            "753 BlockGroup5__block_1__act_1\n",
            "754 BlockGroup5__block_1__conv_2\n",
            "755 BlockGroup5__block_1__batch_norm_2\n",
            "756 BlockGroup5__block_1__act_2\n",
            "757 BlockGroup5__block_1__conv_3\n",
            "758 BlockGroup5__block_1__batch_norm_3\n",
            "759 BlockGroup5__block_1__se_se_squeeze\n",
            "760 BlockGroup5__block_1__se_se_reshape\n",
            "761 BlockGroup5__block_1__se_se_reduce\n",
            "762 BlockGroup5__block_1__se_se_expand\n",
            "763 BlockGroup5__block_1__se_se_excite\n",
            "764 add_198\n",
            "765 BlockGroup5__block_1__output_act\n",
            "766 BlockGroup5__block_2__conv_1\n",
            "767 BlockGroup5__block_2_batch_norm_1\n",
            "768 BlockGroup5__block_2__act_1\n",
            "769 BlockGroup5__block_2__conv_2\n",
            "770 BlockGroup5__block_2__batch_norm_2\n",
            "771 BlockGroup5__block_2__act_2\n",
            "772 BlockGroup5__block_2__conv_3\n",
            "773 BlockGroup5__block_2__batch_norm_3\n",
            "774 BlockGroup5__block_2__se_se_squeeze\n",
            "775 BlockGroup5__block_2__se_se_reshape\n",
            "776 BlockGroup5__block_2__se_se_reduce\n",
            "777 BlockGroup5__block_2__se_se_expand\n",
            "778 BlockGroup5__block_2__se_se_excite\n",
            "779 add_199\n",
            "780 BlockGroup5__block_2__output_act\n"
          ]
        }
      ]
    },
    {
      "cell_type": "code",
      "source": [
        "plot_loss_curves(history_resnet_model_1)"
      ],
      "metadata": {
        "colab": {
          "base_uri": "https://localhost:8080/",
          "height": 573
        },
        "id": "aHrA-LEIpAh1",
        "outputId": "7b6ef9cf-10ab-4856-ac15-38688afd1ee1"
      },
      "execution_count": 144,
      "outputs": [
        {
          "output_type": "display_data",
          "data": {
            "text/plain": [
              "<Figure size 432x288 with 1 Axes>"
            ],
            "image/png": "[encoded data removed]"
          },
          "metadata": {
            "needs_background": "light"
          }
        },
        {
          "output_type": "display_data",
          "data": {
            "text/plain": [
              "<Figure size 432x288 with 1 Axes>"
            ],
            "image/png": "[encoded data removed]"
          },
          "metadata": {
            "needs_background": "light"
          }
        }
      ]
    },
    {
      "cell_type": "code",
      "source": [
        "# Load in saved model weights and evaluate model\n",
        "resnet_model_1.load_weights(checkpoint_path)\n",
        "laoded_weights_model_results = resnet_model_1.evaluate(test_data)"
      ],
      "metadata": {
        "colab": {
          "base_uri": "https://localhost:8080/"
        },
        "id": "wGrGK8vDzVSE",
        "outputId": "8c7098f3-4b85-4c07-e301-cc1170fcdf11"
      },
      "execution_count": 154,
      "outputs": [
        {
          "output_type": "stream",
          "name": "stdout",
          "text": [
            "16/16 [==============================] - 6s 337ms/step - loss: 0.6149 - accuracy: 0.6788\n"
          ]
        }
      ]
    },
    {
      "cell_type": "markdown",
      "source": [
        "## Model_2 = Fine_tuning an existing model  "
      ],
      "metadata": {
        "id": "7ZsnMLJBq0_u"
      }
    },
    {
      "cell_type": "code",
      "source": [
        "resnet_model_1.layers"
      ],
      "metadata": {
        "colab": {
          "base_uri": "https://localhost:8080/"
        },
        "id": "H3uoOHkCrEXM",
        "outputId": "abc1c427-78d4-4ad8-ba1e-74afbd98069b"
      },
      "execution_count": 148,
      "outputs": [
        {
          "output_type": "execute_result",
          "data": {
            "text/plain": [
              "[<keras.engine.input_layer.InputLayer at 0x7efc71d3ad90>,\n",
              " <keras.engine.functional.Functional at 0x7efc71ce0640>,\n",
              " <keras.layers.pooling.global_average_pooling2d.GlobalAveragePooling2D at 0x7efc2d81d3a0>,\n",
              " <keras.layers.core.dense.Dense at 0x7efc2d83ddc0>]"
            ]
          },
          "metadata": {},
          "execution_count": 148
        }
      ]
    },
    {
      "cell_type": "code",
      "source": [
        "resnet_model_1.summary()"
      ],
      "metadata": {
        "colab": {
          "base_uri": "https://localhost:8080/"
        },
        "id": "Dz2dy7Hnx8o5",
        "outputId": "af84f2b2-eaaf-420f-dedf-0020fa096719"
      },
      "execution_count": 149,
      "outputs": [
        {
          "output_type": "stream",
          "name": "stdout",
          "text": [
            "Model: \"model_3\"\n",
            "_________________________________________________________________\n",
            " Layer (type)                Output Shape              Param #   \n",
            "=================================================================\n",
            " input_layer (InputLayer)    [(None, 224, 224, 3)]     0         \n",
            "                                                                 \n",
            " resnet-rs-152 (Functional)  (None, None, None, 2048)  84724256  \n",
            "                                                                 \n",
            " global_average_pooling_laye  (None, 2048)             0         \n",
            " r (GlobalAveragePooling2D)                                      \n",
            "                                                                 \n",
            " output_layer (Dense)        (None, 1)                 2049      \n",
            "                                                                 \n",
            "=================================================================\n",
            "Total params: 84,726,305\n",
            "Trainable params: 2,049\n",
            "Non-trainable params: 84,724,256\n",
            "_________________________________________________________________\n"
          ]
        }
      ]
    },
    {
      "cell_type": "code",
      "source": [
        "# How many layers are trainable in our resnet model?\n",
        "print(len(resnet_model_1.layers[1].trainable_variables))"
      ],
      "metadata": {
        "colab": {
          "base_uri": "https://localhost:8080/"
        },
        "id": "G06UNck3x-PF",
        "outputId": "6a70b409-540a-40a4-c316-03cdaa91b990"
      },
      "execution_count": 150,
      "outputs": [
        {
          "output_type": "stream",
          "name": "stdout",
          "text": [
            "0\n"
          ]
        }
      ]
    },
    {
      "cell_type": "code",
      "source": [
        "# How many layers are trainable in our base resnet rs 152 model?\n",
        "print(len(base_model.trainable_variables))"
      ],
      "metadata": {
        "colab": {
          "base_uri": "https://localhost:8080/"
        },
        "id": "SdGBvXAWyWAu",
        "outputId": "6cf15559-51c1-4d87-82b0-4c010ad3fd64"
      },
      "execution_count": 152,
      "outputs": [
        {
          "output_type": "stream",
          "name": "stdout",
          "text": [
            "0\n"
          ]
        }
      ]
    },
    {
      "cell_type": "code",
      "source": [
        "for layer_number, layer in enumerate(base_model.layers):\n",
        "  print(layer_number, layer.name, layer.trainable)"
      ],
      "metadata": {
        "colab": {
          "base_uri": "https://localhost:8080/"
        },
        "id": "1Ndk5B37yb27",
        "outputId": "f3d1435b-d9ac-43e8-eebd-6acc09ce9a09"
      },
      "execution_count": 153,
      "outputs": [
        {
          "output_type": "stream",
          "name": "stdout",
          "text": [
            "0 input_8 False\n",
            "1 rescaling_7 False\n",
            "2 normalization_7 False\n",
            "3 zero_padding2d_35 False\n",
            "4 stem_8_stem_conv_1 False\n",
            "5 stem_8_stem_batch_norm_1 False\n",
            "6 stem_8_stem_act_1 False\n",
            "7 stem_8_stem_conv_2 False\n",
            "8 stem_8_stem_batch_norm_2 False\n",
            "9 stem_8_stem_act_2 False\n",
            "10 stem_8_stem_conv_3 False\n",
            "11 stem_8_stem_batch_norm_3 False\n",
            "12 stem_8_stem_act_3 False\n",
            "13 zero_padding2d_36 False\n",
            "14 stem_8_stem_conv_4 False\n",
            "15 stem_8_stem_batch_norm_4 False\n",
            "16 stem_8_stem_act_4 False\n",
            "17 BlockGroup2__block_0__conv_1 False\n",
            "18 BlockGroup2__block_0_batch_norm_1 False\n",
            "19 BlockGroup2__block_0__act_1 False\n",
            "20 BlockGroup2__block_0__conv_2 False\n",
            "21 BlockGroup2__block_0__batch_norm_2 False\n",
            "22 BlockGroup2__block_0__act_2 False\n",
            "23 BlockGroup2__block_0__conv_3 False\n",
            "24 BlockGroup2__block_0__batch_norm_3 False\n",
            "25 BlockGroup2__block_0__se_se_squeeze False\n",
            "26 BlockGroup2__block_0__se_se_reshape False\n",
            "27 BlockGroup2__block_0__se_se_reduce False\n",
            "28 BlockGroup2__block_0__se_se_expand False\n",
            "29 BlockGroup2__block_0__projection_conv False\n",
            "30 BlockGroup2__block_0__se_se_excite False\n",
            "31 BlockGroup2__block_0__projection_batch_norm False\n",
            "32 add_350 False\n",
            "33 BlockGroup2__block_0__output_act False\n",
            "34 BlockGroup2__block_1__conv_1 False\n",
            "35 BlockGroup2__block_1_batch_norm_1 False\n",
            "36 BlockGroup2__block_1__act_1 False\n",
            "37 BlockGroup2__block_1__conv_2 False\n",
            "38 BlockGroup2__block_1__batch_norm_2 False\n",
            "39 BlockGroup2__block_1__act_2 False\n",
            "40 BlockGroup2__block_1__conv_3 False\n",
            "41 BlockGroup2__block_1__batch_norm_3 False\n",
            "42 BlockGroup2__block_1__se_se_squeeze False\n",
            "43 BlockGroup2__block_1__se_se_reshape False\n",
            "44 BlockGroup2__block_1__se_se_reduce False\n",
            "45 BlockGroup2__block_1__se_se_expand False\n",
            "46 BlockGroup2__block_1__se_se_excite False\n",
            "47 add_351 False\n",
            "48 BlockGroup2__block_1__output_act False\n",
            "49 BlockGroup2__block_2__conv_1 False\n",
            "50 BlockGroup2__block_2_batch_norm_1 False\n",
            "51 BlockGroup2__block_2__act_1 False\n",
            "52 BlockGroup2__block_2__conv_2 False\n",
            "53 BlockGroup2__block_2__batch_norm_2 False\n",
            "54 BlockGroup2__block_2__act_2 False\n",
            "55 BlockGroup2__block_2__conv_3 False\n",
            "56 BlockGroup2__block_2__batch_norm_3 False\n",
            "57 BlockGroup2__block_2__se_se_squeeze False\n",
            "58 BlockGroup2__block_2__se_se_reshape False\n",
            "59 BlockGroup2__block_2__se_se_reduce False\n",
            "60 BlockGroup2__block_2__se_se_expand False\n",
            "61 BlockGroup2__block_2__se_se_excite False\n",
            "62 add_352 False\n",
            "63 BlockGroup2__block_2__output_act False\n",
            "64 BlockGroup3__block_0__conv_1 False\n",
            "65 BlockGroup3__block_0_batch_norm_1 False\n",
            "66 BlockGroup3__block_0__act_1 False\n",
            "67 zero_padding2d_37 False\n",
            "68 BlockGroup3__block_0__conv_2 False\n",
            "69 BlockGroup3__block_0__batch_norm_2 False\n",
            "70 BlockGroup3__block_0__act_2 False\n",
            "71 BlockGroup3__block_0__conv_3 False\n",
            "72 BlockGroup3__block_0__batch_norm_3 False\n",
            "73 BlockGroup3__block_0__se_se_squeeze False\n",
            "74 BlockGroup3__block_0__se_se_reshape False\n",
            "75 BlockGroup3__block_0__se_se_reduce False\n",
            "76 BlockGroup3__block_0__projection_pooling False\n",
            "77 BlockGroup3__block_0__se_se_expand False\n",
            "78 BlockGroup3__block_0__projection_conv False\n",
            "79 BlockGroup3__block_0__se_se_excite False\n",
            "80 BlockGroup3__block_0__projection_batch_norm False\n",
            "81 add_353 False\n",
            "82 BlockGroup3__block_0__output_act False\n",
            "83 BlockGroup3__block_1__conv_1 False\n",
            "84 BlockGroup3__block_1_batch_norm_1 False\n",
            "85 BlockGroup3__block_1__act_1 False\n",
            "86 BlockGroup3__block_1__conv_2 False\n",
            "87 BlockGroup3__block_1__batch_norm_2 False\n",
            "88 BlockGroup3__block_1__act_2 False\n",
            "89 BlockGroup3__block_1__conv_3 False\n",
            "90 BlockGroup3__block_1__batch_norm_3 False\n",
            "91 BlockGroup3__block_1__se_se_squeeze False\n",
            "92 BlockGroup3__block_1__se_se_reshape False\n",
            "93 BlockGroup3__block_1__se_se_reduce False\n",
            "94 BlockGroup3__block_1__se_se_expand False\n",
            "95 BlockGroup3__block_1__se_se_excite False\n",
            "96 add_354 False\n",
            "97 BlockGroup3__block_1__output_act False\n",
            "98 BlockGroup3__block_2__conv_1 False\n",
            "99 BlockGroup3__block_2_batch_norm_1 False\n",
            "100 BlockGroup3__block_2__act_1 False\n",
            "101 BlockGroup3__block_2__conv_2 False\n",
            "102 BlockGroup3__block_2__batch_norm_2 False\n",
            "103 BlockGroup3__block_2__act_2 False\n",
            "104 BlockGroup3__block_2__conv_3 False\n",
            "105 BlockGroup3__block_2__batch_norm_3 False\n",
            "106 BlockGroup3__block_2__se_se_squeeze False\n",
            "107 BlockGroup3__block_2__se_se_reshape False\n",
            "108 BlockGroup3__block_2__se_se_reduce False\n",
            "109 BlockGroup3__block_2__se_se_expand False\n",
            "110 BlockGroup3__block_2__se_se_excite False\n",
            "111 add_355 False\n",
            "112 BlockGroup3__block_2__output_act False\n",
            "113 BlockGroup3__block_3__conv_1 False\n",
            "114 BlockGroup3__block_3_batch_norm_1 False\n",
            "115 BlockGroup3__block_3__act_1 False\n",
            "116 BlockGroup3__block_3__conv_2 False\n",
            "117 BlockGroup3__block_3__batch_norm_2 False\n",
            "118 BlockGroup3__block_3__act_2 False\n",
            "119 BlockGroup3__block_3__conv_3 False\n",
            "120 BlockGroup3__block_3__batch_norm_3 False\n",
            "121 BlockGroup3__block_3__se_se_squeeze False\n",
            "122 BlockGroup3__block_3__se_se_reshape False\n",
            "123 BlockGroup3__block_3__se_se_reduce False\n",
            "124 BlockGroup3__block_3__se_se_expand False\n",
            "125 BlockGroup3__block_3__se_se_excite False\n",
            "126 add_356 False\n",
            "127 BlockGroup3__block_3__output_act False\n",
            "128 BlockGroup3__block_4__conv_1 False\n",
            "129 BlockGroup3__block_4_batch_norm_1 False\n",
            "130 BlockGroup3__block_4__act_1 False\n",
            "131 BlockGroup3__block_4__conv_2 False\n",
            "132 BlockGroup3__block_4__batch_norm_2 False\n",
            "133 BlockGroup3__block_4__act_2 False\n",
            "134 BlockGroup3__block_4__conv_3 False\n",
            "135 BlockGroup3__block_4__batch_norm_3 False\n",
            "136 BlockGroup3__block_4__se_se_squeeze False\n",
            "137 BlockGroup3__block_4__se_se_reshape False\n",
            "138 BlockGroup3__block_4__se_se_reduce False\n",
            "139 BlockGroup3__block_4__se_se_expand False\n",
            "140 BlockGroup3__block_4__se_se_excite False\n",
            "141 add_357 False\n",
            "142 BlockGroup3__block_4__output_act False\n",
            "143 BlockGroup3__block_5__conv_1 False\n",
            "144 BlockGroup3__block_5_batch_norm_1 False\n",
            "145 BlockGroup3__block_5__act_1 False\n",
            "146 BlockGroup3__block_5__conv_2 False\n",
            "147 BlockGroup3__block_5__batch_norm_2 False\n",
            "148 BlockGroup3__block_5__act_2 False\n",
            "149 BlockGroup3__block_5__conv_3 False\n",
            "150 BlockGroup3__block_5__batch_norm_3 False\n",
            "151 BlockGroup3__block_5__se_se_squeeze False\n",
            "152 BlockGroup3__block_5__se_se_reshape False\n",
            "153 BlockGroup3__block_5__se_se_reduce False\n",
            "154 BlockGroup3__block_5__se_se_expand False\n",
            "155 BlockGroup3__block_5__se_se_excite False\n",
            "156 add_358 False\n",
            "157 BlockGroup3__block_5__output_act False\n",
            "158 BlockGroup3__block_6__conv_1 False\n",
            "159 BlockGroup3__block_6_batch_norm_1 False\n",
            "160 BlockGroup3__block_6__act_1 False\n",
            "161 BlockGroup3__block_6__conv_2 False\n",
            "162 BlockGroup3__block_6__batch_norm_2 False\n",
            "163 BlockGroup3__block_6__act_2 False\n",
            "164 BlockGroup3__block_6__conv_3 False\n",
            "165 BlockGroup3__block_6__batch_norm_3 False\n",
            "166 BlockGroup3__block_6__se_se_squeeze False\n",
            "167 BlockGroup3__block_6__se_se_reshape False\n",
            "168 BlockGroup3__block_6__se_se_reduce False\n",
            "169 BlockGroup3__block_6__se_se_expand False\n",
            "170 BlockGroup3__block_6__se_se_excite False\n",
            "171 add_359 False\n",
            "172 BlockGroup3__block_6__output_act False\n",
            "173 BlockGroup3__block_7__conv_1 False\n",
            "174 BlockGroup3__block_7_batch_norm_1 False\n",
            "175 BlockGroup3__block_7__act_1 False\n",
            "176 BlockGroup3__block_7__conv_2 False\n",
            "177 BlockGroup3__block_7__batch_norm_2 False\n",
            "178 BlockGroup3__block_7__act_2 False\n",
            "179 BlockGroup3__block_7__conv_3 False\n",
            "180 BlockGroup3__block_7__batch_norm_3 False\n",
            "181 BlockGroup3__block_7__se_se_squeeze False\n",
            "182 BlockGroup3__block_7__se_se_reshape False\n",
            "183 BlockGroup3__block_7__se_se_reduce False\n",
            "184 BlockGroup3__block_7__se_se_expand False\n",
            "185 BlockGroup3__block_7__se_se_excite False\n",
            "186 add_360 False\n",
            "187 BlockGroup3__block_7__output_act False\n",
            "188 BlockGroup4__block_0__conv_1 False\n",
            "189 BlockGroup4__block_0_batch_norm_1 False\n",
            "190 BlockGroup4__block_0__act_1 False\n",
            "191 zero_padding2d_38 False\n",
            "192 BlockGroup4__block_0__conv_2 False\n",
            "193 BlockGroup4__block_0__batch_norm_2 False\n",
            "194 BlockGroup4__block_0__act_2 False\n",
            "195 BlockGroup4__block_0__conv_3 False\n",
            "196 BlockGroup4__block_0__batch_norm_3 False\n",
            "197 BlockGroup4__block_0__se_se_squeeze False\n",
            "198 BlockGroup4__block_0__se_se_reshape False\n",
            "199 BlockGroup4__block_0__se_se_reduce False\n",
            "200 BlockGroup4__block_0__projection_pooling False\n",
            "201 BlockGroup4__block_0__se_se_expand False\n",
            "202 BlockGroup4__block_0__projection_conv False\n",
            "203 BlockGroup4__block_0__se_se_excite False\n",
            "204 BlockGroup4__block_0__projection_batch_norm False\n",
            "205 add_361 False\n",
            "206 BlockGroup4__block_0__output_act False\n",
            "207 BlockGroup4__block_1__conv_1 False\n",
            "208 BlockGroup4__block_1_batch_norm_1 False\n",
            "209 BlockGroup4__block_1__act_1 False\n",
            "210 BlockGroup4__block_1__conv_2 False\n",
            "211 BlockGroup4__block_1__batch_norm_2 False\n",
            "212 BlockGroup4__block_1__act_2 False\n",
            "213 BlockGroup4__block_1__conv_3 False\n",
            "214 BlockGroup4__block_1__batch_norm_3 False\n",
            "215 BlockGroup4__block_1__se_se_squeeze False\n",
            "216 BlockGroup4__block_1__se_se_reshape False\n",
            "217 BlockGroup4__block_1__se_se_reduce False\n",
            "218 BlockGroup4__block_1__se_se_expand False\n",
            "219 BlockGroup4__block_1__se_se_excite False\n",
            "220 add_362 False\n",
            "221 BlockGroup4__block_1__output_act False\n",
            "222 BlockGroup4__block_2__conv_1 False\n",
            "223 BlockGroup4__block_2_batch_norm_1 False\n",
            "224 BlockGroup4__block_2__act_1 False\n",
            "225 BlockGroup4__block_2__conv_2 False\n",
            "226 BlockGroup4__block_2__batch_norm_2 False\n",
            "227 BlockGroup4__block_2__act_2 False\n",
            "228 BlockGroup4__block_2__conv_3 False\n",
            "229 BlockGroup4__block_2__batch_norm_3 False\n",
            "230 BlockGroup4__block_2__se_se_squeeze False\n",
            "231 BlockGroup4__block_2__se_se_reshape False\n",
            "232 BlockGroup4__block_2__se_se_reduce False\n",
            "233 BlockGroup4__block_2__se_se_expand False\n",
            "234 BlockGroup4__block_2__se_se_excite False\n",
            "235 add_363 False\n",
            "236 BlockGroup4__block_2__output_act False\n",
            "237 BlockGroup4__block_3__conv_1 False\n",
            "238 BlockGroup4__block_3_batch_norm_1 False\n",
            "239 BlockGroup4__block_3__act_1 False\n",
            "240 BlockGroup4__block_3__conv_2 False\n",
            "241 BlockGroup4__block_3__batch_norm_2 False\n",
            "242 BlockGroup4__block_3__act_2 False\n",
            "243 BlockGroup4__block_3__conv_3 False\n",
            "244 BlockGroup4__block_3__batch_norm_3 False\n",
            "245 BlockGroup4__block_3__se_se_squeeze False\n",
            "246 BlockGroup4__block_3__se_se_reshape False\n",
            "247 BlockGroup4__block_3__se_se_reduce False\n",
            "248 BlockGroup4__block_3__se_se_expand False\n",
            "249 BlockGroup4__block_3__se_se_excite False\n",
            "250 add_364 False\n",
            "251 BlockGroup4__block_3__output_act False\n",
            "252 BlockGroup4__block_4__conv_1 False\n",
            "253 BlockGroup4__block_4_batch_norm_1 False\n",
            "254 BlockGroup4__block_4__act_1 False\n",
            "255 BlockGroup4__block_4__conv_2 False\n",
            "256 BlockGroup4__block_4__batch_norm_2 False\n",
            "257 BlockGroup4__block_4__act_2 False\n",
            "258 BlockGroup4__block_4__conv_3 False\n",
            "259 BlockGroup4__block_4__batch_norm_3 False\n",
            "260 BlockGroup4__block_4__se_se_squeeze False\n",
            "261 BlockGroup4__block_4__se_se_reshape False\n",
            "262 BlockGroup4__block_4__se_se_reduce False\n",
            "263 BlockGroup4__block_4__se_se_expand False\n",
            "264 BlockGroup4__block_4__se_se_excite False\n",
            "265 add_365 False\n",
            "266 BlockGroup4__block_4__output_act False\n",
            "267 BlockGroup4__block_5__conv_1 False\n",
            "268 BlockGroup4__block_5_batch_norm_1 False\n",
            "269 BlockGroup4__block_5__act_1 False\n",
            "270 BlockGroup4__block_5__conv_2 False\n",
            "271 BlockGroup4__block_5__batch_norm_2 False\n",
            "272 BlockGroup4__block_5__act_2 False\n",
            "273 BlockGroup4__block_5__conv_3 False\n",
            "274 BlockGroup4__block_5__batch_norm_3 False\n",
            "275 BlockGroup4__block_5__se_se_squeeze False\n",
            "276 BlockGroup4__block_5__se_se_reshape False\n",
            "277 BlockGroup4__block_5__se_se_reduce False\n",
            "278 BlockGroup4__block_5__se_se_expand False\n",
            "279 BlockGroup4__block_5__se_se_excite False\n",
            "280 add_366 False\n",
            "281 BlockGroup4__block_5__output_act False\n",
            "282 BlockGroup4__block_6__conv_1 False\n",
            "283 BlockGroup4__block_6_batch_norm_1 False\n",
            "284 BlockGroup4__block_6__act_1 False\n",
            "285 BlockGroup4__block_6__conv_2 False\n",
            "286 BlockGroup4__block_6__batch_norm_2 False\n",
            "287 BlockGroup4__block_6__act_2 False\n",
            "288 BlockGroup4__block_6__conv_3 False\n",
            "289 BlockGroup4__block_6__batch_norm_3 False\n",
            "290 BlockGroup4__block_6__se_se_squeeze False\n",
            "291 BlockGroup4__block_6__se_se_reshape False\n",
            "292 BlockGroup4__block_6__se_se_reduce False\n",
            "293 BlockGroup4__block_6__se_se_expand False\n",
            "294 BlockGroup4__block_6__se_se_excite False\n",
            "295 add_367 False\n",
            "296 BlockGroup4__block_6__output_act False\n",
            "297 BlockGroup4__block_7__conv_1 False\n",
            "298 BlockGroup4__block_7_batch_norm_1 False\n",
            "299 BlockGroup4__block_7__act_1 False\n",
            "300 BlockGroup4__block_7__conv_2 False\n",
            "301 BlockGroup4__block_7__batch_norm_2 False\n",
            "302 BlockGroup4__block_7__act_2 False\n",
            "303 BlockGroup4__block_7__conv_3 False\n",
            "304 BlockGroup4__block_7__batch_norm_3 False\n",
            "305 BlockGroup4__block_7__se_se_squeeze False\n",
            "306 BlockGroup4__block_7__se_se_reshape False\n",
            "307 BlockGroup4__block_7__se_se_reduce False\n",
            "308 BlockGroup4__block_7__se_se_expand False\n",
            "309 BlockGroup4__block_7__se_se_excite False\n",
            "310 add_368 False\n",
            "311 BlockGroup4__block_7__output_act False\n",
            "312 BlockGroup4__block_8__conv_1 False\n",
            "313 BlockGroup4__block_8_batch_norm_1 False\n",
            "314 BlockGroup4__block_8__act_1 False\n",
            "315 BlockGroup4__block_8__conv_2 False\n",
            "316 BlockGroup4__block_8__batch_norm_2 False\n",
            "317 BlockGroup4__block_8__act_2 False\n",
            "318 BlockGroup4__block_8__conv_3 False\n",
            "319 BlockGroup4__block_8__batch_norm_3 False\n",
            "320 BlockGroup4__block_8__se_se_squeeze False\n",
            "321 BlockGroup4__block_8__se_se_reshape False\n",
            "322 BlockGroup4__block_8__se_se_reduce False\n",
            "323 BlockGroup4__block_8__se_se_expand False\n",
            "324 BlockGroup4__block_8__se_se_excite False\n",
            "325 add_369 False\n",
            "326 BlockGroup4__block_8__output_act False\n",
            "327 BlockGroup4__block_9__conv_1 False\n",
            "328 BlockGroup4__block_9_batch_norm_1 False\n",
            "329 BlockGroup4__block_9__act_1 False\n",
            "330 BlockGroup4__block_9__conv_2 False\n",
            "331 BlockGroup4__block_9__batch_norm_2 False\n",
            "332 BlockGroup4__block_9__act_2 False\n",
            "333 BlockGroup4__block_9__conv_3 False\n",
            "334 BlockGroup4__block_9__batch_norm_3 False\n",
            "335 BlockGroup4__block_9__se_se_squeeze False\n",
            "336 BlockGroup4__block_9__se_se_reshape False\n",
            "337 BlockGroup4__block_9__se_se_reduce False\n",
            "338 BlockGroup4__block_9__se_se_expand False\n",
            "339 BlockGroup4__block_9__se_se_excite False\n",
            "340 add_370 False\n",
            "341 BlockGroup4__block_9__output_act False\n",
            "342 BlockGroup4__block_10__conv_1 False\n",
            "343 BlockGroup4__block_10_batch_norm_1 False\n",
            "344 BlockGroup4__block_10__act_1 False\n",
            "345 BlockGroup4__block_10__conv_2 False\n",
            "346 BlockGroup4__block_10__batch_norm_2 False\n",
            "347 BlockGroup4__block_10__act_2 False\n",
            "348 BlockGroup4__block_10__conv_3 False\n",
            "349 BlockGroup4__block_10__batch_norm_3 False\n",
            "350 BlockGroup4__block_10__se_se_squeeze False\n",
            "351 BlockGroup4__block_10__se_se_reshape False\n",
            "352 BlockGroup4__block_10__se_se_reduce False\n",
            "353 BlockGroup4__block_10__se_se_expand False\n",
            "354 BlockGroup4__block_10__se_se_excite False\n",
            "355 add_371 False\n",
            "356 BlockGroup4__block_10__output_act False\n",
            "357 BlockGroup4__block_11__conv_1 False\n",
            "358 BlockGroup4__block_11_batch_norm_1 False\n",
            "359 BlockGroup4__block_11__act_1 False\n",
            "360 BlockGroup4__block_11__conv_2 False\n",
            "361 BlockGroup4__block_11__batch_norm_2 False\n",
            "362 BlockGroup4__block_11__act_2 False\n",
            "363 BlockGroup4__block_11__conv_3 False\n",
            "364 BlockGroup4__block_11__batch_norm_3 False\n",
            "365 BlockGroup4__block_11__se_se_squeeze False\n",
            "366 BlockGroup4__block_11__se_se_reshape False\n",
            "367 BlockGroup4__block_11__se_se_reduce False\n",
            "368 BlockGroup4__block_11__se_se_expand False\n",
            "369 BlockGroup4__block_11__se_se_excite False\n",
            "370 add_372 False\n",
            "371 BlockGroup4__block_11__output_act False\n",
            "372 BlockGroup4__block_12__conv_1 False\n",
            "373 BlockGroup4__block_12_batch_norm_1 False\n",
            "374 BlockGroup4__block_12__act_1 False\n",
            "375 BlockGroup4__block_12__conv_2 False\n",
            "376 BlockGroup4__block_12__batch_norm_2 False\n",
            "377 BlockGroup4__block_12__act_2 False\n",
            "378 BlockGroup4__block_12__conv_3 False\n",
            "379 BlockGroup4__block_12__batch_norm_3 False\n",
            "380 BlockGroup4__block_12__se_se_squeeze False\n",
            "381 BlockGroup4__block_12__se_se_reshape False\n",
            "382 BlockGroup4__block_12__se_se_reduce False\n",
            "383 BlockGroup4__block_12__se_se_expand False\n",
            "384 BlockGroup4__block_12__se_se_excite False\n",
            "385 add_373 False\n",
            "386 BlockGroup4__block_12__output_act False\n",
            "387 BlockGroup4__block_13__conv_1 False\n",
            "388 BlockGroup4__block_13_batch_norm_1 False\n",
            "389 BlockGroup4__block_13__act_1 False\n",
            "390 BlockGroup4__block_13__conv_2 False\n",
            "391 BlockGroup4__block_13__batch_norm_2 False\n",
            "392 BlockGroup4__block_13__act_2 False\n",
            "393 BlockGroup4__block_13__conv_3 False\n",
            "394 BlockGroup4__block_13__batch_norm_3 False\n",
            "395 BlockGroup4__block_13__se_se_squeeze False\n",
            "396 BlockGroup4__block_13__se_se_reshape False\n",
            "397 BlockGroup4__block_13__se_se_reduce False\n",
            "398 BlockGroup4__block_13__se_se_expand False\n",
            "399 BlockGroup4__block_13__se_se_excite False\n",
            "400 add_374 False\n",
            "401 BlockGroup4__block_13__output_act False\n",
            "402 BlockGroup4__block_14__conv_1 False\n",
            "403 BlockGroup4__block_14_batch_norm_1 False\n",
            "404 BlockGroup4__block_14__act_1 False\n",
            "405 BlockGroup4__block_14__conv_2 False\n",
            "406 BlockGroup4__block_14__batch_norm_2 False\n",
            "407 BlockGroup4__block_14__act_2 False\n",
            "408 BlockGroup4__block_14__conv_3 False\n",
            "409 BlockGroup4__block_14__batch_norm_3 False\n",
            "410 BlockGroup4__block_14__se_se_squeeze False\n",
            "411 BlockGroup4__block_14__se_se_reshape False\n",
            "412 BlockGroup4__block_14__se_se_reduce False\n",
            "413 BlockGroup4__block_14__se_se_expand False\n",
            "414 BlockGroup4__block_14__se_se_excite False\n",
            "415 add_375 False\n",
            "416 BlockGroup4__block_14__output_act False\n",
            "417 BlockGroup4__block_15__conv_1 False\n",
            "418 BlockGroup4__block_15_batch_norm_1 False\n",
            "419 BlockGroup4__block_15__act_1 False\n",
            "420 BlockGroup4__block_15__conv_2 False\n",
            "421 BlockGroup4__block_15__batch_norm_2 False\n",
            "422 BlockGroup4__block_15__act_2 False\n",
            "423 BlockGroup4__block_15__conv_3 False\n",
            "424 BlockGroup4__block_15__batch_norm_3 False\n",
            "425 BlockGroup4__block_15__se_se_squeeze False\n",
            "426 BlockGroup4__block_15__se_se_reshape False\n",
            "427 BlockGroup4__block_15__se_se_reduce False\n",
            "428 BlockGroup4__block_15__se_se_expand False\n",
            "429 BlockGroup4__block_15__se_se_excite False\n",
            "430 add_376 False\n",
            "431 BlockGroup4__block_15__output_act False\n",
            "432 BlockGroup4__block_16__conv_1 False\n",
            "433 BlockGroup4__block_16_batch_norm_1 False\n",
            "434 BlockGroup4__block_16__act_1 False\n",
            "435 BlockGroup4__block_16__conv_2 False\n",
            "436 BlockGroup4__block_16__batch_norm_2 False\n",
            "437 BlockGroup4__block_16__act_2 False\n",
            "438 BlockGroup4__block_16__conv_3 False\n",
            "439 BlockGroup4__block_16__batch_norm_3 False\n",
            "440 BlockGroup4__block_16__se_se_squeeze False\n",
            "441 BlockGroup4__block_16__se_se_reshape False\n",
            "442 BlockGroup4__block_16__se_se_reduce False\n",
            "443 BlockGroup4__block_16__se_se_expand False\n",
            "444 BlockGroup4__block_16__se_se_excite False\n",
            "445 add_377 False\n",
            "446 BlockGroup4__block_16__output_act False\n",
            "447 BlockGroup4__block_17__conv_1 False\n",
            "448 BlockGroup4__block_17_batch_norm_1 False\n",
            "449 BlockGroup4__block_17__act_1 False\n",
            "450 BlockGroup4__block_17__conv_2 False\n",
            "451 BlockGroup4__block_17__batch_norm_2 False\n",
            "452 BlockGroup4__block_17__act_2 False\n",
            "453 BlockGroup4__block_17__conv_3 False\n",
            "454 BlockGroup4__block_17__batch_norm_3 False\n",
            "455 BlockGroup4__block_17__se_se_squeeze False\n",
            "456 BlockGroup4__block_17__se_se_reshape False\n",
            "457 BlockGroup4__block_17__se_se_reduce False\n",
            "458 BlockGroup4__block_17__se_se_expand False\n",
            "459 BlockGroup4__block_17__se_se_excite False\n",
            "460 add_378 False\n",
            "461 BlockGroup4__block_17__output_act False\n",
            "462 BlockGroup4__block_18__conv_1 False\n",
            "463 BlockGroup4__block_18_batch_norm_1 False\n",
            "464 BlockGroup4__block_18__act_1 False\n",
            "465 BlockGroup4__block_18__conv_2 False\n",
            "466 BlockGroup4__block_18__batch_norm_2 False\n",
            "467 BlockGroup4__block_18__act_2 False\n",
            "468 BlockGroup4__block_18__conv_3 False\n",
            "469 BlockGroup4__block_18__batch_norm_3 False\n",
            "470 BlockGroup4__block_18__se_se_squeeze False\n",
            "471 BlockGroup4__block_18__se_se_reshape False\n",
            "472 BlockGroup4__block_18__se_se_reduce False\n",
            "473 BlockGroup4__block_18__se_se_expand False\n",
            "474 BlockGroup4__block_18__se_se_excite False\n",
            "475 add_379 False\n",
            "476 BlockGroup4__block_18__output_act False\n",
            "477 BlockGroup4__block_19__conv_1 False\n",
            "478 BlockGroup4__block_19_batch_norm_1 False\n",
            "479 BlockGroup4__block_19__act_1 False\n",
            "480 BlockGroup4__block_19__conv_2 False\n",
            "481 BlockGroup4__block_19__batch_norm_2 False\n",
            "482 BlockGroup4__block_19__act_2 False\n",
            "483 BlockGroup4__block_19__conv_3 False\n",
            "484 BlockGroup4__block_19__batch_norm_3 False\n",
            "485 BlockGroup4__block_19__se_se_squeeze False\n",
            "486 BlockGroup4__block_19__se_se_reshape False\n",
            "487 BlockGroup4__block_19__se_se_reduce False\n",
            "488 BlockGroup4__block_19__se_se_expand False\n",
            "489 BlockGroup4__block_19__se_se_excite False\n",
            "490 add_380 False\n",
            "491 BlockGroup4__block_19__output_act False\n",
            "492 BlockGroup4__block_20__conv_1 False\n",
            "493 BlockGroup4__block_20_batch_norm_1 False\n",
            "494 BlockGroup4__block_20__act_1 False\n",
            "495 BlockGroup4__block_20__conv_2 False\n",
            "496 BlockGroup4__block_20__batch_norm_2 False\n",
            "497 BlockGroup4__block_20__act_2 False\n",
            "498 BlockGroup4__block_20__conv_3 False\n",
            "499 BlockGroup4__block_20__batch_norm_3 False\n",
            "500 BlockGroup4__block_20__se_se_squeeze False\n",
            "501 BlockGroup4__block_20__se_se_reshape False\n",
            "502 BlockGroup4__block_20__se_se_reduce False\n",
            "503 BlockGroup4__block_20__se_se_expand False\n",
            "504 BlockGroup4__block_20__se_se_excite False\n",
            "505 add_381 False\n",
            "506 BlockGroup4__block_20__output_act False\n",
            "507 BlockGroup4__block_21__conv_1 False\n",
            "508 BlockGroup4__block_21_batch_norm_1 False\n",
            "509 BlockGroup4__block_21__act_1 False\n",
            "510 BlockGroup4__block_21__conv_2 False\n",
            "511 BlockGroup4__block_21__batch_norm_2 False\n",
            "512 BlockGroup4__block_21__act_2 False\n",
            "513 BlockGroup4__block_21__conv_3 False\n",
            "514 BlockGroup4__block_21__batch_norm_3 False\n",
            "515 BlockGroup4__block_21__se_se_squeeze False\n",
            "516 BlockGroup4__block_21__se_se_reshape False\n",
            "517 BlockGroup4__block_21__se_se_reduce False\n",
            "518 BlockGroup4__block_21__se_se_expand False\n",
            "519 BlockGroup4__block_21__se_se_excite False\n",
            "520 add_382 False\n",
            "521 BlockGroup4__block_21__output_act False\n",
            "522 BlockGroup4__block_22__conv_1 False\n",
            "523 BlockGroup4__block_22_batch_norm_1 False\n",
            "524 BlockGroup4__block_22__act_1 False\n",
            "525 BlockGroup4__block_22__conv_2 False\n",
            "526 BlockGroup4__block_22__batch_norm_2 False\n",
            "527 BlockGroup4__block_22__act_2 False\n",
            "528 BlockGroup4__block_22__conv_3 False\n",
            "529 BlockGroup4__block_22__batch_norm_3 False\n",
            "530 BlockGroup4__block_22__se_se_squeeze False\n",
            "531 BlockGroup4__block_22__se_se_reshape False\n",
            "532 BlockGroup4__block_22__se_se_reduce False\n",
            "533 BlockGroup4__block_22__se_se_expand False\n",
            "534 BlockGroup4__block_22__se_se_excite False\n",
            "535 add_383 False\n",
            "536 BlockGroup4__block_22__output_act False\n",
            "537 BlockGroup4__block_23__conv_1 False\n",
            "538 BlockGroup4__block_23_batch_norm_1 False\n",
            "539 BlockGroup4__block_23__act_1 False\n",
            "540 BlockGroup4__block_23__conv_2 False\n",
            "541 BlockGroup4__block_23__batch_norm_2 False\n",
            "542 BlockGroup4__block_23__act_2 False\n",
            "543 BlockGroup4__block_23__conv_3 False\n",
            "544 BlockGroup4__block_23__batch_norm_3 False\n",
            "545 BlockGroup4__block_23__se_se_squeeze False\n",
            "546 BlockGroup4__block_23__se_se_reshape False\n",
            "547 BlockGroup4__block_23__se_se_reduce False\n",
            "548 BlockGroup4__block_23__se_se_expand False\n",
            "549 BlockGroup4__block_23__se_se_excite False\n",
            "550 add_384 False\n",
            "551 BlockGroup4__block_23__output_act False\n",
            "552 BlockGroup4__block_24__conv_1 False\n",
            "553 BlockGroup4__block_24_batch_norm_1 False\n",
            "554 BlockGroup4__block_24__act_1 False\n",
            "555 BlockGroup4__block_24__conv_2 False\n",
            "556 BlockGroup4__block_24__batch_norm_2 False\n",
            "557 BlockGroup4__block_24__act_2 False\n",
            "558 BlockGroup4__block_24__conv_3 False\n",
            "559 BlockGroup4__block_24__batch_norm_3 False\n",
            "560 BlockGroup4__block_24__se_se_squeeze False\n",
            "561 BlockGroup4__block_24__se_se_reshape False\n",
            "562 BlockGroup4__block_24__se_se_reduce False\n",
            "563 BlockGroup4__block_24__se_se_expand False\n",
            "564 BlockGroup4__block_24__se_se_excite False\n",
            "565 add_385 False\n",
            "566 BlockGroup4__block_24__output_act False\n",
            "567 BlockGroup4__block_25__conv_1 False\n",
            "568 BlockGroup4__block_25_batch_norm_1 False\n",
            "569 BlockGroup4__block_25__act_1 False\n",
            "570 BlockGroup4__block_25__conv_2 False\n",
            "571 BlockGroup4__block_25__batch_norm_2 False\n",
            "572 BlockGroup4__block_25__act_2 False\n",
            "573 BlockGroup4__block_25__conv_3 False\n",
            "574 BlockGroup4__block_25__batch_norm_3 False\n",
            "575 BlockGroup4__block_25__se_se_squeeze False\n",
            "576 BlockGroup4__block_25__se_se_reshape False\n",
            "577 BlockGroup4__block_25__se_se_reduce False\n",
            "578 BlockGroup4__block_25__se_se_expand False\n",
            "579 BlockGroup4__block_25__se_se_excite False\n",
            "580 add_386 False\n",
            "581 BlockGroup4__block_25__output_act False\n",
            "582 BlockGroup4__block_26__conv_1 False\n",
            "583 BlockGroup4__block_26_batch_norm_1 False\n",
            "584 BlockGroup4__block_26__act_1 False\n",
            "585 BlockGroup4__block_26__conv_2 False\n",
            "586 BlockGroup4__block_26__batch_norm_2 False\n",
            "587 BlockGroup4__block_26__act_2 False\n",
            "588 BlockGroup4__block_26__conv_3 False\n",
            "589 BlockGroup4__block_26__batch_norm_3 False\n",
            "590 BlockGroup4__block_26__se_se_squeeze False\n",
            "591 BlockGroup4__block_26__se_se_reshape False\n",
            "592 BlockGroup4__block_26__se_se_reduce False\n",
            "593 BlockGroup4__block_26__se_se_expand False\n",
            "594 BlockGroup4__block_26__se_se_excite False\n",
            "595 add_387 False\n",
            "596 BlockGroup4__block_26__output_act False\n",
            "597 BlockGroup4__block_27__conv_1 False\n",
            "598 BlockGroup4__block_27_batch_norm_1 False\n",
            "599 BlockGroup4__block_27__act_1 False\n",
            "600 BlockGroup4__block_27__conv_2 False\n",
            "601 BlockGroup4__block_27__batch_norm_2 False\n",
            "602 BlockGroup4__block_27__act_2 False\n",
            "603 BlockGroup4__block_27__conv_3 False\n",
            "604 BlockGroup4__block_27__batch_norm_3 False\n",
            "605 BlockGroup4__block_27__se_se_squeeze False\n",
            "606 BlockGroup4__block_27__se_se_reshape False\n",
            "607 BlockGroup4__block_27__se_se_reduce False\n",
            "608 BlockGroup4__block_27__se_se_expand False\n",
            "609 BlockGroup4__block_27__se_se_excite False\n",
            "610 add_388 False\n",
            "611 BlockGroup4__block_27__output_act False\n",
            "612 BlockGroup4__block_28__conv_1 False\n",
            "613 BlockGroup4__block_28_batch_norm_1 False\n",
            "614 BlockGroup4__block_28__act_1 False\n",
            "615 BlockGroup4__block_28__conv_2 False\n",
            "616 BlockGroup4__block_28__batch_norm_2 False\n",
            "617 BlockGroup4__block_28__act_2 False\n",
            "618 BlockGroup4__block_28__conv_3 False\n",
            "619 BlockGroup4__block_28__batch_norm_3 False\n",
            "620 BlockGroup4__block_28__se_se_squeeze False\n",
            "621 BlockGroup4__block_28__se_se_reshape False\n",
            "622 BlockGroup4__block_28__se_se_reduce False\n",
            "623 BlockGroup4__block_28__se_se_expand False\n",
            "624 BlockGroup4__block_28__se_se_excite False\n",
            "625 add_389 False\n",
            "626 BlockGroup4__block_28__output_act False\n",
            "627 BlockGroup4__block_29__conv_1 False\n",
            "628 BlockGroup4__block_29_batch_norm_1 False\n",
            "629 BlockGroup4__block_29__act_1 False\n",
            "630 BlockGroup4__block_29__conv_2 False\n",
            "631 BlockGroup4__block_29__batch_norm_2 False\n",
            "632 BlockGroup4__block_29__act_2 False\n",
            "633 BlockGroup4__block_29__conv_3 False\n",
            "634 BlockGroup4__block_29__batch_norm_3 False\n",
            "635 BlockGroup4__block_29__se_se_squeeze False\n",
            "636 BlockGroup4__block_29__se_se_reshape False\n",
            "637 BlockGroup4__block_29__se_se_reduce False\n",
            "638 BlockGroup4__block_29__se_se_expand False\n",
            "639 BlockGroup4__block_29__se_se_excite False\n",
            "640 add_390 False\n",
            "641 BlockGroup4__block_29__output_act False\n",
            "642 BlockGroup4__block_30__conv_1 False\n",
            "643 BlockGroup4__block_30_batch_norm_1 False\n",
            "644 BlockGroup4__block_30__act_1 False\n",
            "645 BlockGroup4__block_30__conv_2 False\n",
            "646 BlockGroup4__block_30__batch_norm_2 False\n",
            "647 BlockGroup4__block_30__act_2 False\n",
            "648 BlockGroup4__block_30__conv_3 False\n",
            "649 BlockGroup4__block_30__batch_norm_3 False\n",
            "650 BlockGroup4__block_30__se_se_squeeze False\n",
            "651 BlockGroup4__block_30__se_se_reshape False\n",
            "652 BlockGroup4__block_30__se_se_reduce False\n",
            "653 BlockGroup4__block_30__se_se_expand False\n",
            "654 BlockGroup4__block_30__se_se_excite False\n",
            "655 add_391 False\n",
            "656 BlockGroup4__block_30__output_act False\n",
            "657 BlockGroup4__block_31__conv_1 False\n",
            "658 BlockGroup4__block_31_batch_norm_1 False\n",
            "659 BlockGroup4__block_31__act_1 False\n",
            "660 BlockGroup4__block_31__conv_2 False\n",
            "661 BlockGroup4__block_31__batch_norm_2 False\n",
            "662 BlockGroup4__block_31__act_2 False\n",
            "663 BlockGroup4__block_31__conv_3 False\n",
            "664 BlockGroup4__block_31__batch_norm_3 False\n",
            "665 BlockGroup4__block_31__se_se_squeeze False\n",
            "666 BlockGroup4__block_31__se_se_reshape False\n",
            "667 BlockGroup4__block_31__se_se_reduce False\n",
            "668 BlockGroup4__block_31__se_se_expand False\n",
            "669 BlockGroup4__block_31__se_se_excite False\n",
            "670 add_392 False\n",
            "671 BlockGroup4__block_31__output_act False\n",
            "672 BlockGroup4__block_32__conv_1 False\n",
            "673 BlockGroup4__block_32_batch_norm_1 False\n",
            "674 BlockGroup4__block_32__act_1 False\n",
            "675 BlockGroup4__block_32__conv_2 False\n",
            "676 BlockGroup4__block_32__batch_norm_2 False\n",
            "677 BlockGroup4__block_32__act_2 False\n",
            "678 BlockGroup4__block_32__conv_3 False\n",
            "679 BlockGroup4__block_32__batch_norm_3 False\n",
            "680 BlockGroup4__block_32__se_se_squeeze False\n",
            "681 BlockGroup4__block_32__se_se_reshape False\n",
            "682 BlockGroup4__block_32__se_se_reduce False\n",
            "683 BlockGroup4__block_32__se_se_expand False\n",
            "684 BlockGroup4__block_32__se_se_excite False\n",
            "685 add_393 False\n",
            "686 BlockGroup4__block_32__output_act False\n",
            "687 BlockGroup4__block_33__conv_1 False\n",
            "688 BlockGroup4__block_33_batch_norm_1 False\n",
            "689 BlockGroup4__block_33__act_1 False\n",
            "690 BlockGroup4__block_33__conv_2 False\n",
            "691 BlockGroup4__block_33__batch_norm_2 False\n",
            "692 BlockGroup4__block_33__act_2 False\n",
            "693 BlockGroup4__block_33__conv_3 False\n",
            "694 BlockGroup4__block_33__batch_norm_3 False\n",
            "695 BlockGroup4__block_33__se_se_squeeze False\n",
            "696 BlockGroup4__block_33__se_se_reshape False\n",
            "697 BlockGroup4__block_33__se_se_reduce False\n",
            "698 BlockGroup4__block_33__se_se_expand False\n",
            "699 BlockGroup4__block_33__se_se_excite False\n",
            "700 add_394 False\n",
            "701 BlockGroup4__block_33__output_act False\n",
            "702 BlockGroup4__block_34__conv_1 False\n",
            "703 BlockGroup4__block_34_batch_norm_1 False\n",
            "704 BlockGroup4__block_34__act_1 False\n",
            "705 BlockGroup4__block_34__conv_2 False\n",
            "706 BlockGroup4__block_34__batch_norm_2 False\n",
            "707 BlockGroup4__block_34__act_2 False\n",
            "708 BlockGroup4__block_34__conv_3 False\n",
            "709 BlockGroup4__block_34__batch_norm_3 False\n",
            "710 BlockGroup4__block_34__se_se_squeeze False\n",
            "711 BlockGroup4__block_34__se_se_reshape False\n",
            "712 BlockGroup4__block_34__se_se_reduce False\n",
            "713 BlockGroup4__block_34__se_se_expand False\n",
            "714 BlockGroup4__block_34__se_se_excite False\n",
            "715 add_395 False\n",
            "716 BlockGroup4__block_34__output_act False\n",
            "717 BlockGroup4__block_35__conv_1 False\n",
            "718 BlockGroup4__block_35_batch_norm_1 False\n",
            "719 BlockGroup4__block_35__act_1 False\n",
            "720 BlockGroup4__block_35__conv_2 False\n",
            "721 BlockGroup4__block_35__batch_norm_2 False\n",
            "722 BlockGroup4__block_35__act_2 False\n",
            "723 BlockGroup4__block_35__conv_3 False\n",
            "724 BlockGroup4__block_35__batch_norm_3 False\n",
            "725 BlockGroup4__block_35__se_se_squeeze False\n",
            "726 BlockGroup4__block_35__se_se_reshape False\n",
            "727 BlockGroup4__block_35__se_se_reduce False\n",
            "728 BlockGroup4__block_35__se_se_expand False\n",
            "729 BlockGroup4__block_35__se_se_excite False\n",
            "730 add_396 False\n",
            "731 BlockGroup4__block_35__output_act False\n",
            "732 BlockGroup5__block_0__conv_1 False\n",
            "733 BlockGroup5__block_0_batch_norm_1 False\n",
            "734 BlockGroup5__block_0__act_1 False\n",
            "735 zero_padding2d_39 False\n",
            "736 BlockGroup5__block_0__conv_2 False\n",
            "737 BlockGroup5__block_0__batch_norm_2 False\n",
            "738 BlockGroup5__block_0__act_2 False\n",
            "739 BlockGroup5__block_0__conv_3 False\n",
            "740 BlockGroup5__block_0__batch_norm_3 False\n",
            "741 BlockGroup5__block_0__se_se_squeeze False\n",
            "742 BlockGroup5__block_0__se_se_reshape False\n",
            "743 BlockGroup5__block_0__se_se_reduce False\n",
            "744 BlockGroup5__block_0__projection_pooling False\n",
            "745 BlockGroup5__block_0__se_se_expand False\n",
            "746 BlockGroup5__block_0__projection_conv False\n",
            "747 BlockGroup5__block_0__se_se_excite False\n",
            "748 BlockGroup5__block_0__projection_batch_norm False\n",
            "749 add_397 False\n",
            "750 BlockGroup5__block_0__output_act False\n",
            "751 BlockGroup5__block_1__conv_1 False\n",
            "752 BlockGroup5__block_1_batch_norm_1 False\n",
            "753 BlockGroup5__block_1__act_1 False\n",
            "754 BlockGroup5__block_1__conv_2 False\n",
            "755 BlockGroup5__block_1__batch_norm_2 False\n",
            "756 BlockGroup5__block_1__act_2 False\n",
            "757 BlockGroup5__block_1__conv_3 False\n",
            "758 BlockGroup5__block_1__batch_norm_3 False\n",
            "759 BlockGroup5__block_1__se_se_squeeze False\n",
            "760 BlockGroup5__block_1__se_se_reshape False\n",
            "761 BlockGroup5__block_1__se_se_reduce False\n",
            "762 BlockGroup5__block_1__se_se_expand False\n",
            "763 BlockGroup5__block_1__se_se_excite False\n",
            "764 add_398 False\n",
            "765 BlockGroup5__block_1__output_act False\n",
            "766 BlockGroup5__block_2__conv_1 False\n",
            "767 BlockGroup5__block_2_batch_norm_1 False\n",
            "768 BlockGroup5__block_2__act_1 False\n",
            "769 BlockGroup5__block_2__conv_2 False\n",
            "770 BlockGroup5__block_2__batch_norm_2 False\n",
            "771 BlockGroup5__block_2__act_2 False\n",
            "772 BlockGroup5__block_2__conv_3 False\n",
            "773 BlockGroup5__block_2__batch_norm_3 False\n",
            "774 BlockGroup5__block_2__se_se_squeeze False\n",
            "775 BlockGroup5__block_2__se_se_reshape False\n",
            "776 BlockGroup5__block_2__se_se_reduce False\n",
            "777 BlockGroup5__block_2__se_se_expand False\n",
            "778 BlockGroup5__block_2__se_se_excite False\n",
            "779 add_399 False\n",
            "780 BlockGroup5__block_2__output_act False\n"
          ]
        }
      ]
    },
    {
      "cell_type": "code",
      "source": [
        "# Let's begin fine-tuning \n",
        "base_model.trainable = True\n",
        "\n",
        "# Freeze all layers except for the last 10\n",
        "for layer in base_model.layers[:-10]:\n",
        "  layers.trainable = False\n",
        "\n",
        "# Recompile\n",
        "model_2.compile(loss='binary_crossentropy',\n",
        "                optimizer=Adam(lr=0.0001), # lr is 10x lowwer than before for fine-tuning\n",
        "                metrics=['accuracy'])"
      ],
      "metadata": {
        "colab": {
          "base_uri": "https://localhost:8080/"
        },
        "id": "AJp0YGdNyyiO",
        "outputId": "a12269af-8aa1-42c2-ea6e-bf8d896da670"
      },
      "execution_count": 155,
      "outputs": [
        {
          "output_type": "stream",
          "name": "stderr",
          "text": [
            "WARNING:absl:`lr` is deprecated, please use `learning_rate` instead, or use the legacy optimizer, e.g.,tf.keras.optimizers.legacy.Adam.\n"
          ]
        }
      ]
    },
    {
      "cell_type": "code",
      "source": [
        "fine_tune_epochs = 10 + 10 # 10 being the initial epoch value we used for feature extraction\n",
        "\n",
        "history_fine_resnet_model_2 = resnet_model_1.fit(train_data,\n",
        "                                            epochs=fine_tune_epochs,\n",
        "                                            validation_data=test_data,\n",
        "                                            steps_per_epoch=len(train_data),\n",
        "                                            validation_steps=int(0.25 * len(test_data)),\n",
        "                                            callbacks= [checkpoint_callback])"
      ],
      "metadata": {
        "colab": {
          "base_uri": "https://localhost:8080/"
        },
        "id": "R3Mia_iLz8w6",
        "outputId": "3bcc9406-c49e-424a-cd2d-962c734f651e"
      },
      "execution_count": 156,
      "outputs": [
        {
          "output_type": "stream",
          "name": "stdout",
          "text": [
            "Epoch 1/20\n",
            "63/63 [==============================] - ETA: 0s - loss: 0.5230 - accuracy: 0.7622\n",
            "Epoch 1: saving model to resnet_models_checkpoints_weights.ckpt\n",
            "63/63 [==============================] - 22s 349ms/step - loss: 0.5230 - accuracy: 0.7622 - val_loss: 0.6148 - val_accuracy: 0.6719\n",
            "Epoch 2/20\n",
            "63/63 [==============================] - ETA: 0s - loss: 0.5233 - accuracy: 0.7521\n",
            "Epoch 2: saving model to resnet_models_checkpoints_weights.ckpt\n",
            "63/63 [==============================] - 23s 367ms/step - loss: 0.5233 - accuracy: 0.7521 - val_loss: 0.6318 - val_accuracy: 0.6797\n",
            "Epoch 3/20\n",
            "63/63 [==============================] - ETA: 0s - loss: 0.5169 - accuracy: 0.7652\n",
            "Epoch 3: saving model to resnet_models_checkpoints_weights.ckpt\n",
            "63/63 [==============================] - 23s 368ms/step - loss: 0.5169 - accuracy: 0.7652 - val_loss: 0.6025 - val_accuracy: 0.6953\n",
            "Epoch 4/20\n",
            "63/63 [==============================] - ETA: 0s - loss: 0.5251 - accuracy: 0.7335\n",
            "Epoch 4: saving model to resnet_models_checkpoints_weights.ckpt\n",
            "63/63 [==============================] - 22s 344ms/step - loss: 0.5251 - accuracy: 0.7335 - val_loss: 0.5650 - val_accuracy: 0.7109\n",
            "Epoch 5/20\n",
            "63/63 [==============================] - ETA: 0s - loss: 0.4873 - accuracy: 0.7652\n",
            "Epoch 5: saving model to resnet_models_checkpoints_weights.ckpt\n",
            "63/63 [==============================] - 23s 368ms/step - loss: 0.4873 - accuracy: 0.7652 - val_loss: 0.5762 - val_accuracy: 0.6797\n",
            "Epoch 6/20\n",
            "63/63 [==============================] - ETA: 0s - loss: 0.5146 - accuracy: 0.7713\n",
            "Epoch 6: saving model to resnet_models_checkpoints_weights.ckpt\n",
            "63/63 [==============================] - 24s 381ms/step - loss: 0.5146 - accuracy: 0.7713 - val_loss: 0.6234 - val_accuracy: 0.6641\n",
            "Epoch 7/20\n",
            "63/63 [==============================] - ETA: 0s - loss: 0.4924 - accuracy: 0.7884\n",
            "Epoch 7: saving model to resnet_models_checkpoints_weights.ckpt\n",
            "63/63 [==============================] - 21s 338ms/step - loss: 0.4924 - accuracy: 0.7884 - val_loss: 0.5550 - val_accuracy: 0.7578\n",
            "Epoch 8/20\n",
            "63/63 [==============================] - ETA: 0s - loss: 0.5075 - accuracy: 0.7733\n",
            "Epoch 8: saving model to resnet_models_checkpoints_weights.ckpt\n",
            "63/63 [==============================] - 23s 366ms/step - loss: 0.5075 - accuracy: 0.7733 - val_loss: 0.5959 - val_accuracy: 0.7266\n",
            "Epoch 9/20\n",
            "63/63 [==============================] - ETA: 0s - loss: 0.4639 - accuracy: 0.8131\n",
            "Epoch 9: saving model to resnet_models_checkpoints_weights.ckpt\n",
            "63/63 [==============================] - 22s 349ms/step - loss: 0.4639 - accuracy: 0.8131 - val_loss: 0.6243 - val_accuracy: 0.6406\n",
            "Epoch 10/20\n",
            "63/63 [==============================] - ETA: 0s - loss: 0.4739 - accuracy: 0.7849\n",
            "Epoch 10: saving model to resnet_models_checkpoints_weights.ckpt\n",
            "63/63 [==============================] - 22s 345ms/step - loss: 0.4739 - accuracy: 0.7849 - val_loss: 0.7072 - val_accuracy: 0.6172\n",
            "Epoch 11/20\n",
            "63/63 [==============================] - ETA: 0s - loss: 0.4669 - accuracy: 0.7935\n",
            "Epoch 11: saving model to resnet_models_checkpoints_weights.ckpt\n",
            "63/63 [==============================] - 23s 364ms/step - loss: 0.4669 - accuracy: 0.7935 - val_loss: 0.6928 - val_accuracy: 0.6406\n",
            "Epoch 12/20\n",
            "63/63 [==============================] - ETA: 0s - loss: 0.4946 - accuracy: 0.7778\n",
            "Epoch 12: saving model to resnet_models_checkpoints_weights.ckpt\n",
            "63/63 [==============================] - 22s 345ms/step - loss: 0.4946 - accuracy: 0.7778 - val_loss: 0.6677 - val_accuracy: 0.6250\n",
            "Epoch 13/20\n",
            "63/63 [==============================] - ETA: 0s - loss: 0.4587 - accuracy: 0.8045\n",
            "Epoch 13: saving model to resnet_models_checkpoints_weights.ckpt\n",
            "63/63 [==============================] - 23s 356ms/step - loss: 0.4587 - accuracy: 0.8045 - val_loss: 0.5811 - val_accuracy: 0.6797\n",
            "Epoch 14/20\n",
            "63/63 [==============================] - ETA: 0s - loss: 0.4786 - accuracy: 0.7804\n",
            "Epoch 14: saving model to resnet_models_checkpoints_weights.ckpt\n",
            "63/63 [==============================] - 24s 375ms/step - loss: 0.4786 - accuracy: 0.7804 - val_loss: 0.6536 - val_accuracy: 0.6328\n",
            "Epoch 15/20\n",
            "63/63 [==============================] - ETA: 0s - loss: 0.4814 - accuracy: 0.7824\n",
            "Epoch 15: saving model to resnet_models_checkpoints_weights.ckpt\n",
            "63/63 [==============================] - 22s 339ms/step - loss: 0.4814 - accuracy: 0.7824 - val_loss: 0.6106 - val_accuracy: 0.6797\n",
            "Epoch 16/20\n",
            "63/63 [==============================] - ETA: 0s - loss: 0.4671 - accuracy: 0.7965\n",
            "Epoch 16: saving model to resnet_models_checkpoints_weights.ckpt\n",
            "63/63 [==============================] - 23s 357ms/step - loss: 0.4671 - accuracy: 0.7965 - val_loss: 0.5853 - val_accuracy: 0.7031\n",
            "Epoch 17/20\n",
            "63/63 [==============================] - ETA: 0s - loss: 0.4470 - accuracy: 0.8071\n",
            "Epoch 17: saving model to resnet_models_checkpoints_weights.ckpt\n",
            "63/63 [==============================] - 22s 349ms/step - loss: 0.4470 - accuracy: 0.8071 - val_loss: 0.6503 - val_accuracy: 0.6172\n",
            "Epoch 18/20\n",
            "63/63 [==============================] - ETA: 0s - loss: 0.4620 - accuracy: 0.8050\n",
            "Epoch 18: saving model to resnet_models_checkpoints_weights.ckpt\n",
            "63/63 [==============================] - 23s 356ms/step - loss: 0.4620 - accuracy: 0.8050 - val_loss: 0.5850 - val_accuracy: 0.7109\n",
            "Epoch 19/20\n",
            "63/63 [==============================] - ETA: 0s - loss: 0.4431 - accuracy: 0.8076\n",
            "Epoch 19: saving model to resnet_models_checkpoints_weights.ckpt\n",
            "63/63 [==============================] - 22s 341ms/step - loss: 0.4431 - accuracy: 0.8076 - val_loss: 0.5987 - val_accuracy: 0.7031\n",
            "Epoch 20/20\n",
            "63/63 [==============================] - ETA: 0s - loss: 0.4550 - accuracy: 0.7904\n",
            "Epoch 20: saving model to resnet_models_checkpoints_weights.ckpt\n",
            "63/63 [==============================] - 22s 349ms/step - loss: 0.4550 - accuracy: 0.7904 - val_loss: 0.5830 - val_accuracy: 0.6875\n"
          ]
        }
      ]
    },
    {
      "cell_type": "code",
      "source": [
        "def compare_historys(original_history, new_history, initial_epochs=5):\n",
        "    \"\"\"\n",
        "    Compares two model history objects.\n",
        "    \"\"\"\n",
        "    # Get original history measurements\n",
        "    acc = original_history.history[\"accuracy\"]\n",
        "    loss = original_history.history[\"loss\"]\n",
        "\n",
        "    print(len(acc))\n",
        "\n",
        "    val_acc = original_history.history[\"val_accuracy\"]\n",
        "    val_loss = original_history.history[\"val_loss\"]\n",
        "\n",
        "    # Combine original history with new history\n",
        "    total_acc = acc + new_history.history[\"accuracy\"]\n",
        "    total_loss = loss + new_history.history[\"loss\"]\n",
        "\n",
        "    total_val_acc = val_acc + new_history.history[\"val_accuracy\"]\n",
        "    total_val_loss = val_loss + new_history.history[\"val_loss\"]\n",
        "\n",
        "    print(len(total_acc))\n",
        "    print(total_acc)\n",
        "\n",
        "    # Make plots\n",
        "    plt.figure(figsize=(8, 8))\n",
        "    plt.subplot(2, 1, 1)\n",
        "    plt.plot(total_acc, label='Training Accuracy')\n",
        "    plt.plot(total_val_acc, label='Validation Accuracy')\n",
        "    plt.plot([initial_epochs-1, initial_epochs-1],\n",
        "              plt.ylim(), label='Start Fine Tuning') # reshift plot around epochs\n",
        "    plt.legend(loc='lower right')\n",
        "    plt.title('Training and Validation Accuracy')\n",
        "\n",
        "    plt.subplot(2, 1, 2)\n",
        "    plt.plot(total_loss, label='Training Loss')\n",
        "    plt.plot(total_val_loss, label='Validation Loss')\n",
        "    plt.plot([initial_epochs-1, initial_epochs-1],\n",
        "              plt.ylim(), label='Start Fine Tuning') # reshift plot around epochs\n",
        "    plt.legend(loc='upper right')\n",
        "    plt.title('Training and Validation Loss')\n",
        "    plt.xlabel('epoch')\n",
        "    plt.show()"
      ],
      "metadata": {
        "id": "q3TMS4T2Ki-y"
      },
      "execution_count": null,
      "outputs": []
    },
    {
      "cell_type": "code",
      "source": [
        "compare_historys(original_history=history_resnet_model_1,\n",
        "                 new_history=history_fine_resnet_model_2,\n",
        "                 initial_epochs=10)"
      ],
      "metadata": {
        "id": "k2cCOV1sP3-S"
      },
      "execution_count": null,
      "outputs": []
    },
    {
      "cell_type": "code",
      "source": [
        "pred_probs = resnet_model_1.predict(test_data, verbose=1)"
      ],
      "metadata": {
        "id": "zAh77KyaP7Uc"
      },
      "execution_count": null,
      "outputs": []
    },
    {
      "cell_type": "code",
      "source": [
        "len(pred_probs)"
      ],
      "metadata": {
        "id": "-R9FDvZ7P89b"
      },
      "execution_count": null,
      "outputs": []
    },
    {
      "cell_type": "code",
      "source": [
        "pred_probs[:10]"
      ],
      "metadata": {
        "id": "nki858hTP-Hy"
      },
      "execution_count": null,
      "outputs": []
    },
    {
      "cell_type": "code",
      "source": [
        "# We get one prediction probability per class\n",
        "print(f\"Number of prediction probabilities for sample 0: {len(pred_probs[0])}\")\n",
        "print(f\"What prediction probability sample 0 looks like:\\n {pred_probs[0]}\")"
      ],
      "metadata": {
        "id": "B6h55PMxP_Nq"
      },
      "execution_count": null,
      "outputs": []
    },
    {
      "cell_type": "code",
      "source": [
        "pred_classes = pred_probs.argmax(axis=1)\n",
        "pred_classes"
      ],
      "metadata": {
        "id": "H4d_B7axQBeE"
      },
      "execution_count": null,
      "outputs": []
    },
    {
      "cell_type": "code",
      "source": [
        "y_labels = []\n",
        "for images, labels in test_data.unbatch():\n",
        "  y_labels.append(labels.numpy().argmax())\n",
        "y_labels[:10]"
      ],
      "metadata": {
        "id": "nKM8psxDQDEs"
      },
      "execution_count": null,
      "outputs": []
    },
    {
      "cell_type": "code",
      "source": [
        "from skleran.metrics import accuracy_score\n",
        "sklearn_accuracy = accuracy_score(y_labels, pred_classes)\n",
        "sklearn_accuracy"
      ],
      "metadata": {
        "id": "S3oLuDCjQFMB"
      },
      "execution_count": null,
      "outputs": []
    },
    {
      "cell_type": "code",
      "source": [
        "def make_confusion_matrix(y_true, y_pred, classes=None, figsize=(10, 10), text_size=15, norm=False, savefig=False): \n",
        "  \"\"\"Makes a labelled confusion matrix comparing predictions and ground truth labels.\n",
        "\n",
        "  If classes is passed, confusion matrix will be labelled, if not, integer class values\n",
        "  will be used.\n",
        "\n",
        "  Args:\n",
        "    y_true: Array of truth labels (must be same shape as y_pred).\n",
        "    y_pred: Array of predicted labels (must be same shape as y_true).\n",
        "    classes: Array of class labels (e.g. string form). If `None`, integer labels are used.\n",
        "    figsize: Size of output figure (default=(10, 10)).\n",
        "    text_size: Size of output figure text (default=15).\n",
        "    norm: normalize values or not (default=False).\n",
        "    savefig: save confusion matrix to file (default=False).\n",
        "  \n",
        "  Returns:\n",
        "    A labelled confusion matrix plot comparing y_true and y_pred.\n",
        "\n",
        "  Example usage:\n",
        "    make_confusion_matrix(y_true=test_labels, # ground truth test labels\n",
        "                          y_pred=y_preds, # predicted labels\n",
        "                          classes=class_names, # array of class label names\n",
        "                          figsize=(15, 15),\n",
        "                          text_size=10)\n",
        "  \"\"\"  \n",
        "  # Create the confustion matrix\n",
        "  cm = confusion_matrix(y_true, y_pred)\n",
        "  cm_norm = cm.astype(\"float\") / cm.sum(axis=1)[:, np.newaxis] # normalize it\n",
        "  n_classes = cm.shape[0] # find the number of classes we're dealing with\n",
        "\n",
        "  # Plot the figure and make it pretty\n",
        "  fig, ax = plt.subplots(figsize=figsize)\n",
        "  cax = ax.matshow(cm, cmap=plt.cm.Blues) # colors will represent how 'correct' a class is, darker == better\n",
        "  fig.colorbar(cax)\n",
        "\n",
        "  # Are there a list of classes?\n",
        "  if classes:\n",
        "    labels = classes\n",
        "  else:\n",
        "    labels = np.arange(cm.shape[0])\n",
        "  \n",
        "  # Label the axes\n",
        "  ax.set(title=\"Confusion Matrix\",\n",
        "         xlabel=\"Predicted label\",\n",
        "         ylabel=\"True label\",\n",
        "         xticks=np.arange(n_classes), # create enough axis slots for each class\n",
        "         yticks=np.arange(n_classes), \n",
        "         xticklabels=labels, # axes will labeled with class names (if they exist) or ints\n",
        "         yticklabels=labels)\n",
        "  \n",
        "  # Make x-axis labels appear on bottom\n",
        "  ax.xaxis.set_label_position(\"bottom\")\n",
        "  ax.xaxis.tick_bottom()\n",
        "\n",
        "  # Set the threshold for different colors\n",
        "  threshold = (cm.max() + cm.min()) / 2.\n",
        "\n",
        "  # Plot the text on each cell\n",
        "  for i, j in itertools.product(range(cm.shape[0]), range(cm.shape[1])):\n",
        "    if norm:\n",
        "      plt.text(j, i, f\"{cm[i, j]} ({cm_norm[i, j]*100:.1f}%)\",\n",
        "              horizontalalignment=\"center\",\n",
        "              color=\"white\" if cm[i, j] > threshold else \"black\",\n",
        "              size=text_size)\n",
        "    else:\n",
        "      plt.text(j, i, f\"{cm[i, j]}\",\n",
        "              horizontalalignment=\"center\",\n",
        "              color=\"white\" if cm[i, j] > threshold else \"black\",\n",
        "              size=text_size)\n",
        "\n",
        "  # Save the figure to the current working directory\n",
        "  if savefig:\n",
        "    fig.savefig(\"confusion_matrix.png\")"
      ],
      "metadata": {
        "id": "xF-cJ06aQG6M"
      },
      "execution_count": null,
      "outputs": []
    },
    {
      "cell_type": "code",
      "source": [
        "make_confusion_matrix(y_true=y_labels,\n",
        "                      y_pred=pred_classes,\n",
        "                      classes=['COVID','non-COVID'],\n",
        "                      figsize=(12,12),\n",
        "                      norm=False,\n",
        "                      savefig=True)"
      ],
      "metadata": {
        "id": "U0TLtbEIQK5i"
      },
      "execution_count": null,
      "outputs": []
    },
    {
      "cell_type": "code",
      "source": [
        "from sklearn.metrics import classsification_report \n",
        "classification_report_dict = classification_report(y_label, pred_classes, output_dict=True)\n",
        "classification_report_dict"
      ],
      "metadata": {
        "id": "JY2Q0UScQNIq"
      },
      "execution_count": null,
      "outputs": []
    },
    {
      "cell_type": "code",
      "source": [
        "class_f1_scores = {}\n",
        "\n",
        "for k, v in classification_report_dict:\n",
        "  if k == 'accuracy':\n",
        "    break\n",
        "  else:\n",
        "    class_f1_scores[class_names[int(k)]] = v['f1-score']\n",
        "class_f1_scores\n"
      ],
      "metadata": {
        "id": "uKHYZ6LLQO_g"
      },
      "execution_count": null,
      "outputs": []
    },
    {
      "cell_type": "code",
      "source": [
        "# Turn f1-scores into  dataframe for visualization\n",
        "import pandas as pd\n",
        "f1_scores = pd.DataFrame({'class_names': list(class_f1_scores.keys()),\n",
        "                          'f1-score': list(class_f1_scores.values())}).sort_values(\"f1_score\",ascending=False)"
      ],
      "metadata": {
        "id": "cClDbr4mQQkN"
      },
      "execution_count": null,
      "outputs": []
    },
    {
      "cell_type": "code",
      "source": [
        "fig, ax = plt.subplots(figsize=(12,12))\n",
        "scores = ax.barh(range(len(f1_scores)), f1_scores[\"f1-score\"].values)\n",
        "ax.set_yticks(range(len(f1_scores)))\n",
        "ax.set_yticklabels(list(f1_scores[\"class_name\"]))\n",
        "ax.set_xlabel(\"f1_score\")\n",
        "ax.set_title(\"f1-Scores for 2 Classes\")\n",
        "ax.invert_yaxis();\n",
        "\n",
        "def autolabel(rects):\n",
        "  \"\"\"\n",
        "  Attach a text label above each bar displaying it's height (it's value).\n",
        "  \"\"\"\n",
        "  for rect in rects:\n",
        "    width = rect.get_width()\n",
        "    ax.text(1.03*width, rect.get_y() + rect.get_height()/1.5,\n",
        "            f\"{width:.2f}\",\n",
        "            ha='center', va='bottom')\n",
        "autolabel(scores)"
      ],
      "metadata": {
        "id": "bGAO--LSQSPR"
      },
      "execution_count": null,
      "outputs": []
    }
  ]
}